{
 "cells": [
  {
   "cell_type": "markdown",
   "metadata": {},
   "source": [
    "# 0. Introduction"
   ]
  },
  {
   "cell_type": "markdown",
   "metadata": {
    "application/vnd.databricks.v1+cell": {
     "cellMetadata": {},
     "inputWidgets": {},
     "nuid": "d8e162d1-a0e1-4da2-8285-598abae0fc07",
     "showTitle": false,
     "title": ""
    }
   },
   "source": [
    "**This project is the final project for Distributed Big Data Systems for MSc1 Data Science and AI, University Nice Côte d'Azur.**\n",
    "\n",
    "**Professors: Fabrice Huet and Boris Shminke.**\n",
    "\n",
    "**Student: NGUYEN Huyen Trang.**\n",
    "\n",
    "**In this final project, I will use Apache Spark to build a machine learning pipeline to:**\n",
    "\n",
    "- Read data\n",
    "\n",
    "- Transform data (extracting features, dealing with missing values, etc)\n",
    "\n",
    "- Exploratory data analysis (EDA)\n",
    "\n",
    "- Build different classification models (LogisticRegression, DecisionTreeClassifier, LinearSVC, GBTClassifier), each model with different parameters (hyperparameters tuning)\n",
    "\n",
    "- Evaluate quality (using cross-validation and train/test split)\n",
    "\n",
    "- Model evaluation (Evaluate different metrics: AreaUnderROC and AreaUnderPR).\n",
    "\n",
    "**Data being used in this final project: binary classification problem about the possibility of rain in each day in Australia (target column: RainTomorrow, Binary output: ('Yes' or 'No'))**\n",
    "\n",
    "**The data can be found in https://www.kaggle.com/datasets/jsphyg/weather-dataset-rattle-package.**"
   ]
  },
  {
   "cell_type": "markdown",
   "metadata": {
    "application/vnd.databricks.v1+cell": {
     "cellMetadata": {},
     "inputWidgets": {},
     "nuid": "18b8f2e6-a53a-46b9-8d90-ca2cfa4137f9",
     "showTitle": false,
     "title": ""
    }
   },
   "source": [
    "# 1. Reading data"
   ]
  },
  {
   "cell_type": "markdown",
   "metadata": {
    "application/vnd.databricks.v1+cell": {
     "cellMetadata": {},
     "inputWidgets": {},
     "nuid": "82152ff9-cf52-4d60-a2f4-222eb2a8f9da",
     "showTitle": false,
     "title": ""
    }
   },
   "source": [
    "## 1.1. Import important libraries"
   ]
  },
  {
   "cell_type": "code",
   "execution_count": 0,
   "metadata": {
    "application/vnd.databricks.v1+cell": {
     "cellMetadata": {},
     "inputWidgets": {},
     "nuid": "8b0bfa18-0c8e-4cea-bac9-9e2cf3884983",
     "showTitle": false,
     "title": ""
    }
   },
   "outputs": [
    {
     "data": {
      "application/vnd.databricks.v1+bamboolib_hint": "{\"pd.DataFrames\": [], \"version\": \"0.0.1\"}",
      "text/plain": []
     },
     "metadata": {
      "application/vnd.databricks.v1+output": {
       "addedWidgets": {},
       "arguments": {},
       "data": {
        "application/vnd.databricks.v1+bamboolib_hint": "{\"pd.DataFrames\": [], \"version\": \"0.0.1\"}",
        "text/plain": ""
       },
       "datasetInfos": [],
       "metadata": {
        "kernelSessionId": "7b206df3-d7844b7401d38c7149bc9484"
       },
       "removedWidgets": [],
       "type": "mimeBundle"
      }
     },
     "output_type": "display_data"
    }
   ],
   "source": [
    "import json\n",
    "#import pandas \n",
    "import os\n",
    "from pyspark import pandas as pd\n",
    "from pyspark.sql.functions import col, count, isnan, to_timestamp, when\n",
    "\n",
    "import numpy as np\n",
    "import pandas as pd\n",
    "import plotly.express as px\n",
    "from pyspark.ml import Pipeline\n",
    "from pyspark.ml.feature import (\n",
    "    OneHotEncoder,\n",
    "    StandardScaler,\n",
    "    StringIndexer,\n",
    "    VectorAssembler,\n",
    ")\n",
    "from pyspark.ml.stat import Correlation\n",
    "from pyspark.ml.tuning import ParamGridBuilder, TrainValidationSplit\n",
    "from pyspark.sql import SparkSession\n",
    "from pyspark.sql.functions import col, count, isnan, to_timestamp, when\n",
    "from pyspark.sql.types import DoubleType"
   ]
  },
  {
   "cell_type": "markdown",
   "metadata": {
    "application/vnd.databricks.v1+cell": {
     "cellMetadata": {},
     "inputWidgets": {},
     "nuid": "f4bcec17-445f-402f-be0a-c9116391e7ee",
     "showTitle": false,
     "title": ""
    }
   },
   "source": [
    "## 1.2. Reading data"
   ]
  },
  {
   "cell_type": "code",
   "execution_count": 0,
   "metadata": {
    "application/vnd.databricks.v1+cell": {
     "cellMetadata": {},
     "inputWidgets": {},
     "nuid": "f171b0f7-661a-4f50-9246-ad779edde2d4",
     "showTitle": false,
     "title": ""
    }
   },
   "outputs": [
    {
     "data": {
      "text/plain": [
       "Out[2]: [FileInfo(path='file:/root/.kaggle/kaggle.json', name='kaggle.json', size=68, modificationTime=1673566098201)]"
      ]
     },
     "metadata": {
      "application/vnd.databricks.v1+output": {
       "addedWidgets": {},
       "arguments": {},
       "data": "Out[2]: [FileInfo(path='file:/root/.kaggle/kaggle.json', name='kaggle.json', size=68, modificationTime=1673566098201)]",
       "datasetInfos": [],
       "metadata": {},
       "removedWidgets": [],
       "type": "ansi"
      }
     },
     "output_type": "display_data"
    }
   ],
   "source": [
    "dbutils.fs.ls(\"dbfs:///FileStore\") \n",
    "dbutils.fs.mkdirs(\"file:///root/.kaggle/\") \n",
    "dbutils.fs.cp(\"dbfs:///FileStore/kaggle.json\",\"file:///root/.kaggle/\") \n",
    "dbutils.fs.ls(\"file:///root/.kaggle/\") "
   ]
  },
  {
   "cell_type": "code",
   "execution_count": 0,
   "metadata": {
    "application/vnd.databricks.v1+cell": {
     "cellMetadata": {},
     "inputWidgets": {},
     "nuid": "e16766d9-96de-46b4-b400-2d82241720b2",
     "showTitle": false,
     "title": ""
    }
   },
   "outputs": [
    {
     "data": {
      "text/plain": [
       "Collecting kaggle\r\n",
       "  Using cached kaggle-1.5.12-py3-none-any.whl\r\n",
       "Collecting python-slugify\r\n",
       "  Using cached python_slugify-7.0.0-py2.py3-none-any.whl (9.4 kB)\r\n",
       "Requirement already satisfied: certifi in /databricks/python3/lib/python3.9/site-packages (from kaggle) (2021.10.8)\r\n",
       "Requirement already satisfied: python-dateutil in /databricks/python3/lib/python3.9/site-packages (from kaggle) (2.8.2)\r\n",
       "Requirement already satisfied: urllib3 in /databricks/python3/lib/python3.9/site-packages (from kaggle) (1.26.7)\r\n",
       "Requirement already satisfied: six>=1.10 in /databricks/python3/lib/python3.9/site-packages (from kaggle) (1.16.0)\r\n",
       "Collecting tqdm\r\n",
       "  Using cached tqdm-4.64.1-py2.py3-none-any.whl (78 kB)\r\n",
       "Requirement already satisfied: requests in /databricks/python3/lib/python3.9/site-packages (from kaggle) (2.26.0)\r\n",
       "Collecting text-unidecode>=1.3\r\n",
       "  Using cached text_unidecode-1.3-py2.py3-none-any.whl (78 kB)\r\n",
       "Requirement already satisfied: idna<4,>=2.5 in /databricks/python3/lib/python3.9/site-packages (from requests->kaggle) (3.2)\r\n",
       "Requirement already satisfied: charset-normalizer~=2.0.0 in /databricks/python3/lib/python3.9/site-packages (from requests->kaggle) (2.0.4)\r\n",
       "Installing collected packages: text-unidecode, tqdm, python-slugify, kaggle\r\n",
       "Successfully installed kaggle-1.5.12 python-slugify-7.0.0 text-unidecode-1.3 tqdm-4.64.1\r\n",
       "\u001b[33mWARNING: You are using pip version 21.2.4; however, version 22.3.1 is available.\r\n",
       "You should consider upgrading via the '/local_disk0/.ephemeral_nfs/envs/pythonEnv-ce13015d-6ae6-420c-8409-72480e496f71/bin/python -m pip install --upgrade pip' command.\u001b[0m\r\n",
       "Warning: Your Kaggle API key is readable by other users on this system! To fix this, you can run 'chmod 600 /root/.kaggle/kaggle.json'\n",
       "Warning: Your Kaggle API key is readable by other users on this system! To fix this, you can run 'chmod 600 /root/.kaggle/kaggle.json'\r\n",
       "weather-dataset-rattle-package.zip: Skipping, found more recently modified local copy (use --force to force download)\r\n",
       "azure\t   hadoop_accessed_config.lst  weather-dataset-rattle-package.zip\r\n",
       "conf\t   logs\t\t\t       weatherAUS.csv\r\n",
       "eventlogs  metastore_db\r\n",
       "ganglia    preload_class.lst\r\n",
       "/databricks/driver/weatherAUS.csv \n"
      ]
     },
     "metadata": {
      "application/vnd.databricks.v1+output": {
       "addedWidgets": {},
       "arguments": {},
       "data": "Collecting kaggle\r\n  Using cached kaggle-1.5.12-py3-none-any.whl\r\nCollecting python-slugify\r\n  Using cached python_slugify-7.0.0-py2.py3-none-any.whl (9.4 kB)\r\nRequirement already satisfied: certifi in /databricks/python3/lib/python3.9/site-packages (from kaggle) (2021.10.8)\r\nRequirement already satisfied: python-dateutil in /databricks/python3/lib/python3.9/site-packages (from kaggle) (2.8.2)\r\nRequirement already satisfied: urllib3 in /databricks/python3/lib/python3.9/site-packages (from kaggle) (1.26.7)\r\nRequirement already satisfied: six>=1.10 in /databricks/python3/lib/python3.9/site-packages (from kaggle) (1.16.0)\r\nCollecting tqdm\r\n  Using cached tqdm-4.64.1-py2.py3-none-any.whl (78 kB)\r\nRequirement already satisfied: requests in /databricks/python3/lib/python3.9/site-packages (from kaggle) (2.26.0)\r\nCollecting text-unidecode>=1.3\r\n  Using cached text_unidecode-1.3-py2.py3-none-any.whl (78 kB)\r\nRequirement already satisfied: idna<4,>=2.5 in /databricks/python3/lib/python3.9/site-packages (from requests->kaggle) (3.2)\r\nRequirement already satisfied: charset-normalizer~=2.0.0 in /databricks/python3/lib/python3.9/site-packages (from requests->kaggle) (2.0.4)\r\nInstalling collected packages: text-unidecode, tqdm, python-slugify, kaggle\r\nSuccessfully installed kaggle-1.5.12 python-slugify-7.0.0 text-unidecode-1.3 tqdm-4.64.1\r\n\u001b[33mWARNING: You are using pip version 21.2.4; however, version 22.3.1 is available.\r\nYou should consider upgrading via the '/local_disk0/.ephemeral_nfs/envs/pythonEnv-ce13015d-6ae6-420c-8409-72480e496f71/bin/python -m pip install --upgrade pip' command.\u001b[0m\r\nWarning: Your Kaggle API key is readable by other users on this system! To fix this, you can run 'chmod 600 /root/.kaggle/kaggle.json'\nWarning: Your Kaggle API key is readable by other users on this system! To fix this, you can run 'chmod 600 /root/.kaggle/kaggle.json'\r\nweather-dataset-rattle-package.zip: Skipping, found more recently modified local copy (use --force to force download)\r\nazure\t   hadoop_accessed_config.lst  weather-dataset-rattle-package.zip\r\nconf\t   logs\t\t\t       weatherAUS.csv\r\neventlogs  metastore_db\r\nganglia    preload_class.lst\r\n/databricks/driver/weatherAUS.csv \n",
       "datasetInfos": [],
       "metadata": {},
       "removedWidgets": [],
       "type": "ansi"
      }
     },
     "output_type": "display_data"
    }
   ],
   "source": [
    "!pip install kaggle \n",
    "import kaggle \n",
    "\n",
    "!kaggle datasets download -d jsphyg/weather-dataset-rattle-package     # ! is used for computer command system\n",
    "#!unzip weather-dataset-rattle-package.zip     #if cluster in databricks is exist, no need to unzip again\n",
    "!ls\n",
    "rain_file = \"weatherAUS.csv \" #string of name file\n",
    "file_path = os.path.join(os.getcwd(), rain_file)  \n",
    "print(file_path)\n",
    "file_path=\"file:///databricks/driver/weatherAUS.csv\""
   ]
  },
  {
   "cell_type": "markdown",
   "metadata": {
    "application/vnd.databricks.v1+cell": {
     "cellMetadata": {},
     "inputWidgets": {},
     "nuid": "63633e03-bd3e-4860-801d-bfa204e1f814",
     "showTitle": false,
     "title": ""
    }
   },
   "source": [
    "**Here, I only choose option ('header' = True), I don't consider other options to output the datatype of each column, because in the beginning of EDA (Exploratory data analysis), I want to analyse all valuess in term of strings. After that, I will change the datatype of columns if nessesary.**\n",
    "\n",
    "**In other dataset, with different purposes, we can always choose other options in reading file, such as inferSchema, delimiter, etc. as we want.**"
   ]
  },
  {
   "cell_type": "code",
   "execution_count": 0,
   "metadata": {
    "application/vnd.databricks.v1+cell": {
     "cellMetadata": {},
     "inputWidgets": {},
     "nuid": "b1681716-a24f-414d-a716-627ca8dcb310",
     "showTitle": false,
     "title": ""
    }
   },
   "outputs": [],
   "source": [
    "df = spark.read.option(\"header\", True).csv(file_path)"
   ]
  },
  {
   "cell_type": "markdown",
   "metadata": {
    "application/vnd.databricks.v1+cell": {
     "cellMetadata": {},
     "inputWidgets": {},
     "nuid": "f1e1719c-cd30-472e-b95d-a41c5dc1b954",
     "showTitle": false,
     "title": ""
    }
   },
   "source": [
    "# 2. Exploratory data analysis (EDA)\n",
    "\n",
    "**This part will contain:**\n",
    "\n",
    "**2.1. Data overview**\n",
    "\n",
    "**2.2. Dealing with missing values**\n",
    "\n",
    "**2.3. Features extracting**"
   ]
  },
  {
   "cell_type": "markdown",
   "metadata": {
    "application/vnd.databricks.v1+cell": {
     "cellMetadata": {},
     "inputWidgets": {},
     "nuid": "6da15705-20c3-4973-8ed0-af15740cb041",
     "showTitle": false,
     "title": ""
    }
   },
   "source": [
    "## 2.1. Data overview"
   ]
  },
  {
   "cell_type": "markdown",
   "metadata": {},
   "source": [
    "We want to have a summary overview of the data set"
   ]
  },
  {
   "cell_type": "code",
   "execution_count": 0,
   "metadata": {
    "application/vnd.databricks.v1+cell": {
     "cellMetadata": {},
     "inputWidgets": {},
     "nuid": "dee9e599-7e18-419d-84b3-c60b40ae8035",
     "showTitle": false,
     "title": ""
    },
    "scrolled": true
   },
   "outputs": [
    {
     "data": {
      "text/plain": [
       "+-------+----------+--------+------------------+------------------+-----------------+-----------------+------------------+-----------+------------------+----------+----------+------------------+------------------+------------------+-----------------+------------------+-----------------+------------------+------------------+------------------+------------------+---------+------------+\n",
       "|summary|      Date|Location|           MinTemp|           MaxTemp|         Rainfall|      Evaporation|          Sunshine|WindGustDir|     WindGustSpeed|WindDir9am|WindDir3pm|      WindSpeed9am|      WindSpeed3pm|       Humidity9am|      Humidity3pm|       Pressure9am|      Pressure3pm|          Cloud9am|          Cloud3pm|           Temp9am|           Temp3pm|RainToday|RainTomorrow|\n",
       "+-------+----------+--------+------------------+------------------+-----------------+-----------------+------------------+-----------+------------------+----------+----------+------------------+------------------+------------------+-----------------+------------------+-----------------+------------------+------------------+------------------+------------------+---------+------------+\n",
       "|  count|    145460|  145460|            145460|            145460|           145460|           145460|            145460|     145460|            145460|    145460|    145460|            145460|            145460|            145460|           145460|            145460|           145460|            145460|            145460|            145460|            145460|   145460|      145460|\n",
       "|   mean|      null|    null|12.194034380968981|23.221348275647017| 2.36091814991655|5.468231522922461| 7.611177520661216|       null| 40.03523007167319|      null|      null|14.043425914971502|18.662656778887342| 68.88083133761887| 51.5391158755046|1017.6499397983008|1015.255888830957|4.4474612602152455| 4.509930082924903|16.990631415587327|21.683390318009845|     null|        null|\n",
       "| stddev|      null|    null| 6.398494975663194| 7.119048845979138|8.478059737726397|4.193704094151786|3.7854829647401744|       null|13.607062267381362|      null|      null| 8.915375322679528| 8.809800021251478|19.029164451844146|20.79590165602108|  7.10653028752338|7.037413808168159| 2.887158853517244|2.7203573103324565| 6.488753140877246| 6.936650460035525|     null|        null|\n",
       "|    min|2007-11-01|Adelaide|              -0.1|              -0.1|                0|                0|                 0|          E|               100|         E|         E|                 0|                 0|                 0|                0|              1000|             1000|                 0|                 0|              -0.1|              -0.1|       NA|          NA|\n",
       "|    25%|      null|    null|               7.6|              17.9|              0.0|              2.6|               4.8|       null|              31.0|      null|      null|               7.0|              13.0|              57.0|             37.0|            1012.9|           1010.4|               1.0|               2.0|              12.3|              16.6|     null|        null|\n",
       "|    50%|      null|    null|              12.0|              22.6|              0.0|              4.8|               8.4|       null|              39.0|      null|      null|              13.0|              19.0|              70.0|             52.0|            1017.6|           1015.2|               5.0|               5.0|              16.7|              21.1|     null|        null|\n",
       "|    75%|      null|    null|              16.9|              28.2|              0.8|              7.4|              10.6|       null|              48.0|      null|      null|              19.0|              24.0|              83.0|             66.0|            1022.4|           1020.0|               7.0|               7.0|              21.6|              26.4|     null|        null|\n",
       "|    max|2017-06-25| Woomera|                NA|                NA|               NA|               NA|                NA|        WSW|                NA|       WSW|       WSW|                NA|                NA|                NA|               NA|                NA|               NA|                NA|                NA|                NA|                NA|      Yes|         Yes|\n",
       "+-------+----------+--------+------------------+------------------+-----------------+-----------------+------------------+-----------+------------------+----------+----------+------------------+------------------+------------------+-----------------+------------------+-----------------+------------------+------------------+------------------+------------------+---------+------------+\n",
       "\n"
      ]
     },
     "metadata": {
      "application/vnd.databricks.v1+output": {
       "addedWidgets": {},
       "arguments": {},
       "data": "+-------+----------+--------+------------------+------------------+-----------------+-----------------+------------------+-----------+------------------+----------+----------+------------------+------------------+------------------+-----------------+------------------+-----------------+------------------+------------------+------------------+------------------+---------+------------+\n|summary|      Date|Location|           MinTemp|           MaxTemp|         Rainfall|      Evaporation|          Sunshine|WindGustDir|     WindGustSpeed|WindDir9am|WindDir3pm|      WindSpeed9am|      WindSpeed3pm|       Humidity9am|      Humidity3pm|       Pressure9am|      Pressure3pm|          Cloud9am|          Cloud3pm|           Temp9am|           Temp3pm|RainToday|RainTomorrow|\n+-------+----------+--------+------------------+------------------+-----------------+-----------------+------------------+-----------+------------------+----------+----------+------------------+------------------+------------------+-----------------+------------------+-----------------+------------------+------------------+------------------+------------------+---------+------------+\n|  count|    145460|  145460|            145460|            145460|           145460|           145460|            145460|     145460|            145460|    145460|    145460|            145460|            145460|            145460|           145460|            145460|           145460|            145460|            145460|            145460|            145460|   145460|      145460|\n|   mean|      null|    null|12.194034380968981|23.221348275647017| 2.36091814991655|5.468231522922461| 7.611177520661216|       null| 40.03523007167319|      null|      null|14.043425914971502|18.662656778887342| 68.88083133761887| 51.5391158755046|1017.6499397983008|1015.255888830957|4.4474612602152455| 4.509930082924903|16.990631415587327|21.683390318009845|     null|        null|\n| stddev|      null|    null| 6.398494975663194| 7.119048845979138|8.478059737726397|4.193704094151786|3.7854829647401744|       null|13.607062267381362|      null|      null| 8.915375322679528| 8.809800021251478|19.029164451844146|20.79590165602108|  7.10653028752338|7.037413808168159| 2.887158853517244|2.7203573103324565| 6.488753140877246| 6.936650460035525|     null|        null|\n|    min|2007-11-01|Adelaide|              -0.1|              -0.1|                0|                0|                 0|          E|               100|         E|         E|                 0|                 0|                 0|                0|              1000|             1000|                 0|                 0|              -0.1|              -0.1|       NA|          NA|\n|    25%|      null|    null|               7.6|              17.9|              0.0|              2.6|               4.8|       null|              31.0|      null|      null|               7.0|              13.0|              57.0|             37.0|            1012.9|           1010.4|               1.0|               2.0|              12.3|              16.6|     null|        null|\n|    50%|      null|    null|              12.0|              22.6|              0.0|              4.8|               8.4|       null|              39.0|      null|      null|              13.0|              19.0|              70.0|             52.0|            1017.6|           1015.2|               5.0|               5.0|              16.7|              21.1|     null|        null|\n|    75%|      null|    null|              16.9|              28.2|              0.8|              7.4|              10.6|       null|              48.0|      null|      null|              19.0|              24.0|              83.0|             66.0|            1022.4|           1020.0|               7.0|               7.0|              21.6|              26.4|     null|        null|\n|    max|2017-06-25| Woomera|                NA|                NA|               NA|               NA|                NA|        WSW|                NA|       WSW|       WSW|                NA|                NA|                NA|               NA|                NA|               NA|                NA|                NA|                NA|                NA|      Yes|         Yes|\n+-------+----------+--------+------------------+------------------+-----------------+-----------------+------------------+-----------+------------------+----------+----------+------------------+------------------+------------------+-----------------+------------------+-----------------+------------------+------------------+------------------+------------------+---------+------------+\n\n",
       "datasetInfos": [],
       "metadata": {},
       "removedWidgets": [],
       "type": "ansi"
      }
     },
     "output_type": "display_data"
    }
   ],
   "source": [
    "df.summary().show()\n",
    "#df.printSchema()  #uncomment this to check datatype in each columns"
   ]
  },
  {
   "cell_type": "markdown",
   "metadata": {
    "application/vnd.databricks.v1+cell": {
     "cellMetadata": {},
     "inputWidgets": {},
     "nuid": "822453ee-fc9b-4e2c-96eb-65d514d26b17",
     "showTitle": false,
     "title": ""
    }
   },
   "source": [
    "## 2.2. Dealing with missing values"
   ]
  },
  {
   "cell_type": "markdown",
   "metadata": {
    "application/vnd.databricks.v1+cell": {
     "cellMetadata": {},
     "inputWidgets": {},
     "nuid": "bdac9a7a-1e56-4a40-8a37-ea2c75848278",
     "showTitle": false,
     "title": ""
    }
   },
   "source": [
    "### 2.2.1. Dealing missing values in target column (RainTomorrow)"
   ]
  },
  {
   "cell_type": "markdown",
   "metadata": {},
   "source": [
    "We want to analyse the target column (RainTomorrow) to see how many unique values that this column contains."
   ]
  },
  {
   "cell_type": "code",
   "execution_count": 0,
   "metadata": {
    "application/vnd.databricks.v1+cell": {
     "cellMetadata": {},
     "inputWidgets": {},
     "nuid": "6d39eda4-d42b-411a-a52f-f7f74dab9b6b",
     "showTitle": false,
     "title": ""
    }
   },
   "outputs": [
    {
     "data": {
      "text/plain": [
       "+------------+------+\n",
       "|RainTomorrow| count|\n",
       "+------------+------+\n",
       "|          NA|  3267|\n",
       "|          No|110316|\n",
       "|         Yes| 31877|\n",
       "+------------+------+\n",
       "\n",
       "Total number of rows in the data set: 145460\n"
      ]
     },
     "metadata": {
      "application/vnd.databricks.v1+output": {
       "addedWidgets": {},
       "arguments": {},
       "data": "+------------+------+\n|RainTomorrow| count|\n+------------+------+\n|          NA|  3267|\n|          No|110316|\n|         Yes| 31877|\n+------------+------+\n\nTotal number of rows in the data set: 145460\n",
       "datasetInfos": [],
       "metadata": {},
       "removedWidgets": [],
       "type": "ansi"
      }
     },
     "output_type": "display_data"
    }
   ],
   "source": [
    "df.groupby(\"RainTomorrow\").count().show()\n",
    "print(f\"Total number of rows in the data set: {df.count()}\")"
   ]
  },
  {
   "cell_type": "markdown",
   "metadata": {},
   "source": [
    "We can see that there are 3267 missing values in target column (RainTomorrow), over 145460 rows in dataset. It means 2.2% of the total row. It is propbably safe to remove these rows to clean the dataset. "
   ]
  },
  {
   "cell_type": "code",
   "execution_count": 0,
   "metadata": {
    "application/vnd.databricks.v1+cell": {
     "cellMetadata": {},
     "inputWidgets": {},
     "nuid": "97af4755-299a-4fa3-b39c-28f352ae69e6",
     "showTitle": false,
     "title": ""
    }
   },
   "outputs": [
    {
     "data": {
      "text/plain": [
       "+------------+------+\n",
       "|RainTomorrow| count|\n",
       "+------------+------+\n",
       "|          No|110316|\n",
       "|         Yes| 31877|\n",
       "+------------+------+\n",
       "\n"
      ]
     },
     "metadata": {
      "application/vnd.databricks.v1+output": {
       "addedWidgets": {},
       "arguments": {},
       "data": "+------------+------+\n|RainTomorrow| count|\n+------------+------+\n|          No|110316|\n|         Yes| 31877|\n+------------+------+\n\n",
       "datasetInfos": [],
       "metadata": {},
       "removedWidgets": [],
       "type": "ansi"
      }
     },
     "output_type": "display_data"
    }
   ],
   "source": [
    "df = df.filter(df[\"RainTomorrow\"] != \"NA\")\n",
    "df.groupby(\"RainTomorrow\").count().show()"
   ]
  },
  {
   "cell_type": "markdown",
   "metadata": {
    "application/vnd.databricks.v1+cell": {
     "cellMetadata": {},
     "inputWidgets": {},
     "nuid": "de2a3f77-158c-4496-b195-eca4e45230e0",
     "showTitle": false,
     "title": ""
    }
   },
   "source": [
    "### 2.2.2. Dealing missing values in other columns"
   ]
  },
  {
   "cell_type": "markdown",
   "metadata": {
    "application/vnd.databricks.v1+cell": {
     "cellMetadata": {},
     "inputWidgets": {},
     "nuid": "d0d71628-42d7-4bb2-b0ba-fa1851073b3b",
     "showTitle": false,
     "title": ""
    }
   },
   "source": [
    "#### Step 1: Remove columns that contain a lot of missing values"
   ]
  },
  {
   "cell_type": "markdown",
   "metadata": {},
   "source": [
    "It is nessesary to analyse the unique values in each column"
   ]
  },
  {
   "cell_type": "code",
   "execution_count": 0,
   "metadata": {
    "application/vnd.databricks.v1+cell": {
     "cellMetadata": {},
     "inputWidgets": {},
     "nuid": "1f1a89ec-50b6-4c6f-a78b-f49dad708a7e",
     "showTitle": false,
     "title": ""
    }
   },
   "outputs": [
    {
     "data": {
      "text/plain": [
       "--> Date\n",
       "\tunique values count: 3436\n",
       "--> Location\n",
       "\tunique values count: 49\n",
       "\tunique values: ['NorfolkIsland', 'Cobar', 'SydneyAirport', 'Wollongong', 'Williamtown', 'Moree', 'Sydney', 'BadgerysCreek', 'Albury', 'WaggaWagga', 'CoffsHarbour', 'Penrith', 'NorahHead', 'Newcastle', 'Richmond', 'Bendigo', 'Canberra', 'Mildura', 'Portland', 'Brisbane', 'Sale', 'Tuggeranong', 'Ballarat', 'MelbourneAirport', 'Dartmoor', 'Nhil', 'Melbourne', 'MountGinini', 'Watsonia', 'Cairns', 'Walpole', 'Woomera', 'Adelaide', 'PerthAirport', 'Albany', 'SalmonGums', 'Perth', 'GoldCoast', 'PearceRAAF', 'Witchcliffe', 'Nuriootpa', 'MountGambier', 'Townsville', 'Hobart', 'Darwin', 'Uluru', 'Katherine', 'AliceSprings', 'Launceston']\n",
       "--> MinTemp\n",
       "\tunique values count: 390\n",
       "\tunique values: ['10.7', '8.5', '20.5', '-1.2', '8.2', '2.6', '7', '7.3', '26.5', '3.1', '12.8', '14.2', '16.6', '29.4', '17.1', '-2.4', '26.7', '15', '8.3', '-1', '22.4', '4.2', '-0.1', '9.2', '11', '19.3', '18.1', '15.8', '-3.8', '12.4', '22.5', '29', '28.7', '0.3', '15.7', '16.4', '3', '16.7', '21.5', '17.6', '-1.4', '23.8', '-2.3', '24.5', '6.1', '8', '-0.7', '22.8', '20.4', '4.4', '1.7', '2.7', '3.8', '16.9', '22', '28', '8.1', '2.9', '26.3', '4.5', '0.7', '-1.8', '17.5', '14.8', '16', '14.4', '16.8', '-1.7', '24.4', '0', 'NA', '6.2', '21.3', '19.9', '27.1', '9.6', '0.2', '10.9', '6.5', '29.3', '19.4', '11.1', '20.2', '10.8', '18.6', '7.5', '2.5', '2.4', '27.6', '5.4', '-1.6', '4.9', '7.7', '3.4', '1.6', '5', '26.9', '25.3', '17.8', '22.9', '7.1', '21.2', '29.1', '-3.3', '18', '18.2', '25.1', '5.7', '0.8', '1.8', '3.3', '20.3', '5.3', '27', '12.9', '13.8', '19.5', '18.5', '-1.5', '17', '13.3', '11.8', '10.2', '17.3', '26', '16.1', '10.3', '-0.2', '28.8', '3.5', '4.3', '23.3', '19.2', '8.9', '4.8', '12.6', '11.3', '9.1', '9.5', '7.4', '11.5', '-2.2', '18.8', '4.1', '6', '5.6', '17.7', '1.4', '26.2', '26.4', '25.8', '13.6', '24.1', '13.7', '21.7', '20.7', '26.6', '18.7', '4.6', '11.9', '19', '23.6', '16.2', '0.5', '23', '23.9', '-4.8', '15.9', '19.8', '16.3', '25.5', '27.4', '7.8', '-4.7', '9.9', '9.8', '27.5', '25', '14.1', '8.4', '19.7', '-1.3', '1.9', '27.2', '0.9', '9.4', '23.5', '0.6', '20.6', '18.9', '12.2', '27.7', '0.1', '1.3', '22.1', '20.8', '10.1', '8.7', '25.6', '15.3', '12.3', '11.4', '15.5', '-2.9', '23.2', '28.5', '17.2', '-1.1', '7.6', '3.6', '18.3', '-2.1', '11.6', '15.6', '7.9', '24.9', '8.8', '8.6', '17.9', '1.5', '23.7', '-0.9', '13.9', '6.6', '2.8', '6.9', '12.1', '22.6', '23.1', '25.4', '20.9', '-1.9', '9', '24', '13.2', '-0.6', '11.7', '21.6', '3.2', '2.2', '14.7', '25.9', '-0.3', '1', '14.6', '28.3', '15.2', '16.5', '20', '9.7', '27.8', '24.7', '21.4', '18.4', '3.7', '10', '26.1', '17.4', '24.6', '-3', '1.1', '14.9', '9.3', '27.3', '21.8', '10.6', '4.7', '5.5', '23.4', '-2.7', '-2.6', '5.2', '4', '28.9', '6.3', '10.4', '22.2', '25.7', '5.8', '14.5', '-0.5', '12', '15.4', '2.3', '12.5', '14.3', '13.5', '6.8', '13', '-0.8', '-2.5', '24.3', '14', '21', '5.1', '21.9', '-2', '24.8', '-3.2', '2.1', '28.6', '20.1', '21.1', '28.1', '29.7', '1.2', '13.4', '19.6', '25.2', '-2.8', '2', '0.4', '22.7', '11.2', '19.1', '6.7', '-0.4', '5.9', '7.2', '26.8', '22.3', '6.4', '15.1', '-3.1', '13.1', '10.5', '3.9', '24.2', '-3.6', '12.7', '-4', '-6', '-7', '-7.6', '30.5', '-6.8', '-8', '-7.3', '28.4', '-5.3', '-5.6', '-7.8', '-6.5', '-7.1', '-8.5', '-6.6', '-5.4', '-3.5', '-5.1', '-6.2', '-5.5', '-5.9', '-6.3', '-7.5', '-4.1', '-6.1', '-5.7', '-3.7', '-4.6', '-8.2', '-4.4', '-4.5', '-3.4', '31.9', '-5.2', '-4.2', '-5.8', '-4.9', '-4.3', '-3.9', '-6.9', '-5', '-6.7', '29.8', '-6.4', '-7.2', '29.2', '31.2', '29.9', '31.4', '31.8', '28.2', '29.5', '30.7', '27.9', '33.9', '31', '30.2', '30.3', '29.6']\n",
       "--> MaxTemp\n",
       "\tunique values count: 506\n",
       "\tunique values: ['10.7', '8.5', '38.3', '20.5', '34.4', '45.4', '8.2', '38.5', '26.5', '16.6', '12.8', '14.2', '29.4', '26.7', '30.1', '17.1', '36.1', '15', '8.3', '40.1', '22.4', '39.6', '40.9', '11', '9.2', '45.1', '15.8', '19.3', '18.1', '44.9', '44.6', '32.7', '22.5', '29', '12.4', '28.7', '42', '36.8', '16.4', '15.7', '30.9', '35.8', '30', '35.9', '34', '16.7', '21.5', '40.8', '17.6', '23.8', '24.5', '37.2', '22.8', '8', '20.4', '16.9', '28', '38.4', '42.2', '22', '42.3', '8.1', '26.3', '34.3', '14.8', '17.5', '46.9', '16.8', '14.4', '35.6', '16', '35', '24.4', 'NA', '27.1', '32.9', '19.9', '21.3', '30.5', '9.6', '10.9', '29.3', '35.2', '47', '19.4', '43.3', '11.1', '20.2', '37.3', '10.8', '18.6', '27.6', '7.5', '32.3', '36.5', '29.2', '36.3', '43', '26.9', '43.1', '25.3', '31', '45.7', '22.9', '17.8', '29.1', '34.5', '21.2', '25.1', '18.2', '18', '31.7', '31.6', '31.2', '20.3', '27', '45.2', '12.9', '19.5', '13.8', '18.5', '28.4', '31.1', '17', '13.3', '10.2', '11.8', '17.3', '26', '37.5', '28.8', '16.1', '10.3', '34.2', '44.4', '29.9', '23.3', '46', '19.2', '33.3', '8.9', '12.6', '11.3', '9.1', '9.5', '11.5', '34.8', '18.8', '35.7', '38.1', '17.7', '26.2', '26.4', '25.8', '45.5', '13.6', '24.1', '38.6', '21.7', '13.7', '20.7', '26.6', '11.9', '18.7', '19', '23.6', '40.5', '37.8', '16.2', '23.9', '31.3', '30.2', '23', '41', '44.8', '39.8', '37.7', '45.3', '15.9', '16.3', '19.8', '25.5', '39.5', '31.4', '27.4', '40.3', '33.7', '44.5', '34.9', '7.8', '41.4', '32.8', '35.5', '43.6', '9.9', '9.8', '31.5', '27.5', '40', '38', '45.8', '40.4', '40.6', '25', '37.4', '14.1', '37.6', '44', '8.4', '42.9', '27.2', '19.7', '33.5', '41.1', '36.7', '38.7', '9.4', '34.1', '32.1', '18.9', '20.6', '23.5', '27.7', '31.8', '30.6', '12.2', '39.7', '22.1', '33.4', '10.1', '20.8', '8.7', '25.6', '15.3', '42.5', '39.1', '12.3', '11.4', '32.6', '32.2', '15.5', '23.2', '28.5', '36.9', '17.2', '33', '42.7', '28.2', '7.6', '18.3', '41.9', '24.9', '15.6', '11.6', '41.5', '8.8', '8.6', '17.9', '42.4', '29.5', '23.7', '39.2', '13.9', '36.4', '6.6', '42.1', '40.2', '25.4', '12.1', '23.1', '22.6', '20.9', '33.1', '43.4', '34.6', '24', '9', '13.2', '11.7', '35.3', '43.7', '32', '30.3', '43.8', '21.6', '14.7', '25.9', '31.9', '28.3', '14.6', '20', '16.5', '15.2', '9.7', '35.4', '30.4', '41.8', '27.8', '41.6', '33.2', '24.7', '37.1', '21.4', '37.9', '38.9', '29.6', '18.4', '36', '30.7', '10', '41.2', '26.1', '37', '46.5', '27.9', '36.2', '17.4', '24.6', '32.5', '27.3', '14.9', '9.3', '21.8', '10.6', '23.4', '28.9', '39', '6.3', '25.7', '10.4', '22.2', '43.9', '14.5', '33.8', '12', '15.4', '41.7', '12.5', '14.3', '42.8', '13.5', '6.8', '13', '24.3', '21', '14', '39.3', '21.9', '24.8', '40.7', '33.9', '28.6', '29.7', '28.1', '21.1', '35.1', '20.1', '39.4', '41.3', '33.6', '13.4', '47.3', '38.2', '19.6', '42.6', '43.5', '44.1', '29.8', '25.2', '34.7', '22.7', '32.4', '19.1', '11.2', '44.3', '36.6', '43.2', '30.8', '39.9', '26.8', '22.3', '15.1', '46.6', '24.2', '10.5', '13.1', '12.7', '38.8', '46.4', '-1.2', '2.6', '7', '7.3', '3.1', '-2.4', '46.7', '-1', '-0.1', '4.2', '-3.8', '0.3', '3', '-1.4', '-2.3', '6.1', '-0.7', '46.8', '2.7', '3.8', '4.4', '1.7', '46.3', '2.9', '-1.8', '4.5', '0.7', '-1.7', '0', '6.2', '0.2', '6.5', '2.4', '2.5', '5.4', '4.9', '7.7', '3.4', '1.6', '5', '7.1', '5.7', '0.8', '3.3', '1.8', '5.3', '-1.5', '-0.2', '3.5', '4.3', '4.8', '7.4', '-2.2', '4.1', '6', '5.6', '1.4', '44.7', '4.6', '0.5', '-4.8', '-4.1', '-1.3', '1.9', '0.9', '-3.7', '0.6', '0.1', '1.3', '-2.9', '-1.1', '3.6', '-2.1', '44.2', '7.9', '-0.9', '1.5', '2.8', '6.9', '-1.9', '-0.6', '3.2', '2.2', '1', '-0.3', '3.7', '-3', '1.1', '5.5', '4.7', '-2.7', '5.2', '4', '-0.5', '5.8', '2.3', '-2.5', '-0.8', '5.1', '-2', '-3.2', '2.1', '1.2', '0.4', '2', '6.7', '5.9', '-0.4', '7.2', '-3.1', '6.4', '45', '3.9', '48.1', '45.6', '46.2', '46.1']\n",
       "--> Rainfall\n",
       "\tunique values count: 680\n",
       "\tunique values: ['8.5', '10.7', '34.4', '45.4', '8.2', '2.6', '63.2', '74.4', '7', '51', '26.5', '3.1', '104.8', '74.2', '14.2', '12.8', '16.6', '29.4', '80.4', '58.2', '15', '54', '76.2', '22.4', '106.4', '54.2', '4.2', '39.6', '56.2', '11', '9.2', '45.6', '15.8', '44.6', '81.6', '18.1', '32.7', '54.4', '12.4', '29', '22.5', '42', '112', '36.8', '0.3', '73', '16.4', '64', '15.7', '3', '35.8', '30', '113', '34', '62.6', '55.8', '147.2', '21.5', '40.8', '68.6', '17.6', '76.4', '50.2', '59', '23.8', '37.2', '61.6', '49.2', '8', '46.8', '22.8', '82.8', '156.8', '4.4', '3.8', '20.4', '1.7', '2.7', '28', '38.4', '22', '51.8', '42.2', '2.9', '59.4', '142.8', '55.6', '4.5', '0.7', '14.8', '85', '16.8', '14.4', '35', '16', '35.6', '52', '47.4', '53.2', '86.8', '0', 'NA', '24.4', '6.2', '71', '0.2', '9.6', '56.6', '47', '35.2', '19.4', '20.2', '11.1', '73.2', '61.8', '10.8', '95.2', '2.4', '18.6', '27.6', '2.5', '76.8', '5.4', '4.9', '68.8', '96', '29.2', '1.6', '3.4', '43', '142.2', '54.8', '5', '31', '65.8', '17.8', '22.9', '21.2', '29.1', '80.6', '107.4', '85.6', '18', '18.2', '0.8', '31.6', '70', '52.4', '120.2', '5.7', '1.8', '3.3', '84.4', '31.2', '27', '45.2', '5.3', '79.8', '61', '62.8', '13.8', '100.2', '75', '99.4', '28.4', '70.8', '75.6', '157.6', '10.2', '17', '11.8', '31.1', '13.3', '26', '28.8', '34.2', '44.4', '103.4', '57.8', '3.5', '84.8', '46', '157.8', '90.6', '29.9', '19.2', '4.8', '51.4', '12.6', '101.8', '64.2', '34.8', '7.4', '94.4', '89', '58.4', '18.8', '4.1', '5.6', '6', '71.2', '1.4', '26.2', '26.4', '70.6', '57.4', '83.2', '104.6', '25.8', '45.5', '119.4', '13.6', '38.6', '53.4', '26.6', '20.7', '4.6', '68', '90', '109.4', '47.2', '53.6', '19', '23.6', '37.8', '65.2', '68.4', '16.2', '0.5', '159.8', '41', '23', '30.2', '128', '63.4', '39.8', '102', '44.8', '55', '132.5', '61.4', '111', '46.2', '99.2', '19.8', '104.2', '73.8', '31.4', '27.4', '63.8', '7.8', '50.8', '41.4', '32.8', '43.6', '9.8', '40', '38', '45.8', '78.4', '40.4', '50.6', '40.6', '37.4', '25', '126.4', '189', '96.1', '37.6', '106.8', '44', '156', '8.4', '92.2', '51.6', '59.2', '72.8', '52.6', '27.2', '1.9', '0.9', '64.1', '9.4', '127.6', '0.6', '20.6', '49.6', '93.8', '53', '12.2', '31.8', '30.6', '1.3', '100.4', '0.1', '95.6', '20.8', '33.4', '10.1', '8.7', '25.6', '57.6', '134.8', '48.6', '58', '11.4', '153.2', '12.3', '109.2', '32.6', '32.2', '92.8', '23.2', '17.2', '54.6', '69.8', '105.8', '3.6', '28.2', '7.6', '33', '49.8', '44.2', '64.8', '69.6', '15.6', '11.6', '111.8', '52.2', '41.5', '47.6', '8.8', '48', '8.6', '63.6', '60.8', '42.4', '240', '29.5', '97', '39.2', '1.5', '23.7', '6.6', '2.8', '36.4', '67', '13.9', '89.8', '67.6', '106', '58.6', '6.9', '40.2', '25.4', '22.6', '110.8', '20.9', '43.4', '9', '24', '34.6', '61.2', '13.2', '11.7', '48.4', '32', '116', '172.2', '43.8', '21.6', '88.6', '2.2', '3.2', '105.6', '1', '14.6', '67.8', '20', '15.2', '106.2', '71.4', '47.8', '147.8', '35.4', '30.4', '27.8', '105.4', '41.8', '41.6', '33.2', '56.8', '50.4', '56', '21.4', '219.6', '18.4', '36', '29.6', '30.7', '37.9', '113.4', '10', '81.8', '37', '86.4', '41.2', '60.2', '371', '36.2', '48.8', '91.4', '17.4', '49', '56.4', '24.6', '32.5', '1.1', '10.6', '21.8', '88.2', '77.6', '23.4', '5.5', '4.7', '225', '5.2', '4', '49.4', '39', '72.2', '51.2', '6.3', '10.4', '22.2', '5.8', '33.8', '62.4', '15.4', '12', '2.3', '62.2', '66.2', '12.5', '42.8', '216.3', '6.8', '71.6', '122.6', '13', '115.4', '81.4', '21', '14', '66', '59.8', '52.8', '91', '24.8', '72', '74', '69.2', '28.6', '33.9', '2.1', '77.4', '114.4', '97.2', '1.2', '48.2', '39.4', '13.4', '33.6', '141.8', '208.5', '59.6', '38.2', '19.6', '42.6', '29.8', '76', '25.2', '113.8', '83.4', '0.4', '2', '22.7', '11.2', '32.4', '36.6', '43.2', '7.2', '30.8', '26.8', '50', '39.9', '6.4', '45', '57', '46.6', '24.2', '82.4', '166.8', '83.6', '46.4', '38.8', '64.4', '89.2', '155', '60.4', '80.8', '87', '75.2', '139', '72.6', '121.4', '87.4', '93.6', '75.8', '84.2', '78', '118', '164.2', '82.6', '83.8', '60', '73.4', '65.6', '93', '77.2', '78.6', '91.6', '82.2', '60.6', '73.6', '89.4', '84', '79.4', '79', '88', '110.6', '53.8', '78.2', '87.6', '107.6', '182.6', '68.2', '102.2', '69.4', '63', '65', '83', '55.2', '58.8', '55.4', '94', '66.4', '168.4', '192', '145', '96.4', '170.4', '109.6', '84.6', '108.2', '148.6', '128.2', '174.6', '150.2', '74.8', '6.1', '34.3', '161.6', '183', '98', '10.9', '118.2', '6.5', '29.3', '165.2', '236.8', '7.1', '121.6', '87.8', '144.2', '81.2', '18.5', '126', '112.2', '105.2', '247.2', '85.4', '8.9', '178.2', '120.8', '9.1', '86.2', '9.5', '278.4', '79.2', '11.9', '124.8', '268.6', '23.9', '115.8', '136.6', '70.2', '64.6', '115', '19.7', '78.8', '175.2', '93.2', '115.2', '143.8', '93.4', '79.6', '158', '98.2', '12.1', '118.6', '128.4', '105', '65.4', '80.2', '77.8', '71.8', '111.2', '62', '14.5', '109', '70.4', '164.6', '47.3', '129', '206.8', '183.4', '76.6', '92.6', '140.2', '6.7', '5.9', '177.6', '10.5', '3.9', '13.1', '206.2', '12.7', '7.3', '210.6', '69', '96.8', '132.6', '182.2', '17.5', '95.8', '129.4', '7.5', '184.6', '117.6', '25.3', '122.8', '69.5', '162.2', '141.2', '145.2', '11.5', '145.6', '15.9', '90.4', '167', '9.9', '367.6', '15.5', '81', '7.9', '131.4', '136.4', '109.8', '74.6']\n",
       "--> Evaporation\n",
       "\tunique values count: 357\n",
       "\tunique values: ['34.4', '20.5', '8.2', '2.6', '7', '7.3', '3.1', '12.8', '14.2', '16.6', '29.4', '17.1', '15', '54', '8.3', '22.4', '4.2', '56.2', '11', '9.2', '15.8', '18.1', '19.3', '12.4', '0.3', '36.8', '16.4', '57.2', '3', '35.8', '30', '17.6', '23.8', '37.2', '6.1', '74.8', '8', '46.8', '22.8', '4.4', '3.8', '1.7', '2.7', '20.4', '8.1', '22', '38.4', '28', '2.9', '0.7', '4.5', '14.8', '16', '14.4', '16.8', '35', '35.6', 'NA', '0', '24.4', '6.2', '9.6', '0.2', '10.9', '6.5', '47', '19.4', '20.2', '11.1', '10.8', '2.4', '18.6', '2.5', '7.5', '27.6', '5.4', '4.9', '29.2', '3.4', '1.6', '43', '7.7', '5', '65.8', '31', '17.8', '21.2', '7.1', '18.2', '18', '25.1', '0.8', '52.4', '5.7', '31.6', '1.8', '3.3', '31.2', '27', '5.3', '13.8', '28.4', '11.8', '10.2', '17', '26', '34.2', '28.8', '3.5', '4.3', '23.3', '19.2', '4.8', '12.6', '9.1', '86.2', '9.5', '7.4', '11.5', '4.1', '18.8', '6', '5.6', '1.4', '26.2', '26.4', '25.8', '13.6', '38.6', '26.6', '4.6', '11.9', '47.2', '19', '23.6', '16.2', '0.5', '23', '30.2', '19.8', '31.4', '27.4', '7.8', '9.9', '43.6', '32.8', '9.8', '38', '40', '40.4', '25', '37.4', '37.6', '8.4', '59.2', '1.9', '19.7', '27.2', '0.9', '9.4', '0.6', '20.6', '12.2', '30.6', '1.3', '0.1', '8.7', '10.1', '20.8', '33.4', '25.6', '11.4', '32.6', '32.2', '23.2', '17.2', '7.6', '3.6', '28.2', '33', '64.8', '44.2', '15.6', '11.6', '8.8', '8.6', '60.8', '42.4', '1.5', '39.2', '6.6', '2.8', '36.4', '13.9', '6.9', '12.1', '22.6', '25.4', '43.4', '9', '24', '34.6', '13.2', '48.4', '32', '21.6', '2.2', '3.2', '14.7', '1', '14.6', '15.2', '20', '9.7', '65.4', '35.4', '30.4', '27.8', '33.2', '50.4', '21.4', '18.4', '3.7', '10', '37', '60.2', '41.2', '48.8', '36.2', '17.4', '56.4', '24.6', '1.1', '9.3', '10.6', '21.8', '23.4', '4.7', '5.5', '5.2', '4', '49.4', '6.3', '10.4', '22.2', '5.8', '33.8', '14.5', '12', '15.4', '2.3', '12.5', '6.8', '13', '14', '21', '5.1', '55.4', '24.8', '2.1', '28.6', '1.2', '39.4', '13.4', '33.6', '19.6', '25.2', '29.8', '2', '0.4', '11.2', '32.4', '19.1', '6.7', '5.9', '7.2', '30.8', '26.8', '145', '6.4', '46.6', '10.5', '24.2', '3.9', '13.1', '38.8', '64.4', '8.5', '8.9', '11.3', '13.5', '10.7', '51', '22.5', '42', '64', '34', '55.8', '59', '42.3', '42.2', '55.6', '59.4', '56.6', '35.2', '68.8', '54.8', '34.5', '70', '81.2', '13.3', '44.4', '10.3', '17.7', '53.6', '55', '46.2', '25.5', '50.8', '14.1', '44', '51.6', '22.1', '57.6', '15.3', '58', '12.3', '58.5', '7.9', '48', '23.1', '11.7', '16.5', '56', '36', '77.3', '14.9', '63', '72.2', '62', '14.3', '55.2', '59.8', '70.4', '59.6', '42.6', '36.6', '43.2', '15.1', '82.4', '12.7', '39.6', '40.8', '50.2', '41.8', '41.6', '42.8']\n",
       "--> Sunshine\n",
       "\tunique values count: 146\n",
       "\tunique values: ['10.7', '8.5', '8.2', '2.6', '7', '7.3', '3.1', '12.8', '8.3', '4.2', '11', '9.2', '12.4', '0.3', '3', '6.1', '8', '4.4', '2.7', '1.7', '3.8', '8.1', '2.9', '0.7', '4.5', 'NA', '0', '6.2', '10.9', '9.6', '0.2', '6.5', '11.1', '10.8', '7.5', '2.5', '2.4', '5.4', '4.9', '3.4', '7.7', '1.6', '5', '7.1', '0.8', '5.7', '1.8', '3.3', '5.3', '12.9', '13.8', '13.3', '10.2', '11.8', '10.3', '4.3', '3.5', '4.8', '8.9', '12.6', '11.3', '9.1', '9.5', '7.4', '11.5', '4.1', '6', '5.6', '1.4', '13.6', '13.7', '4.6', '11.9', '0.5', '7.8', '9.9', '9.8', '14.1', '8.4', '1.9', '0.9', '9.4', '0.6', '12.2', '0.1', '1.3', '8.7', '10.1', '12.3', '11.4', '7.6', '3.6', '11.6', '7.9', '8.8', '8.6', '1.5', '6.6', '2.8', '13.9', '6.9', '12.1', '9', '13.2', '11.7', '2.2', '3.2', '1', '9.7', '3.7', '10', '1.1', '9.3', '10.6', '5.5', '4.7', '5.2', '4', '6.3', '10.4', '5.8', '2.3', '12', '12.5', '6.8', '13.5', '13', '14', '5.1', '2.1', '1.2', '13.4', '2', '0.4', '11.2', '6.7', '5.9', '7.2', '6.4', '13.1', '10.5', '3.9', '12.7', '14.5', '14.3', '14.2']\n",
       "--> WindGustDir\n",
       "\tunique values count: 17\n",
       "\tunique values: ['SSE', 'SW', 'NW', 'NA', 'E', 'WSW', 'ENE', 'NE', 'NNW', 'N', 'SSW', 'W', 'S', 'SE', 'WNW', 'NNE', 'ESE']\n",
       "--> WindGustSpeed\n",
       "\tunique values count: 68\n",
       "\tunique values: ['7', '54', '15', '11', '69', '87', '30', '113', '59', '28', '22', '85', '35', '52', 'NA', '98', '107', '96', '43', '31', '100', '70', '61', '17', '126', '26', '120', '46', '78', '89', '104', '19', '41', '102', '111', '93', '44', '135', '115', '117', '81', '33', '48', '67', '106', '24', '9', '20', '56', '37', '63', '65', '39', '83', '13', '94', '91', '72', '74', '76', '80', '50', '57', '122', '109', '124', '130', '6']\n",
       "--> WindDir9am\n",
       "\tunique values count: 17\n",
       "\tunique values: ['SSE', 'SW', 'NW', 'NA', 'E', 'WSW', 'ENE', 'NE', 'NNW', 'N', 'SSW', 'W', 'S', 'SE', 'WNW', 'NNE', 'ESE']\n",
       "--> WindDir3pm\n",
       "\tunique values count: 17\n",
       "\tunique values: ['SSE', 'NW', 'SW', 'NA', 'E', 'WSW', 'ENE', 'NE', 'NNW', 'N', 'SSW', 'W', 'S', 'SE', 'WNW', 'NNE', 'ESE']\n",
       "--> WindSpeed9am\n",
       "\tunique values count: 44\n",
       "\tunique values: ['7', '15', '54', '11', '69', '87', '30', '59', '28', '22', '35', '52', 'NA', '0', '43', '31', '61', '17', '26', '46', '130', '6', '19', '41', '44', '33', '48', '67', '24', '9', '20', '56', '37', '63', '65', '4', '39', '83', '13', '74', '2', '50', '57', '72']\n",
       "--> WindSpeed3pm\n",
       "\tunique values count: 45\n",
       "\tunique values: ['7', '15', '54', '11', '30', '59', '22', '28', '35', '52', '0', 'NA', '43', '31', '61', '17', '26', '46', '78', '6', '19', '41', '44', '33', '48', '24', '9', '20', '56', '37', '63', '65', '4', '39', '83', '13', '74', '72', '2', '50', '57', '69', '76', '87', '67']\n",
       "--> Humidity9am\n",
       "\tunique values count: 102\n",
       "\tunique values: ['51', '7', '54', '15', '11', '69', '29', '42', '87', '73', '64', '3', '30', '34', '59', '8', '28', '22', '85', '52', '35', '16', 'NA', '71', '98', '47', '99', '96', '43', '5', '31', '100', '18', '70', '27', '61', '75', '17', '26', '46', '78', '89', '77', '6', '60', '68', '90', '19', '41', '23', '55', '93', '95', '38', '40', '25', '44', '82', '53', '92', '86', '58', '81', '33', '48', '97', '67', '84', '79', '24', '9', '32', '88', '20', '56', '36', '10', '37', '49', '63', '65', '39', '62', '12', '83', '13', '21', '14', '66', '91', '94', '72', '74', '76', '80', '50', '45', '57', '0', '1', '4', '2']\n",
       "--> Humidity3pm\n",
       "\tunique values count: 102\n",
       "\tunique values: ['51', '7', '15', '54', '11', '69', '29', '42', '73', '87', '64', '3', '30', '34', '59', '8', '22', '28', '85', '16', '35', '52', 'NA', '71', '98', '47', '99', '96', '43', '5', '31', '100', '18', '70', '27', '61', '75', '17', '26', '46', '78', '89', '77', '6', '90', '68', '60', '19', '23', '41', '55', '93', '95', '38', '40', '25', '44', '82', '53', '92', '86', '58', '81', '33', '48', '97', '67', '84', '79', '9', '24', '32', '88', '1', '20', '56', '36', '10', '37', '49', '63', '65', '4', '39', '62', '12', '83', '13', '21', '14', '66', '91', '94', '74', '72', '76', '2', '80', '50', '45', '57', '0']\n",
       "--> Pressure9am\n",
       "\tunique values count: 547\n",
       "\tunique values: ['1022.6', '1031.6', '1014.5', '1017.2', '1004.4', '1038.3', '1022.1', '1039.1', '1005.8', '1001.4', '1012.5', '1008', '1016.3', '1010.4', '1018.9', '1004.6', '990.2', '1014.3', '1034.9', '1004.5', '1008.8', '1035.9', '1007.3', '1003.5', '994.9', '1016.5', '1019.5', '1022.8', '1027.7', '1027.2', '1034.5', '1007.7', '996.5', '1011.5', '1026.8', '1019.3', '1021.3', '1034.4', '1002.2', '994.6', '1017.7', '1021', '1012.7', '1024.1', '1032', '1018.2', '1029.1', '1027.8', '1009.7', '1029.8', '1012', '1038.9', '1016.6', '1008.5', '1038.4', '980.5', '1015.1', '1024.3', '1002.7', '995', '1022.3', '1004.7', '997.4', '1013.4', '1027.3', '1020.9', '1037.7', '1022.9', '1007.4', '1028.6', '1037.6', '1024.7', '1021.7', '1003.3', '1036.8', '991.5', '998.3', '1026.5', '1015.4', '1000.6', '1013', '1023.5', '1037.3', '1035.3', '1013.7', '1029.6', '1021.5', '1003.1', 'NA', '999.5', '1004', '1021.4', '1017.6', '1004.2', '1008.2', '1018.3', '1031.1', '1033.8', '999.1', '1000.3', '1010', '1039', '1004.8', '1032.1', '999.8', '1022.4', '1018.8', '1008.9', '1019.2', '1023.2', '1006.3', '999.6', '1024.9', '1006', '1034.6', '1020.7', '1030', '1011.3', '1037.5', '1011.8', '1022', '1033.6', '1000.9', '1001.7', '1014.6', '1007.5', '1030.5', '1030.7', '1038.1', '1003.8', '1023.4', '1016', '1028.3', '1010.2', '1035.4', '1000.5', '1020.3', '1002.5', '1007.2', '1005.3', '1027.6', '999', '997', '1009.2', '1012.2', '1007', '1012.6', '1031.5', '1007.8', '1006.7', '1038.2', '1017.8', '1016.1', '1016.9', '998.8', '986.7', '1005.9', '999.4', '1035.6', '1021.8', '1030.3', '1006.4', '1017', '1020.2', '999.9', '1010.8', '1014.4', '1032.2', '1023.9', '1010.3', '1032.7', '1033.1', '996.7', '1000', '1025.1', '1028.2', '1038.6', '1000.2', '1036.2', '1023', '1010.6', '1024.4', '1020.6', '1023.7', '1033.2', '998.6', '1011.4', '1003.9', '1015.8', '1025.7', '1004.1', '1028.9', '1008.6', '989.8', '1023.1', '1008.1', '1003.2', '994', '1022.5', '1038', '999.2', '1007.6', '1030.2', '1006.6', '1032.3', '1001.9', '1020.8', '1025.9', '1034.1', '1008.7', '1006.2', '1019.6', '1024.8', '1001.5', '1005.6', '1018.1', '1013.8', '1032.5', '1027', '1002.1', '1014.2', '1002.9', '1036.6', '1005.7', '1002.4', '1028.1', '992.9', '1000.1', '1025.4', '1000.7', '1028', '998.4', '1006.8', '1029.3', '1031.7', '1026.1', '997.2', '1038.8', '1029.2', '1000.4', '1014.1', '1016.4', '1033', '998', '1006.5', '1012.9', '1012.4', '1009.8', '1031.2', '1023.3', '1006.1', '1018', '1025.8', '1006.9', '1031.8', '1024.5', '1020.4', '1034.3', '994.8', '994.3', '1010.1', '998.9', '1028.4', '1013.9', '1021.6', '998.7', '1030.4', '1035.5', '1020.5', '1015.9', '1030.8', '1005', '1035', '1037', '1036.7', '1015.3', '1034.7', '1032.8', '1015.7', '1035.2', '1013.3', '1027.9', '1039.2', '1026.2', '1011.1', '1027.5', '1033.9', '1005.2', '1018.7', '1011.7', '1027.4', '1039.9', '1003.7', '1037.4', '1011.9', '1010.9', '1022.7', '1017.1', '1036.9', '1032.4', '1029.5', '1025.3', '1020.1', '1004.9', '1032.6', '1019.7', '1019.1', '1034', '1009.1', '1007.9', '1000.8', '1034.2', '998.5', '996.3', '1011', '1003.6', '1002.8', '1039.6', '1013.1', '1015', '1017.9', '1019.9', '1024', '1016.8', '1021.1', '996.6', '1017.4', '1013.5', '1013.6', '1014', '1004.3', '1026.9', '1031.4', '1021.9', '1031', '1003.4', '1005.4', '1027.1', '997.8', '995.3', '1033.4', '1012.3', '1001.1', '1011.6', '1017.5', '1009', '1035.1', '1018.5', '1033.5', '1028.8', '1036', '1023.8', '1002.3', '993.7', '994.5', '1013.2', '1003', '998.1', '1028.5', '1019.4', '1012.1', '1029.9', '1024.6', '999.3', '1001.8', '1018.4', '1034.8', '1001.6', '1014.7', '1037.1', '1019', '1007.1', '996.1', '1028.7', '1033.7', '1038.7', '1020', '1029', '997.3', '997.7', '1025.5', '1036.1', '1005.5', '996.8', '1024.2', '1029.7', '1036.3', '1037.8', '1030.1', '997.6', '1009.6', '1015.6', '1015.2', '1022.2', '994.7', '1015.5', '1025', '1021.2', '1014.8', '1023.6', '1026', '996', '1009.9', '1008.4', '1018.6', '1026.3', '1001.3', '1035.8', '1025.6', '1035.7', '1032.9', '1005.1', '1026.7', '1009.3', '1010.7', '1016.2', '1017.3', '1033.3', '991.7', '1037.9', '1014.9', '1025.2', '1016.7', '1029.4', '1011.2', '1002', '1031.3', '999.7', '1002.6', '1008.3', '1009.5', '1010.5', '1026.4', '1030.6', '1030.9', '1031.9', '1001.2', '1019.8', '1009.4', '1026.6', '1036.5', '1001', '1012.8', '993.9', '991.2', '993.4', '993.8', '995.1', '989.3', '994.2', '994.1', '993.2', '1040.1', '994.4', '1037.2', '991.8', '990.9', '989.4', '995.6', '995.8', '993.6', '992.6', '1036.4', '995.4', '990.5', '992.4', '997.1', '991.3', '997.9', '986.2', '990.3', '1039.3', '995.5', '996.9', '993', '988.9', '992.5', '996.4', '992.7', '1040.3', '993.3', '1039.5', '991.1', '993.5', '986.9', '1040.6', '995.2', '992', '995.9', '992.1', '991.6', '992.8', '996.2', '997.5', '989.5', '990.8', '1038.5', '998.2', '995.7', '1039.4', '989.7', '987.4', '1040.2', '991.4', '1041', '1040.4', '989', '992.3', '985.1', '989.2', '1040.9', '982.3', '982', '989.6', '987.1', '987.3', '987', '991', '993.1', '989.9', '988.1', '983.7', '986.3', '985.8', '1040', '983.9', '990.6', '991.9', '989.1', '982.2', '992.2', '985', '1040.5', '988.5', '985.9', '988.3', '987.2', '984.4', '982.9', '1039.7', '988', '984.6', '990.4', '988.2', '986.6', '987.9', '988.8']\n",
       "--> Pressure3pm\n",
       "\tunique values count: 550\n",
       "\tunique values: ['1022.6', '1031.6', '1014.5', '1017.2', '1004.4', '993.9', '1022.1', '1005.8', '1001.4', '1010.4', '1018.9', '1008', '1016.3', '1012.5', '1004.6', '1014.3', '1034.9', '1004.5', '1008.8', '1003.5', '1007.3', '1035.9', '994.9', '1019.5', '1016.5', '1027.7', '1027.2', '1022.8', '1034.5', '1007.7', '996.5', '979', '1011.5', '1026.8', '1002.2', '1019.3', '1021.3', '1034.4', '993.4', '991', '1017.7', '1021', '1026.66', '1009.7', '1012.7', '1018.2', '1024.1', '1032', '1029.1', '1027.8', '993.8', '1012', '1029.8', '993.1', '1008.5', '1016.6', '995.1', '989.3', '1002.7', '1015.1', '1024.3', '994.2', '995', '1004.7', '1022.3', '997.4', '989', '1013.4', '1027.3', '1020.9', '1022.9', '1007.4', '1028.6', '984.2', '1003.3', '1021.7', '1024.7', '1036.8', '998.3', '1026.5', '1015.4', '1000.6', '994.4', '1023.5', '1013', '1013.7', '1029.6', '1021.5', '1003.1', 'NA', '999.5', '1021.4', '1004', '1004.2', '1017.6', '1008.2', '1018.3', '1031.1', '1033.8', '999.1', '1000.3', '1010', '1004.8', '1032.1', '999.8', '1018.8', '1022.4', '1019.2', '1023.2', '1006.3', '1008.9', '999.6', '1006', '1024.9', '1034.6', '1020.7', '995.6', '1011.3', '1030', '1011.8', '1022', '995.8', '1001.7', '1000.9', '1033.6', '1016.777', '1014.6', '1007.5', '1030.7', '1030.5', '993.6', '1003.8', '1023.4', '1016', '1028.3', '1010.2', '1035.4', '1020.3', '1000.5', '1007.2', '1002.5', '995.4', '1036.4', '999', '1005.3', '1027.6', '997', '1009.2', '1012.2', '1012.6', '1007', '1031.5', '1007.8', '1006.7', '1016.9', '1017.8', '1016.1', '998.8', '1005.9', '999.4', '1035.6', '1021.8', '1006.4', '1030.3', '1017', '1020.2', '999.9', '1010.8', '1014.4', '1032.2', '1023.9', '1010.3', '1000', '1032.7', '996.7', '1033.1', '1025.1', '1028.2', '1000.2', '1036.2', '1023', '997.1', '1010.6', '1020.6', '1023.7', '1024.4', '1033.2', '998.6', '1003.9', '1011.4', '1015.8', '1025.7', '1004.1', '1028.9', '1008.6', '989.8', '1008.1', '1003.2', '1023.1', '994', '1022.5', '999.2', '1007.6', '1030.2', '1006.6', '997.9', '1032.3', '990.3', '1020.8', '1025.9', '1001.9', '1008.7', '1006.2', '1034.1', '1019.6', '1024.8', '1001.5', '995.5', '1018.1', '1005.6', '1013.8', '1002.1', '1032.5', '1027', '1014.2', '1002.9', '1005.7', '1002.4', '1028.1', '1000.1', '1025.4', '996.9', '1000.7', '993', '998.4', '1028', '1006.8', '1026.1', '997.2', '1029.3', '1031.7', '1029.2', '1000.4', '1014.1', '1016.4', '998', '1033', '1006.5', '1012.4', '1012.9', '1009.8', '1031.2', '1023.3', '1006.9', '1018', '1025.8', '1006.1', '1024.5', '1031.8', '996.4', '1020.4', '994.8', '1034.3', '1010.1', '994.3', '998.9', '1028.4', '1013.9', '1021.6', '998.7', '1030.4', '1035.5', '1015.9', '1020.5', '1005', '1035', '1030.8', '1036.7', '1037', '1015.3', '1032.8', '1034.7', '1015.7', '1035.2', '1013.3', '1027.9', '1011.1', '1026.2', '1027.5', '1018.7', '1005.2', '1011.7', '1027.4', '1003.7', '1011.9', '1017.1', '1010.9', '1022.7', '1032.4', '995.2', '1025.3', '1029.5', '1004.9', '1020.1', '1032.6', '995.9', '990.7', '1019.7', '1019.1', '1034', '991.6', '1009.1', '1007.9', '1034.2', '1000.8', '998.5', '996.3', '1003.6', '1011', '1002.8', '1013.1', '996.2', '992.8', '1015', '982.9', '1016.8', '1024', '1019.9', '1017.9', '997.5', '1021.1', '1017.4', '1013.5', '1013.6', '1014', '1004.3', '1003.4', '1031.4', '1021.9', '1031', '1026.9', '1005.4', '997.8', '1027.1', '995.3', '1033.4', '1012.3', '1001.1', '995.7', '998.2', '1011.6', '1017.5', '1009', '1035.1', '1018.5', '1033.5', '1028.8', '1036', '1023.8', '1002.3', '994.5', '993.7', '1013.2', '1003', '998.1', '1012.1', '1019.4', '1028.5', '1029.9', '1001.8', '1024.6', '999.3', '1018.4', '1001.6', '1034.8', '1014.7', '1007.1', '1019', '996.1', '1028.7', '1033.7', '1020', '1029', '997.7', '997.3', '1005.5', '1025.5', '1036.1', '996.8', '1029.7', '1024.2', '1036.3', '1009.555', '997.6', '1030.1', '1022.2', '1009.6', '1015.6', '1015.2', '994.7', '1015.5', '1021.2', '1025', '987.4', '1014.8', '1023.6', '1026', '996', '1018.6', '1009.9', '1008.4', '1026.3', '1001.3', '1005.1', '1032.9', '1025.6', '1035.7', '1026.7', '1009.3', '1010.7', '1016.2', '1017.3', '1033.3', '1014.9', '1016.7', '1011.2', '1025.2', '1029.4', '1002', '1031.3', '999.7', '1002.6', '1008.3', '1009.5', '1010.5', '1026.4', '1030.6', '1030.9', '1031.9', '991.4', '1019.8', '1001.2', '1009.4', '1001', '1026.6', '1012.8', '988.7', '987.1', '987.3', '990.2', '986', '987.7', '994.6', '982.6', '985.6', '994.1', '1037.7', '993.2', '991.5', '992.3', '1037.3', '1035.3', '989.9', '991.8', '990.9', '989.4', '1037.5', '992.6', '990.6', '992.4', '991.9', '991.3', '992.2', '986.5', '1036.6', '992.9', '985', '992.5', '992.7', '993.3', '991.1', '993.5', '1033.9', '1036.9', '992', '988.3', '992.1', '988.6', '996.6', '990.8', '990.4', '988.2', '1037.1', '1037.8', '985.5', '987.8', '1035.8', '1037.9', '991.7', '988.8', '985.2', '1036.5', '985.1', '989.2', '1038.2', '986.1', '1038', '986.4', '984.9', '988.9', '989.6', '986.9', '989.7', '986.6', '991.2', '987', '988.4', '981.2', '1038.9', '1038.4', '1037.6', '988.1', '1037.2', '977.1', '981.4', '980.2', '985.8', '983.3', '990.5', '990.1', '989.1', '982.2', '986.2', '978.2', '985.3', '988.5', '987.2', '984.4', '1039.6', '989.5', '1038.5', '986.8', '983.2', '988', '987.6', '981.9', '984.5', '984', '985.4', '990']\n",
       "--> Cloud9am\n",
       "\tunique values count: 11\n",
       "\tunique values: ['7', '3', '8', 'NA', '0', '5', '6', '9', '1', '4', '2']\n",
       "--> Cloud3pm\n",
       "\tunique values count: 11\n",
       "\tunique values: ['7', '3', '8', 'NA', '0', '5', '6', '1', '4', '2', '9']\n",
       "--> Temp9am\n",
       "\tunique values count: 441\n",
       "\tunique values: ['8.5', '10.7', '20.5', '34.4', '8.2', '2.6', '26.5', '7', '7.3', '3.1', '16.6', '12.8', '29.4', '14.2', '17.1', '26.7', '30.1', '15', '8.3', '22.4', '4.2', '11', '9.2', '18.1', '15.8', '19.3', '32.7', '29', '12.4', '22.5', '28.7', '0.3', '36.8', '16.4', '15.7', '3', '30.9', '30', '35.9', '16.7', '34', '21.5', '17.6', '23.8', '24.5', '37.2', '6.1', '22.8', '8', '20.4', '3.8', '4.4', '2.7', '1.7', '16.9', '22', '8.1', '28', '26.3', '2.9', '4.5', '34.3', '14.8', '17.5', '16', '14.4', '16.8', '35.6', '24.4', 'NA', '0', '19.9', '21.3', '6.2', '27.1', '32.9', '9.6', '10.9', '30.5', '0.2', '6.5', '29.3', '35.2', '19.4', '20.2', '11.1', '10.8', '37.3', '27.6', '18.6', '7.5', '2.4', '2.5', '5.4', '32.3', '36.5', '4.9', '29.2', '36.3', '7.7', '3.4', '1.6', '5', '26.9', '25.3', '31', '17.8', '22.9', '21.2', '34.5', '7.1', '29.1', '18', '25.1', '18.2', '5.7', '31.6', '31.7', '0.8', '3.3', '1.8', '20.3', '31.2', '5.3', '27', '12.9', '13.8', '19.5', '18.5', '28.4', '17', '13.3', '10.2', '11.8', '31.1', '17.3', '26', '37.5', '28.8', '16.1', '10.3', '34.2', '4.3', '3.5', '23.3', '29.9', '19.2', '33.3', '4.8', '8.9', '12.6', '9.1', '11.3', '9.5', '7.4', '11.5', '34.8', '18.8', '4.1', '35.7', '5.6', '6', '26.4', '17.7', '26.2', '25.8', '13.6', '24.1', '26.6', '20.7', '21.7', '13.7', '18.7', '11.9', '4.6', '19', '23.6', '16.2', '0.5', '23', '23.9', '30.2', '31.3', '37.7', '15.9', '16.3', '25.5', '19.8', '31.4', '27.4', '33.7', '7.8', '34.9', '9.9', '32.8', '35.5', '9.8', '27.5', '31.5', '25', '14.1', '37.6', '8.4', '19.7', '27.2', '1.9', '33.5', '0.9', '9.4', '34.1', '20.6', '18.9', '32.1', '23.5', '0.6', '12.2', '27.7', '31.8', '30.6', '22.1', '1.3', '10.1', '8.7', '20.8', '33.4', '25.6', '15.3', '11.4', '12.3', '32.6', '15.5', '32.2', '23.2', '28.5', '17.2', '28.2', '7.6', '3.6', '33', '18.3', '15.6', '7.9', '11.6', '24.9', '8.8', '8.6', '17.9', '29.5', '23.7', '1.5', '13.9', '6.6', '2.8', '36.4', '6.9', '23.1', '12.1', '22.6', '25.4', '20.9', '33.1', '9', '24', '11.7', '13.2', '32', '30.3', '21.6', '14.7', '2.2', '3.2', '25.9', '31.9', '1', '14.6', '28.3', '20', '16.5', '15.2', '9.7', '27.8', '30.4', '24.7', '33.2', '21.4', '29.6', '18.4', '3.7', '30.7', '10', '26.1', '27.9', '17.4', '24.6', '32.5', '14.9', '27.3', '9.3', '10.6', '21.8', '23.4', '4.7', '5.5', '5.2', '4', '28.9', '6.3', '22.2', '10.4', '25.7', '5.8', '14.5', '15.4', '2.3', '12', '12.5', '14.3', '6.8', '13.5', '13', '24.3', '21', '14', '5.1', '21.9', '24.8', '28.6', '33.9', '2.1', '20.1', '28.1', '21.1', '29.7', '35.1', '1.2', '13.4', '33.6', '19.6', '25.2', '29.8', '2', '22.7', '0.4', '19.1', '32.4', '11.2', '6.7', '5.9', '26.8', '7.2', '30.8', '15.1', '22.3', '6.4', '24.2', '10.5', '13.1', '3.9', '12.7', '-4', '-1.2', '-2.4', '36.1', '-1', '-0.1', '-3.8', '-1.4', '-2.3', '-0.7', '-7', '0.7', '-1.8', '-1.7', '-1.6', '-3.3', '-1.5', '-5.3', '-0.2', '-5.6', '-2.2', '1.4', '-3.5', '-6.2', '-5.5', '-4.8', '-5.9', '-4.1', '-1.3', '-3.7', '0.1', '-2.9', '-1.1', '36.9', '-2.1', '-4.4', '-4.5', '-0.9', '-1.9', '34.6', '-0.6', '-3.4', '35.3', '-0.3', '35.4', '-5.2', '36', '-4.2', '-3', '1.1', '-2.7', '-2.6', '-0.5', '33.8', '-0.8', '-2.5', '-4.3', '-3.9', '-2', '-3.2', '-2.8', '-0.4', '-3.1', '-3.6', '-7.2', '38.3', '35.8', '35', '38.6', '37.4', '40.2', '37.9', '37', '39', '39.4', '38.2', '34.7', '38', '39.1', '38.9', '36.2', '36.6']\n",
       "--> Temp3pm\n",
       "\tunique values count: 501\n",
       "\tunique values: ['10.7', '8.5', '34.4', '20.5', '38.3', '38.5', '8.2', '26.5', '7.3', '7', '29.4', '12.8', '14.2', '16.6', '36.1', '17.1', '30.1', '26.7', '46.7', '40.1', '15', '8.3', '22.4', '39.6', '40.9', '11', '9.2', '15.8', '18.1', '19.3', '44.9', '32.7', '29', '12.4', '22.5', '42', '28.7', '36.8', '16.4', '15.7', '30.9', '30', '35.9', '35.8', '16.7', '34', '21.5', '40.8', '17.6', '45.9', '23.8', '24.5', '37.2', '22.8', '8', '20.4', '16.9', '38.4', '22', '28', '8.1', '42.3', '42.2', '26.3', '34.3', '17.5', '14.8', '16.8', '14.4', '16', '35', '35.6', '24.4', 'NA', '27.1', '21.3', '19.9', '32.9', '30.5', '9.6', '10.9', '29.3', '35.2', '19.4', '43.3', '20.2', '11.1', '10.8', '37.3', '27.6', '18.6', '7.5', '36.5', '32.3', '29.2', '36.3', '7.7', '43', '26.9', '25.3', '31', '43.1', '22.9', '17.8', '21.2', '29.1', '34.5', '18.2', '18', '25.1', '31.6', '31.7', '31.2', '20.3', '27', '45.2', '19.5', '12.9', '13.8', '18.5', '28.4', '17', '10.2', '13.3', '31.1', '11.8', '17.3', '26', '37.5', '28.8', '16.1', '10.3', '34.2', '29.9', '23.3', '19.2', '33.3', '8.9', '11.3', '12.6', '9.1', '9.5', '11.5', '34.8', '7.4', '35.7', '18.8', '6', '26.2', '17.7', '26.4', '38.1', '25.8', '44.7', '13.6', '38.6', '24.1', '26.6', '21.7', '13.7', '20.7', '18.7', '11.9', '23.6', '19', '37.8', '40.5', '16.2', '30.2', '31.3', '23.9', '23', '41', '39.8', '44.8', '37.7', '45.3', '15.9', '46.2', '25.5', '19.8', '16.3', '39.5', '31.4', '27.4', '33.7', '40.3', '34.9', '41.4', '32.8', '9.9', '35.5', '27.5', '31.5', '9.8', '38', '40', '45.8', '40.6', '40.4', '25', '37.4', '14.1', '37.6', '44', '8.4', '42.9', '19.7', '27.2', '33.5', '41.1', '36.7', '38.7', '9.4', '34.1', '32.1', '23.5', '18.9', '20.6', '39.7', '27.7', '30.6', '31.8', '12.2', '22.1', '33.4', '20.8', '10.1', '8.7', '25.6', '15.3', '39.1', '42.5', '11.4', '12.3', '32.6', '15.5', '32.2', '23.2', '28.5', '17.2', '36.9', '28.2', '33', '7.6', '42.7', '18.3', '41.9', '24.9', '11.6', '15.6', '7.9', '41.5', '8.8', '8.6', '29.5', '17.9', '42.4', '39.2', '23.7', '13.9', '36.4', '6.6', '42.1', '6.9', '40.2', '23.1', '22.6', '12.1', '25.4', '33.1', '43.4', '20.9', '24', '34.6', '9', '11.7', '13.2', '35.3', '43.7', '30.3', '32', '43.8', '21.6', '14.7', '25.9', '31.9', '14.6', '28.3', '16.5', '15.2', '20', '9.7', '35.4', '41.6', '30.4', '27.8', '41.8', '33.2', '37.1', '24.7', '21.4', '30.7', '29.6', '18.4', '36', '38.9', '37.9', '10', '26.1', '41.2', '37', '36.2', '27.9', '17.4', '24.6', '32.5', '27.3', '14.9', '9.3', '21.8', '10.6', '23.4', '28.9', '39', '25.7', '10.4', '22.2', '43.9', '14.5', '33.8', '15.4', '12', '41.7', '12.5', '14.3', '42.8', '13.5', '6.8', '13', '24.3', '21', '14', '39.3', '21.9', '24.8', '40.7', '33.9', '28.6', '29.7', '28.1', '35.1', '20.1', '21.1', '39.4', '41.3', '33.6', '13.4', '19.6', '38.2', '43.5', '42.6', '44.1', '29.8', '25.2', '22.7', '34.7', '19.1', '11.2', '32.4', '6.7', '36.6', '43.2', '30.8', '26.8', '39.9', '22.3', '15.1', '6.4', '13.1', '24.2', '10.5', '12.7', '38.8', '-4', '-1.2', '45.4', '2.6', '3.1', '-2.4', '-1', '-0.1', '4.2', '-3.8', '0.3', '3', '-1.4', '-2.3', '6.1', '-0.7', '4.4', '2.7', '3.8', '1.7', '2.9', '4.5', '-1.8', '0.7', '-1.7', '0', '6.2', '0.2', '6.5', '2.4', '2.5', '5.4', '-1.6', '4.9', '3.4', '1.6', '5', '7.1', '5.7', '0.8', '1.8', '3.3', '5.3', '-1.5', '-0.2', '44.4', '4.3', '3.5', '4.8', '-2.2', '4.1', '5.6', '1.4', '-5.4', '4.6', '-3.5', '-5.1', '0.5', '44.5', '7.8', '43.6', '-4.1', '-1.3', '1.9', '0.9', '-3.7', '0.6', '1.3', '0.1', '-2.9', '46.1', '-1.1', '3.6', '-2.1', '-4.4', '-0.9', '1.5', '2.8', '-1.9', '-0.6', '-3.4', '3.2', '2.2', '-0.3', '1', '3.7', '-4.2', '-3', '1.1', '5.5', '-2.6', '4.7', '-2.7', '5.2', '4', '6.3', '5.8', '-0.5', '2.3', '-2.5', '-0.8', '-3.9', '5.1', '-2', '-3.2', '2.1', '1.2', '-2.8', '2', '0.4', '5.9', '-0.4', '7.2', '-3.1', '3.9', '44.3', '45']\n",
       "--> RainToday\n",
       "\tunique values count: 3\n",
       "\tunique values: ['NA', 'No', 'Yes']\n",
       "--> RainTomorrow\n",
       "\tunique values count: 2\n",
       "\tunique values: ['No', 'Yes']\n"
      ]
     },
     "metadata": {
      "application/vnd.databricks.v1+output": {
       "addedWidgets": {},
       "arguments": {},
       "data": "--> Date\n\tunique values count: 3436\n--> Location\n\tunique values count: 49\n\tunique values: ['NorfolkIsland', 'Cobar', 'SydneyAirport', 'Wollongong', 'Williamtown', 'Moree', 'Sydney', 'BadgerysCreek', 'Albury', 'WaggaWagga', 'CoffsHarbour', 'Penrith', 'NorahHead', 'Newcastle', 'Richmond', 'Bendigo', 'Canberra', 'Mildura', 'Portland', 'Brisbane', 'Sale', 'Tuggeranong', 'Ballarat', 'MelbourneAirport', 'Dartmoor', 'Nhil', 'Melbourne', 'MountGinini', 'Watsonia', 'Cairns', 'Walpole', 'Woomera', 'Adelaide', 'PerthAirport', 'Albany', 'SalmonGums', 'Perth', 'GoldCoast', 'PearceRAAF', 'Witchcliffe', 'Nuriootpa', 'MountGambier', 'Townsville', 'Hobart', 'Darwin', 'Uluru', 'Katherine', 'AliceSprings', 'Launceston']\n--> MinTemp\n\tunique values count: 390\n\tunique values: ['10.7', '8.5', '20.5', '-1.2', '8.2', '2.6', '7', '7.3', '26.5', '3.1', '12.8', '14.2', '16.6', '29.4', '17.1', '-2.4', '26.7', '15', '8.3', '-1', '22.4', '4.2', '-0.1', '9.2', '11', '19.3', '18.1', '15.8', '-3.8', '12.4', '22.5', '29', '28.7', '0.3', '15.7', '16.4', '3', '16.7', '21.5', '17.6', '-1.4', '23.8', '-2.3', '24.5', '6.1', '8', '-0.7', '22.8', '20.4', '4.4', '1.7', '2.7', '3.8', '16.9', '22', '28', '8.1', '2.9', '26.3', '4.5', '0.7', '-1.8', '17.5', '14.8', '16', '14.4', '16.8', '-1.7', '24.4', '0', 'NA', '6.2', '21.3', '19.9', '27.1', '9.6', '0.2', '10.9', '6.5', '29.3', '19.4', '11.1', '20.2', '10.8', '18.6', '7.5', '2.5', '2.4', '27.6', '5.4', '-1.6', '4.9', '7.7', '3.4', '1.6', '5', '26.9', '25.3', '17.8', '22.9', '7.1', '21.2', '29.1', '-3.3', '18', '18.2', '25.1', '5.7', '0.8', '1.8', '3.3', '20.3', '5.3', '27', '12.9', '13.8', '19.5', '18.5', '-1.5', '17', '13.3', '11.8', '10.2', '17.3', '26', '16.1', '10.3', '-0.2', '28.8', '3.5', '4.3', '23.3', '19.2', '8.9', '4.8', '12.6', '11.3', '9.1', '9.5', '7.4', '11.5', '-2.2', '18.8', '4.1', '6', '5.6', '17.7', '1.4', '26.2', '26.4', '25.8', '13.6', '24.1', '13.7', '21.7', '20.7', '26.6', '18.7', '4.6', '11.9', '19', '23.6', '16.2', '0.5', '23', '23.9', '-4.8', '15.9', '19.8', '16.3', '25.5', '27.4', '7.8', '-4.7', '9.9', '9.8', '27.5', '25', '14.1', '8.4', '19.7', '-1.3', '1.9', '27.2', '0.9', '9.4', '23.5', '0.6', '20.6', '18.9', '12.2', '27.7', '0.1', '1.3', '22.1', '20.8', '10.1', '8.7', '25.6', '15.3', '12.3', '11.4', '15.5', '-2.9', '23.2', '28.5', '17.2', '-1.1', '7.6', '3.6', '18.3', '-2.1', '11.6', '15.6', '7.9', '24.9', '8.8', '8.6', '17.9', '1.5', '23.7', '-0.9', '13.9', '6.6', '2.8', '6.9', '12.1', '22.6', '23.1', '25.4', '20.9', '-1.9', '9', '24', '13.2', '-0.6', '11.7', '21.6', '3.2', '2.2', '14.7', '25.9', '-0.3', '1', '14.6', '28.3', '15.2', '16.5', '20', '9.7', '27.8', '24.7', '21.4', '18.4', '3.7', '10', '26.1', '17.4', '24.6', '-3', '1.1', '14.9', '9.3', '27.3', '21.8', '10.6', '4.7', '5.5', '23.4', '-2.7', '-2.6', '5.2', '4', '28.9', '6.3', '10.4', '22.2', '25.7', '5.8', '14.5', '-0.5', '12', '15.4', '2.3', '12.5', '14.3', '13.5', '6.8', '13', '-0.8', '-2.5', '24.3', '14', '21', '5.1', '21.9', '-2', '24.8', '-3.2', '2.1', '28.6', '20.1', '21.1', '28.1', '29.7', '1.2', '13.4', '19.6', '25.2', '-2.8', '2', '0.4', '22.7', '11.2', '19.1', '6.7', '-0.4', '5.9', '7.2', '26.8', '22.3', '6.4', '15.1', '-3.1', '13.1', '10.5', '3.9', '24.2', '-3.6', '12.7', '-4', '-6', '-7', '-7.6', '30.5', '-6.8', '-8', '-7.3', '28.4', '-5.3', '-5.6', '-7.8', '-6.5', '-7.1', '-8.5', '-6.6', '-5.4', '-3.5', '-5.1', '-6.2', '-5.5', '-5.9', '-6.3', '-7.5', '-4.1', '-6.1', '-5.7', '-3.7', '-4.6', '-8.2', '-4.4', '-4.5', '-3.4', '31.9', '-5.2', '-4.2', '-5.8', '-4.9', '-4.3', '-3.9', '-6.9', '-5', '-6.7', '29.8', '-6.4', '-7.2', '29.2', '31.2', '29.9', '31.4', '31.8', '28.2', '29.5', '30.7', '27.9', '33.9', '31', '30.2', '30.3', '29.6']\n--> MaxTemp\n\tunique values count: 506\n\tunique values: ['10.7', '8.5', '38.3', '20.5', '34.4', '45.4', '8.2', '38.5', '26.5', '16.6', '12.8', '14.2', '29.4', '26.7', '30.1', '17.1', '36.1', '15', '8.3', '40.1', '22.4', '39.6', '40.9', '11', '9.2', '45.1', '15.8', '19.3', '18.1', '44.9', '44.6', '32.7', '22.5', '29', '12.4', '28.7', '42', '36.8', '16.4', '15.7', '30.9', '35.8', '30', '35.9', '34', '16.7', '21.5', '40.8', '17.6', '23.8', '24.5', '37.2', '22.8', '8', '20.4', '16.9', '28', '38.4', '42.2', '22', '42.3', '8.1', '26.3', '34.3', '14.8', '17.5', '46.9', '16.8', '14.4', '35.6', '16', '35', '24.4', 'NA', '27.1', '32.9', '19.9', '21.3', '30.5', '9.6', '10.9', '29.3', '35.2', '47', '19.4', '43.3', '11.1', '20.2', '37.3', '10.8', '18.6', '27.6', '7.5', '32.3', '36.5', '29.2', '36.3', '43', '26.9', '43.1', '25.3', '31', '45.7', '22.9', '17.8', '29.1', '34.5', '21.2', '25.1', '18.2', '18', '31.7', '31.6', '31.2', '20.3', '27', '45.2', '12.9', '19.5', '13.8', '18.5', '28.4', '31.1', '17', '13.3', '10.2', '11.8', '17.3', '26', '37.5', '28.8', '16.1', '10.3', '34.2', '44.4', '29.9', '23.3', '46', '19.2', '33.3', '8.9', '12.6', '11.3', '9.1', '9.5', '11.5', '34.8', '18.8', '35.7', '38.1', '17.7', '26.2', '26.4', '25.8', '45.5', '13.6', '24.1', '38.6', '21.7', '13.7', '20.7', '26.6', '11.9', '18.7', '19', '23.6', '40.5', '37.8', '16.2', '23.9', '31.3', '30.2', '23', '41', '44.8', '39.8', '37.7', '45.3', '15.9', '16.3', '19.8', '25.5', '39.5', '31.4', '27.4', '40.3', '33.7', '44.5', '34.9', '7.8', '41.4', '32.8', '35.5', '43.6', '9.9', '9.8', '31.5', '27.5', '40', '38', '45.8', '40.4', '40.6', '25', '37.4', '14.1', '37.6', '44', '8.4', '42.9', '27.2', '19.7', '33.5', '41.1', '36.7', '38.7', '9.4', '34.1', '32.1', '18.9', '20.6', '23.5', '27.7', '31.8', '30.6', '12.2', '39.7', '22.1', '33.4', '10.1', '20.8', '8.7', '25.6', '15.3', '42.5', '39.1', '12.3', '11.4', '32.6', '32.2', '15.5', '23.2', '28.5', '36.9', '17.2', '33', '42.7', '28.2', '7.6', '18.3', '41.9', '24.9', '15.6', '11.6', '41.5', '8.8', '8.6', '17.9', '42.4', '29.5', '23.7', '39.2', '13.9', '36.4', '6.6', '42.1', '40.2', '25.4', '12.1', '23.1', '22.6', '20.9', '33.1', '43.4', '34.6', '24', '9', '13.2', '11.7', '35.3', '43.7', '32', '30.3', '43.8', '21.6', '14.7', '25.9', '31.9', '28.3', '14.6', '20', '16.5', '15.2', '9.7', '35.4', '30.4', '41.8', '27.8', '41.6', '33.2', '24.7', '37.1', '21.4', '37.9', '38.9', '29.6', '18.4', '36', '30.7', '10', '41.2', '26.1', '37', '46.5', '27.9', '36.2', '17.4', '24.6', '32.5', '27.3', '14.9', '9.3', '21.8', '10.6', '23.4', '28.9', '39', '6.3', '25.7', '10.4', '22.2', '43.9', '14.5', '33.8', '12', '15.4', '41.7', '12.5', '14.3', '42.8', '13.5', '6.8', '13', '24.3', '21', '14', '39.3', '21.9', '24.8', '40.7', '33.9', '28.6', '29.7', '28.1', '21.1', '35.1', '20.1', '39.4', '41.3', '33.6', '13.4', '47.3', '38.2', '19.6', '42.6', '43.5', '44.1', '29.8', '25.2', '34.7', '22.7', '32.4', '19.1', '11.2', '44.3', '36.6', '43.2', '30.8', '39.9', '26.8', '22.3', '15.1', '46.6', '24.2', '10.5', '13.1', '12.7', '38.8', '46.4', '-1.2', '2.6', '7', '7.3', '3.1', '-2.4', '46.7', '-1', '-0.1', '4.2', '-3.8', '0.3', '3', '-1.4', '-2.3', '6.1', '-0.7', '46.8', '2.7', '3.8', '4.4', '1.7', '46.3', '2.9', '-1.8', '4.5', '0.7', '-1.7', '0', '6.2', '0.2', '6.5', '2.4', '2.5', '5.4', '4.9', '7.7', '3.4', '1.6', '5', '7.1', '5.7', '0.8', '3.3', '1.8', '5.3', '-1.5', '-0.2', '3.5', '4.3', '4.8', '7.4', '-2.2', '4.1', '6', '5.6', '1.4', '44.7', '4.6', '0.5', '-4.8', '-4.1', '-1.3', '1.9', '0.9', '-3.7', '0.6', '0.1', '1.3', '-2.9', '-1.1', '3.6', '-2.1', '44.2', '7.9', '-0.9', '1.5', '2.8', '6.9', '-1.9', '-0.6', '3.2', '2.2', '1', '-0.3', '3.7', '-3', '1.1', '5.5', '4.7', '-2.7', '5.2', '4', '-0.5', '5.8', '2.3', '-2.5', '-0.8', '5.1', '-2', '-3.2', '2.1', '1.2', '0.4', '2', '6.7', '5.9', '-0.4', '7.2', '-3.1', '6.4', '45', '3.9', '48.1', '45.6', '46.2', '46.1']\n--> Rainfall\n\tunique values count: 680\n\tunique values: ['8.5', '10.7', '34.4', '45.4', '8.2', '2.6', '63.2', '74.4', '7', '51', '26.5', '3.1', '104.8', '74.2', '14.2', '12.8', '16.6', '29.4', '80.4', '58.2', '15', '54', '76.2', '22.4', '106.4', '54.2', '4.2', '39.6', '56.2', '11', '9.2', '45.6', '15.8', '44.6', '81.6', '18.1', '32.7', '54.4', '12.4', '29', '22.5', '42', '112', '36.8', '0.3', '73', '16.4', '64', '15.7', '3', '35.8', '30', '113', '34', '62.6', '55.8', '147.2', '21.5', '40.8', '68.6', '17.6', '76.4', '50.2', '59', '23.8', '37.2', '61.6', '49.2', '8', '46.8', '22.8', '82.8', '156.8', '4.4', '3.8', '20.4', '1.7', '2.7', '28', '38.4', '22', '51.8', '42.2', '2.9', '59.4', '142.8', '55.6', '4.5', '0.7', '14.8', '85', '16.8', '14.4', '35', '16', '35.6', '52', '47.4', '53.2', '86.8', '0', 'NA', '24.4', '6.2', '71', '0.2', '9.6', '56.6', '47', '35.2', '19.4', '20.2', '11.1', '73.2', '61.8', '10.8', '95.2', '2.4', '18.6', '27.6', '2.5', '76.8', '5.4', '4.9', '68.8', '96', '29.2', '1.6', '3.4', '43', '142.2', '54.8', '5', '31', '65.8', '17.8', '22.9', '21.2', '29.1', '80.6', '107.4', '85.6', '18', '18.2', '0.8', '31.6', '70', '52.4', '120.2', '5.7', '1.8', '3.3', '84.4', '31.2', '27', '45.2', '5.3', '79.8', '61', '62.8', '13.8', '100.2', '75', '99.4', '28.4', '70.8', '75.6', '157.6', '10.2', '17', '11.8', '31.1', '13.3', '26', '28.8', '34.2', '44.4', '103.4', '57.8', '3.5', '84.8', '46', '157.8', '90.6', '29.9', '19.2', '4.8', '51.4', '12.6', '101.8', '64.2', '34.8', '7.4', '94.4', '89', '58.4', '18.8', '4.1', '5.6', '6', '71.2', '1.4', '26.2', '26.4', '70.6', '57.4', '83.2', '104.6', '25.8', '45.5', '119.4', '13.6', '38.6', '53.4', '26.6', '20.7', '4.6', '68', '90', '109.4', '47.2', '53.6', '19', '23.6', '37.8', '65.2', '68.4', '16.2', '0.5', '159.8', '41', '23', '30.2', '128', '63.4', '39.8', '102', '44.8', '55', '132.5', '61.4', '111', '46.2', '99.2', '19.8', '104.2', '73.8', '31.4', '27.4', '63.8', '7.8', '50.8', '41.4', '32.8', '43.6', '9.8', '40', '38', '45.8', '78.4', '40.4', '50.6', '40.6', '37.4', '25', '126.4', '189', '96.1', '37.6', '106.8', '44', '156', '8.4', '92.2', '51.6', '59.2', '72.8', '52.6', '27.2', '1.9', '0.9', '64.1', '9.4', '127.6', '0.6', '20.6', '49.6', '93.8', '53', '12.2', '31.8', '30.6', '1.3', '100.4', '0.1', '95.6', '20.8', '33.4', '10.1', '8.7', '25.6', '57.6', '134.8', '48.6', '58', '11.4', '153.2', '12.3', '109.2', '32.6', '32.2', '92.8', '23.2', '17.2', '54.6', '69.8', '105.8', '3.6', '28.2', '7.6', '33', '49.8', '44.2', '64.8', '69.6', '15.6', '11.6', '111.8', '52.2', '41.5', '47.6', '8.8', '48', '8.6', '63.6', '60.8', '42.4', '240', '29.5', '97', '39.2', '1.5', '23.7', '6.6', '2.8', '36.4', '67', '13.9', '89.8', '67.6', '106', '58.6', '6.9', '40.2', '25.4', '22.6', '110.8', '20.9', '43.4', '9', '24', '34.6', '61.2', '13.2', '11.7', '48.4', '32', '116', '172.2', '43.8', '21.6', '88.6', '2.2', '3.2', '105.6', '1', '14.6', '67.8', '20', '15.2', '106.2', '71.4', '47.8', '147.8', '35.4', '30.4', '27.8', '105.4', '41.8', '41.6', '33.2', '56.8', '50.4', '56', '21.4', '219.6', '18.4', '36', '29.6', '30.7', '37.9', '113.4', '10', '81.8', '37', '86.4', '41.2', '60.2', '371', '36.2', '48.8', '91.4', '17.4', '49', '56.4', '24.6', '32.5', '1.1', '10.6', '21.8', '88.2', '77.6', '23.4', '5.5', '4.7', '225', '5.2', '4', '49.4', '39', '72.2', '51.2', '6.3', '10.4', '22.2', '5.8', '33.8', '62.4', '15.4', '12', '2.3', '62.2', '66.2', '12.5', '42.8', '216.3', '6.8', '71.6', '122.6', '13', '115.4', '81.4', '21', '14', '66', '59.8', '52.8', '91', '24.8', '72', '74', '69.2', '28.6', '33.9', '2.1', '77.4', '114.4', '97.2', '1.2', '48.2', '39.4', '13.4', '33.6', '141.8', '208.5', '59.6', '38.2', '19.6', '42.6', '29.8', '76', '25.2', '113.8', '83.4', '0.4', '2', '22.7', '11.2', '32.4', '36.6', '43.2', '7.2', '30.8', '26.8', '50', '39.9', '6.4', '45', '57', '46.6', '24.2', '82.4', '166.8', '83.6', '46.4', '38.8', '64.4', '89.2', '155', '60.4', '80.8', '87', '75.2', '139', '72.6', '121.4', '87.4', '93.6', '75.8', '84.2', '78', '118', '164.2', '82.6', '83.8', '60', '73.4', '65.6', '93', '77.2', '78.6', '91.6', '82.2', '60.6', '73.6', '89.4', '84', '79.4', '79', '88', '110.6', '53.8', '78.2', '87.6', '107.6', '182.6', '68.2', '102.2', '69.4', '63', '65', '83', '55.2', '58.8', '55.4', '94', '66.4', '168.4', '192', '145', '96.4', '170.4', '109.6', '84.6', '108.2', '148.6', '128.2', '174.6', '150.2', '74.8', '6.1', '34.3', '161.6', '183', '98', '10.9', '118.2', '6.5', '29.3', '165.2', '236.8', '7.1', '121.6', '87.8', '144.2', '81.2', '18.5', '126', '112.2', '105.2', '247.2', '85.4', '8.9', '178.2', '120.8', '9.1', '86.2', '9.5', '278.4', '79.2', '11.9', '124.8', '268.6', '23.9', '115.8', '136.6', '70.2', '64.6', '115', '19.7', '78.8', '175.2', '93.2', '115.2', '143.8', '93.4', '79.6', '158', '98.2', '12.1', '118.6', '128.4', '105', '65.4', '80.2', '77.8', '71.8', '111.2', '62', '14.5', '109', '70.4', '164.6', '47.3', '129', '206.8', '183.4', '76.6', '92.6', '140.2', '6.7', '5.9', '177.6', '10.5', '3.9', '13.1', '206.2', '12.7', '7.3', '210.6', '69', '96.8', '132.6', '182.2', '17.5', '95.8', '129.4', '7.5', '184.6', '117.6', '25.3', '122.8', '69.5', '162.2', '141.2', '145.2', '11.5', '145.6', '15.9', '90.4', '167', '9.9', '367.6', '15.5', '81', '7.9', '131.4', '136.4', '109.8', '74.6']\n--> Evaporation\n\tunique values count: 357\n\tunique values: ['34.4', '20.5', '8.2', '2.6', '7', '7.3', '3.1', '12.8', '14.2', '16.6', '29.4', '17.1', '15', '54', '8.3', '22.4', '4.2', '56.2', '11', '9.2', '15.8', '18.1', '19.3', '12.4', '0.3', '36.8', '16.4', '57.2', '3', '35.8', '30', '17.6', '23.8', '37.2', '6.1', '74.8', '8', '46.8', '22.8', '4.4', '3.8', '1.7', '2.7', '20.4', '8.1', '22', '38.4', '28', '2.9', '0.7', '4.5', '14.8', '16', '14.4', '16.8', '35', '35.6', 'NA', '0', '24.4', '6.2', '9.6', '0.2', '10.9', '6.5', '47', '19.4', '20.2', '11.1', '10.8', '2.4', '18.6', '2.5', '7.5', '27.6', '5.4', '4.9', '29.2', '3.4', '1.6', '43', '7.7', '5', '65.8', '31', '17.8', '21.2', '7.1', '18.2', '18', '25.1', '0.8', '52.4', '5.7', '31.6', '1.8', '3.3', '31.2', '27', '5.3', '13.8', '28.4', '11.8', '10.2', '17', '26', '34.2', '28.8', '3.5', '4.3', '23.3', '19.2', '4.8', '12.6', '9.1', '86.2', '9.5', '7.4', '11.5', '4.1', '18.8', '6', '5.6', '1.4', '26.2', '26.4', '25.8', '13.6', '38.6', '26.6', '4.6', '11.9', '47.2', '19', '23.6', '16.2', '0.5', '23', '30.2', '19.8', '31.4', '27.4', '7.8', '9.9', '43.6', '32.8', '9.8', '38', '40', '40.4', '25', '37.4', '37.6', '8.4', '59.2', '1.9', '19.7', '27.2', '0.9', '9.4', '0.6', '20.6', '12.2', '30.6', '1.3', '0.1', '8.7', '10.1', '20.8', '33.4', '25.6', '11.4', '32.6', '32.2', '23.2', '17.2', '7.6', '3.6', '28.2', '33', '64.8', '44.2', '15.6', '11.6', '8.8', '8.6', '60.8', '42.4', '1.5', '39.2', '6.6', '2.8', '36.4', '13.9', '6.9', '12.1', '22.6', '25.4', '43.4', '9', '24', '34.6', '13.2', '48.4', '32', '21.6', '2.2', '3.2', '14.7', '1', '14.6', '15.2', '20', '9.7', '65.4', '35.4', '30.4', '27.8', '33.2', '50.4', '21.4', '18.4', '3.7', '10', '37', '60.2', '41.2', '48.8', '36.2', '17.4', '56.4', '24.6', '1.1', '9.3', '10.6', '21.8', '23.4', '4.7', '5.5', '5.2', '4', '49.4', '6.3', '10.4', '22.2', '5.8', '33.8', '14.5', '12', '15.4', '2.3', '12.5', '6.8', '13', '14', '21', '5.1', '55.4', '24.8', '2.1', '28.6', '1.2', '39.4', '13.4', '33.6', '19.6', '25.2', '29.8', '2', '0.4', '11.2', '32.4', '19.1', '6.7', '5.9', '7.2', '30.8', '26.8', '145', '6.4', '46.6', '10.5', '24.2', '3.9', '13.1', '38.8', '64.4', '8.5', '8.9', '11.3', '13.5', '10.7', '51', '22.5', '42', '64', '34', '55.8', '59', '42.3', '42.2', '55.6', '59.4', '56.6', '35.2', '68.8', '54.8', '34.5', '70', '81.2', '13.3', '44.4', '10.3', '17.7', '53.6', '55', '46.2', '25.5', '50.8', '14.1', '44', '51.6', '22.1', '57.6', '15.3', '58', '12.3', '58.5', '7.9', '48', '23.1', '11.7', '16.5', '56', '36', '77.3', '14.9', '63', '72.2', '62', '14.3', '55.2', '59.8', '70.4', '59.6', '42.6', '36.6', '43.2', '15.1', '82.4', '12.7', '39.6', '40.8', '50.2', '41.8', '41.6', '42.8']\n--> Sunshine\n\tunique values count: 146\n\tunique values: ['10.7', '8.5', '8.2', '2.6', '7', '7.3', '3.1', '12.8', '8.3', '4.2', '11', '9.2', '12.4', '0.3', '3', '6.1', '8', '4.4', '2.7', '1.7', '3.8', '8.1', '2.9', '0.7', '4.5', 'NA', '0', '6.2', '10.9', '9.6', '0.2', '6.5', '11.1', '10.8', '7.5', '2.5', '2.4', '5.4', '4.9', '3.4', '7.7', '1.6', '5', '7.1', '0.8', '5.7', '1.8', '3.3', '5.3', '12.9', '13.8', '13.3', '10.2', '11.8', '10.3', '4.3', '3.5', '4.8', '8.9', '12.6', '11.3', '9.1', '9.5', '7.4', '11.5', '4.1', '6', '5.6', '1.4', '13.6', '13.7', '4.6', '11.9', '0.5', '7.8', '9.9', '9.8', '14.1', '8.4', '1.9', '0.9', '9.4', '0.6', '12.2', '0.1', '1.3', '8.7', '10.1', '12.3', '11.4', '7.6', '3.6', '11.6', '7.9', '8.8', '8.6', '1.5', '6.6', '2.8', '13.9', '6.9', '12.1', '9', '13.2', '11.7', '2.2', '3.2', '1', '9.7', '3.7', '10', '1.1', '9.3', '10.6', '5.5', '4.7', '5.2', '4', '6.3', '10.4', '5.8', '2.3', '12', '12.5', '6.8', '13.5', '13', '14', '5.1', '2.1', '1.2', '13.4', '2', '0.4', '11.2', '6.7', '5.9', '7.2', '6.4', '13.1', '10.5', '3.9', '12.7', '14.5', '14.3', '14.2']\n--> WindGustDir\n\tunique values count: 17\n\tunique values: ['SSE', 'SW', 'NW', 'NA', 'E', 'WSW', 'ENE', 'NE', 'NNW', 'N', 'SSW', 'W', 'S', 'SE', 'WNW', 'NNE', 'ESE']\n--> WindGustSpeed\n\tunique values count: 68\n\tunique values: ['7', '54', '15', '11', '69', '87', '30', '113', '59', '28', '22', '85', '35', '52', 'NA', '98', '107', '96', '43', '31', '100', '70', '61', '17', '126', '26', '120', '46', '78', '89', '104', '19', '41', '102', '111', '93', '44', '135', '115', '117', '81', '33', '48', '67', '106', '24', '9', '20', '56', '37', '63', '65', '39', '83', '13', '94', '91', '72', '74', '76', '80', '50', '57', '122', '109', '124', '130', '6']\n--> WindDir9am\n\tunique values count: 17\n\tunique values: ['SSE', 'SW', 'NW', 'NA', 'E', 'WSW', 'ENE', 'NE', 'NNW', 'N', 'SSW', 'W', 'S', 'SE', 'WNW', 'NNE', 'ESE']\n--> WindDir3pm\n\tunique values count: 17\n\tunique values: ['SSE', 'NW', 'SW', 'NA', 'E', 'WSW', 'ENE', 'NE', 'NNW', 'N', 'SSW', 'W', 'S', 'SE', 'WNW', 'NNE', 'ESE']\n--> WindSpeed9am\n\tunique values count: 44\n\tunique values: ['7', '15', '54', '11', '69', '87', '30', '59', '28', '22', '35', '52', 'NA', '0', '43', '31', '61', '17', '26', '46', '130', '6', '19', '41', '44', '33', '48', '67', '24', '9', '20', '56', '37', '63', '65', '4', '39', '83', '13', '74', '2', '50', '57', '72']\n--> WindSpeed3pm\n\tunique values count: 45\n\tunique values: ['7', '15', '54', '11', '30', '59', '22', '28', '35', '52', '0', 'NA', '43', '31', '61', '17', '26', '46', '78', '6', '19', '41', '44', '33', '48', '24', '9', '20', '56', '37', '63', '65', '4', '39', '83', '13', '74', '72', '2', '50', '57', '69', '76', '87', '67']\n--> Humidity9am\n\tunique values count: 102\n\tunique values: ['51', '7', '54', '15', '11', '69', '29', '42', '87', '73', '64', '3', '30', '34', '59', '8', '28', '22', '85', '52', '35', '16', 'NA', '71', '98', '47', '99', '96', '43', '5', '31', '100', '18', '70', '27', '61', '75', '17', '26', '46', '78', '89', '77', '6', '60', '68', '90', '19', '41', '23', '55', '93', '95', '38', '40', '25', '44', '82', '53', '92', '86', '58', '81', '33', '48', '97', '67', '84', '79', '24', '9', '32', '88', '20', '56', '36', '10', '37', '49', '63', '65', '39', '62', '12', '83', '13', '21', '14', '66', '91', '94', '72', '74', '76', '80', '50', '45', '57', '0', '1', '4', '2']\n--> Humidity3pm\n\tunique values count: 102\n\tunique values: ['51', '7', '15', '54', '11', '69', '29', '42', '73', '87', '64', '3', '30', '34', '59', '8', '22', '28', '85', '16', '35', '52', 'NA', '71', '98', '47', '99', '96', '43', '5', '31', '100', '18', '70', '27', '61', '75', '17', '26', '46', '78', '89', '77', '6', '90', '68', '60', '19', '23', '41', '55', '93', '95', '38', '40', '25', '44', '82', '53', '92', '86', '58', '81', '33', '48', '97', '67', '84', '79', '9', '24', '32', '88', '1', '20', '56', '36', '10', '37', '49', '63', '65', '4', '39', '62', '12', '83', '13', '21', '14', '66', '91', '94', '74', '72', '76', '2', '80', '50', '45', '57', '0']\n--> Pressure9am\n\tunique values count: 547\n\tunique values: ['1022.6', '1031.6', '1014.5', '1017.2', '1004.4', '1038.3', '1022.1', '1039.1', '1005.8', '1001.4', '1012.5', '1008', '1016.3', '1010.4', '1018.9', '1004.6', '990.2', '1014.3', '1034.9', '1004.5', '1008.8', '1035.9', '1007.3', '1003.5', '994.9', '1016.5', '1019.5', '1022.8', '1027.7', '1027.2', '1034.5', '1007.7', '996.5', '1011.5', '1026.8', '1019.3', '1021.3', '1034.4', '1002.2', '994.6', '1017.7', '1021', '1012.7', '1024.1', '1032', '1018.2', '1029.1', '1027.8', '1009.7', '1029.8', '1012', '1038.9', '1016.6', '1008.5', '1038.4', '980.5', '1015.1', '1024.3', '1002.7', '995', '1022.3', '1004.7', '997.4', '1013.4', '1027.3', '1020.9', '1037.7', '1022.9', '1007.4', '1028.6', '1037.6', '1024.7', '1021.7', '1003.3', '1036.8', '991.5', '998.3', '1026.5', '1015.4', '1000.6', '1013', '1023.5', '1037.3', '1035.3', '1013.7', '1029.6', '1021.5', '1003.1', 'NA', '999.5', '1004', '1021.4', '1017.6', '1004.2', '1008.2', '1018.3', '1031.1', '1033.8', '999.1', '1000.3', '1010', '1039', '1004.8', '1032.1', '999.8', '1022.4', '1018.8', '1008.9', '1019.2', '1023.2', '1006.3', '999.6', '1024.9', '1006', '1034.6', '1020.7', '1030', '1011.3', '1037.5', '1011.8', '1022', '1033.6', '1000.9', '1001.7', '1014.6', '1007.5', '1030.5', '1030.7', '1038.1', '1003.8', '1023.4', '1016', '1028.3', '1010.2', '1035.4', '1000.5', '1020.3', '1002.5', '1007.2', '1005.3', '1027.6', '999', '997', '1009.2', '1012.2', '1007', '1012.6', '1031.5', '1007.8', '1006.7', '1038.2', '1017.8', '1016.1', '1016.9', '998.8', '986.7', '1005.9', '999.4', '1035.6', '1021.8', '1030.3', '1006.4', '1017', '1020.2', '999.9', '1010.8', '1014.4', '1032.2', '1023.9', '1010.3', '1032.7', '1033.1', '996.7', '1000', '1025.1', '1028.2', '1038.6', '1000.2', '1036.2', '1023', '1010.6', '1024.4', '1020.6', '1023.7', '1033.2', '998.6', '1011.4', '1003.9', '1015.8', '1025.7', '1004.1', '1028.9', '1008.6', '989.8', '1023.1', '1008.1', '1003.2', '994', '1022.5', '1038', '999.2', '1007.6', '1030.2', '1006.6', '1032.3', '1001.9', '1020.8', '1025.9', '1034.1', '1008.7', '1006.2', '1019.6', '1024.8', '1001.5', '1005.6', '1018.1', '1013.8', '1032.5', '1027', '1002.1', '1014.2', '1002.9', '1036.6', '1005.7', '1002.4', '1028.1', '992.9', '1000.1', '1025.4', '1000.7', '1028', '998.4', '1006.8', '1029.3', '1031.7', '1026.1', '997.2', '1038.8', '1029.2', '1000.4', '1014.1', '1016.4', '1033', '998', '1006.5', '1012.9', '1012.4', '1009.8', '1031.2', '1023.3', '1006.1', '1018', '1025.8', '1006.9', '1031.8', '1024.5', '1020.4', '1034.3', '994.8', '994.3', '1010.1', '998.9', '1028.4', '1013.9', '1021.6', '998.7', '1030.4', '1035.5', '1020.5', '1015.9', '1030.8', '1005', '1035', '1037', '1036.7', '1015.3', '1034.7', '1032.8', '1015.7', '1035.2', '1013.3', '1027.9', '1039.2', '1026.2', '1011.1', '1027.5', '1033.9', '1005.2', '1018.7', '1011.7', '1027.4', '1039.9', '1003.7', '1037.4', '1011.9', '1010.9', '1022.7', '1017.1', '1036.9', '1032.4', '1029.5', '1025.3', '1020.1', '1004.9', '1032.6', '1019.7', '1019.1', '1034', '1009.1', '1007.9', '1000.8', '1034.2', '998.5', '996.3', '1011', '1003.6', '1002.8', '1039.6', '1013.1', '1015', '1017.9', '1019.9', '1024', '1016.8', '1021.1', '996.6', '1017.4', '1013.5', '1013.6', '1014', '1004.3', '1026.9', '1031.4', '1021.9', '1031', '1003.4', '1005.4', '1027.1', '997.8', '995.3', '1033.4', '1012.3', '1001.1', '1011.6', '1017.5', '1009', '1035.1', '1018.5', '1033.5', '1028.8', '1036', '1023.8', '1002.3', '993.7', '994.5', '1013.2', '1003', '998.1', '1028.5', '1019.4', '1012.1', '1029.9', '1024.6', '999.3', '1001.8', '1018.4', '1034.8', '1001.6', '1014.7', '1037.1', '1019', '1007.1', '996.1', '1028.7', '1033.7', '1038.7', '1020', '1029', '997.3', '997.7', '1025.5', '1036.1', '1005.5', '996.8', '1024.2', '1029.7', '1036.3', '1037.8', '1030.1', '997.6', '1009.6', '1015.6', '1015.2', '1022.2', '994.7', '1015.5', '1025', '1021.2', '1014.8', '1023.6', '1026', '996', '1009.9', '1008.4', '1018.6', '1026.3', '1001.3', '1035.8', '1025.6', '1035.7', '1032.9', '1005.1', '1026.7', '1009.3', '1010.7', '1016.2', '1017.3', '1033.3', '991.7', '1037.9', '1014.9', '1025.2', '1016.7', '1029.4', '1011.2', '1002', '1031.3', '999.7', '1002.6', '1008.3', '1009.5', '1010.5', '1026.4', '1030.6', '1030.9', '1031.9', '1001.2', '1019.8', '1009.4', '1026.6', '1036.5', '1001', '1012.8', '993.9', '991.2', '993.4', '993.8', '995.1', '989.3', '994.2', '994.1', '993.2', '1040.1', '994.4', '1037.2', '991.8', '990.9', '989.4', '995.6', '995.8', '993.6', '992.6', '1036.4', '995.4', '990.5', '992.4', '997.1', '991.3', '997.9', '986.2', '990.3', '1039.3', '995.5', '996.9', '993', '988.9', '992.5', '996.4', '992.7', '1040.3', '993.3', '1039.5', '991.1', '993.5', '986.9', '1040.6', '995.2', '992', '995.9', '992.1', '991.6', '992.8', '996.2', '997.5', '989.5', '990.8', '1038.5', '998.2', '995.7', '1039.4', '989.7', '987.4', '1040.2', '991.4', '1041', '1040.4', '989', '992.3', '985.1', '989.2', '1040.9', '982.3', '982', '989.6', '987.1', '987.3', '987', '991', '993.1', '989.9', '988.1', '983.7', '986.3', '985.8', '1040', '983.9', '990.6', '991.9', '989.1', '982.2', '992.2', '985', '1040.5', '988.5', '985.9', '988.3', '987.2', '984.4', '982.9', '1039.7', '988', '984.6', '990.4', '988.2', '986.6', '987.9', '988.8']\n--> Pressure3pm\n\tunique values count: 550\n\tunique values: ['1022.6', '1031.6', '1014.5', '1017.2', '1004.4', '993.9', '1022.1', '1005.8', '1001.4', '1010.4', '1018.9', '1008', '1016.3', '1012.5', '1004.6', '1014.3', '1034.9', '1004.5', '1008.8', '1003.5', '1007.3', '1035.9', '994.9', '1019.5', '1016.5', '1027.7', '1027.2', '1022.8', '1034.5', '1007.7', '996.5', '979', '1011.5', '1026.8', '1002.2', '1019.3', '1021.3', '1034.4', '993.4', '991', '1017.7', '1021', '1026.66', '1009.7', '1012.7', '1018.2', '1024.1', '1032', '1029.1', '1027.8', '993.8', '1012', '1029.8', '993.1', '1008.5', '1016.6', '995.1', '989.3', '1002.7', '1015.1', '1024.3', '994.2', '995', '1004.7', '1022.3', '997.4', '989', '1013.4', '1027.3', '1020.9', '1022.9', '1007.4', '1028.6', '984.2', '1003.3', '1021.7', '1024.7', '1036.8', '998.3', '1026.5', '1015.4', '1000.6', '994.4', '1023.5', '1013', '1013.7', '1029.6', '1021.5', '1003.1', 'NA', '999.5', '1021.4', '1004', '1004.2', '1017.6', '1008.2', '1018.3', '1031.1', '1033.8', '999.1', '1000.3', '1010', '1004.8', '1032.1', '999.8', '1018.8', '1022.4', '1019.2', '1023.2', '1006.3', '1008.9', '999.6', '1006', '1024.9', '1034.6', '1020.7', '995.6', '1011.3', '1030', '1011.8', '1022', '995.8', '1001.7', '1000.9', '1033.6', '1016.777', '1014.6', '1007.5', '1030.7', '1030.5', '993.6', '1003.8', '1023.4', '1016', '1028.3', '1010.2', '1035.4', '1020.3', '1000.5', '1007.2', '1002.5', '995.4', '1036.4', '999', '1005.3', '1027.6', '997', '1009.2', '1012.2', '1012.6', '1007', '1031.5', '1007.8', '1006.7', '1016.9', '1017.8', '1016.1', '998.8', '1005.9', '999.4', '1035.6', '1021.8', '1006.4', '1030.3', '1017', '1020.2', '999.9', '1010.8', '1014.4', '1032.2', '1023.9', '1010.3', '1000', '1032.7', '996.7', '1033.1', '1025.1', '1028.2', '1000.2', '1036.2', '1023', '997.1', '1010.6', '1020.6', '1023.7', '1024.4', '1033.2', '998.6', '1003.9', '1011.4', '1015.8', '1025.7', '1004.1', '1028.9', '1008.6', '989.8', '1008.1', '1003.2', '1023.1', '994', '1022.5', '999.2', '1007.6', '1030.2', '1006.6', '997.9', '1032.3', '990.3', '1020.8', '1025.9', '1001.9', '1008.7', '1006.2', '1034.1', '1019.6', '1024.8', '1001.5', '995.5', '1018.1', '1005.6', '1013.8', '1002.1', '1032.5', '1027', '1014.2', '1002.9', '1005.7', '1002.4', '1028.1', '1000.1', '1025.4', '996.9', '1000.7', '993', '998.4', '1028', '1006.8', '1026.1', '997.2', '1029.3', '1031.7', '1029.2', '1000.4', '1014.1', '1016.4', '998', '1033', '1006.5', '1012.4', '1012.9', '1009.8', '1031.2', '1023.3', '1006.9', '1018', '1025.8', '1006.1', '1024.5', '1031.8', '996.4', '1020.4', '994.8', '1034.3', '1010.1', '994.3', '998.9', '1028.4', '1013.9', '1021.6', '998.7', '1030.4', '1035.5', '1015.9', '1020.5', '1005', '1035', '1030.8', '1036.7', '1037', '1015.3', '1032.8', '1034.7', '1015.7', '1035.2', '1013.3', '1027.9', '1011.1', '1026.2', '1027.5', '1018.7', '1005.2', '1011.7', '1027.4', '1003.7', '1011.9', '1017.1', '1010.9', '1022.7', '1032.4', '995.2', '1025.3', '1029.5', '1004.9', '1020.1', '1032.6', '995.9', '990.7', '1019.7', '1019.1', '1034', '991.6', '1009.1', '1007.9', '1034.2', '1000.8', '998.5', '996.3', '1003.6', '1011', '1002.8', '1013.1', '996.2', '992.8', '1015', '982.9', '1016.8', '1024', '1019.9', '1017.9', '997.5', '1021.1', '1017.4', '1013.5', '1013.6', '1014', '1004.3', '1003.4', '1031.4', '1021.9', '1031', '1026.9', '1005.4', '997.8', '1027.1', '995.3', '1033.4', '1012.3', '1001.1', '995.7', '998.2', '1011.6', '1017.5', '1009', '1035.1', '1018.5', '1033.5', '1028.8', '1036', '1023.8', '1002.3', '994.5', '993.7', '1013.2', '1003', '998.1', '1012.1', '1019.4', '1028.5', '1029.9', '1001.8', '1024.6', '999.3', '1018.4', '1001.6', '1034.8', '1014.7', '1007.1', '1019', '996.1', '1028.7', '1033.7', '1020', '1029', '997.7', '997.3', '1005.5', '1025.5', '1036.1', '996.8', '1029.7', '1024.2', '1036.3', '1009.555', '997.6', '1030.1', '1022.2', '1009.6', '1015.6', '1015.2', '994.7', '1015.5', '1021.2', '1025', '987.4', '1014.8', '1023.6', '1026', '996', '1018.6', '1009.9', '1008.4', '1026.3', '1001.3', '1005.1', '1032.9', '1025.6', '1035.7', '1026.7', '1009.3', '1010.7', '1016.2', '1017.3', '1033.3', '1014.9', '1016.7', '1011.2', '1025.2', '1029.4', '1002', '1031.3', '999.7', '1002.6', '1008.3', '1009.5', '1010.5', '1026.4', '1030.6', '1030.9', '1031.9', '991.4', '1019.8', '1001.2', '1009.4', '1001', '1026.6', '1012.8', '988.7', '987.1', '987.3', '990.2', '986', '987.7', '994.6', '982.6', '985.6', '994.1', '1037.7', '993.2', '991.5', '992.3', '1037.3', '1035.3', '989.9', '991.8', '990.9', '989.4', '1037.5', '992.6', '990.6', '992.4', '991.9', '991.3', '992.2', '986.5', '1036.6', '992.9', '985', '992.5', '992.7', '993.3', '991.1', '993.5', '1033.9', '1036.9', '992', '988.3', '992.1', '988.6', '996.6', '990.8', '990.4', '988.2', '1037.1', '1037.8', '985.5', '987.8', '1035.8', '1037.9', '991.7', '988.8', '985.2', '1036.5', '985.1', '989.2', '1038.2', '986.1', '1038', '986.4', '984.9', '988.9', '989.6', '986.9', '989.7', '986.6', '991.2', '987', '988.4', '981.2', '1038.9', '1038.4', '1037.6', '988.1', '1037.2', '977.1', '981.4', '980.2', '985.8', '983.3', '990.5', '990.1', '989.1', '982.2', '986.2', '978.2', '985.3', '988.5', '987.2', '984.4', '1039.6', '989.5', '1038.5', '986.8', '983.2', '988', '987.6', '981.9', '984.5', '984', '985.4', '990']\n--> Cloud9am\n\tunique values count: 11\n\tunique values: ['7', '3', '8', 'NA', '0', '5', '6', '9', '1', '4', '2']\n--> Cloud3pm\n\tunique values count: 11\n\tunique values: ['7', '3', '8', 'NA', '0', '5', '6', '1', '4', '2', '9']\n--> Temp9am\n\tunique values count: 441\n\tunique values: ['8.5', '10.7', '20.5', '34.4', '8.2', '2.6', '26.5', '7', '7.3', '3.1', '16.6', '12.8', '29.4', '14.2', '17.1', '26.7', '30.1', '15', '8.3', '22.4', '4.2', '11', '9.2', '18.1', '15.8', '19.3', '32.7', '29', '12.4', '22.5', '28.7', '0.3', '36.8', '16.4', '15.7', '3', '30.9', '30', '35.9', '16.7', '34', '21.5', '17.6', '23.8', '24.5', '37.2', '6.1', '22.8', '8', '20.4', '3.8', '4.4', '2.7', '1.7', '16.9', '22', '8.1', '28', '26.3', '2.9', '4.5', '34.3', '14.8', '17.5', '16', '14.4', '16.8', '35.6', '24.4', 'NA', '0', '19.9', '21.3', '6.2', '27.1', '32.9', '9.6', '10.9', '30.5', '0.2', '6.5', '29.3', '35.2', '19.4', '20.2', '11.1', '10.8', '37.3', '27.6', '18.6', '7.5', '2.4', '2.5', '5.4', '32.3', '36.5', '4.9', '29.2', '36.3', '7.7', '3.4', '1.6', '5', '26.9', '25.3', '31', '17.8', '22.9', '21.2', '34.5', '7.1', '29.1', '18', '25.1', '18.2', '5.7', '31.6', '31.7', '0.8', '3.3', '1.8', '20.3', '31.2', '5.3', '27', '12.9', '13.8', '19.5', '18.5', '28.4', '17', '13.3', '10.2', '11.8', '31.1', '17.3', '26', '37.5', '28.8', '16.1', '10.3', '34.2', '4.3', '3.5', '23.3', '29.9', '19.2', '33.3', '4.8', '8.9', '12.6', '9.1', '11.3', '9.5', '7.4', '11.5', '34.8', '18.8', '4.1', '35.7', '5.6', '6', '26.4', '17.7', '26.2', '25.8', '13.6', '24.1', '26.6', '20.7', '21.7', '13.7', '18.7', '11.9', '4.6', '19', '23.6', '16.2', '0.5', '23', '23.9', '30.2', '31.3', '37.7', '15.9', '16.3', '25.5', '19.8', '31.4', '27.4', '33.7', '7.8', '34.9', '9.9', '32.8', '35.5', '9.8', '27.5', '31.5', '25', '14.1', '37.6', '8.4', '19.7', '27.2', '1.9', '33.5', '0.9', '9.4', '34.1', '20.6', '18.9', '32.1', '23.5', '0.6', '12.2', '27.7', '31.8', '30.6', '22.1', '1.3', '10.1', '8.7', '20.8', '33.4', '25.6', '15.3', '11.4', '12.3', '32.6', '15.5', '32.2', '23.2', '28.5', '17.2', '28.2', '7.6', '3.6', '33', '18.3', '15.6', '7.9', '11.6', '24.9', '8.8', '8.6', '17.9', '29.5', '23.7', '1.5', '13.9', '6.6', '2.8', '36.4', '6.9', '23.1', '12.1', '22.6', '25.4', '20.9', '33.1', '9', '24', '11.7', '13.2', '32', '30.3', '21.6', '14.7', '2.2', '3.2', '25.9', '31.9', '1', '14.6', '28.3', '20', '16.5', '15.2', '9.7', '27.8', '30.4', '24.7', '33.2', '21.4', '29.6', '18.4', '3.7', '30.7', '10', '26.1', '27.9', '17.4', '24.6', '32.5', '14.9', '27.3', '9.3', '10.6', '21.8', '23.4', '4.7', '5.5', '5.2', '4', '28.9', '6.3', '22.2', '10.4', '25.7', '5.8', '14.5', '15.4', '2.3', '12', '12.5', '14.3', '6.8', '13.5', '13', '24.3', '21', '14', '5.1', '21.9', '24.8', '28.6', '33.9', '2.1', '20.1', '28.1', '21.1', '29.7', '35.1', '1.2', '13.4', '33.6', '19.6', '25.2', '29.8', '2', '22.7', '0.4', '19.1', '32.4', '11.2', '6.7', '5.9', '26.8', '7.2', '30.8', '15.1', '22.3', '6.4', '24.2', '10.5', '13.1', '3.9', '12.7', '-4', '-1.2', '-2.4', '36.1', '-1', '-0.1', '-3.8', '-1.4', '-2.3', '-0.7', '-7', '0.7', '-1.8', '-1.7', '-1.6', '-3.3', '-1.5', '-5.3', '-0.2', '-5.6', '-2.2', '1.4', '-3.5', '-6.2', '-5.5', '-4.8', '-5.9', '-4.1', '-1.3', '-3.7', '0.1', '-2.9', '-1.1', '36.9', '-2.1', '-4.4', '-4.5', '-0.9', '-1.9', '34.6', '-0.6', '-3.4', '35.3', '-0.3', '35.4', '-5.2', '36', '-4.2', '-3', '1.1', '-2.7', '-2.6', '-0.5', '33.8', '-0.8', '-2.5', '-4.3', '-3.9', '-2', '-3.2', '-2.8', '-0.4', '-3.1', '-3.6', '-7.2', '38.3', '35.8', '35', '38.6', '37.4', '40.2', '37.9', '37', '39', '39.4', '38.2', '34.7', '38', '39.1', '38.9', '36.2', '36.6']\n--> Temp3pm\n\tunique values count: 501\n\tunique values: ['10.7', '8.5', '34.4', '20.5', '38.3', '38.5', '8.2', '26.5', '7.3', '7', '29.4', '12.8', '14.2', '16.6', '36.1', '17.1', '30.1', '26.7', '46.7', '40.1', '15', '8.3', '22.4', '39.6', '40.9', '11', '9.2', '15.8', '18.1', '19.3', '44.9', '32.7', '29', '12.4', '22.5', '42', '28.7', '36.8', '16.4', '15.7', '30.9', '30', '35.9', '35.8', '16.7', '34', '21.5', '40.8', '17.6', '45.9', '23.8', '24.5', '37.2', '22.8', '8', '20.4', '16.9', '38.4', '22', '28', '8.1', '42.3', '42.2', '26.3', '34.3', '17.5', '14.8', '16.8', '14.4', '16', '35', '35.6', '24.4', 'NA', '27.1', '21.3', '19.9', '32.9', '30.5', '9.6', '10.9', '29.3', '35.2', '19.4', '43.3', '20.2', '11.1', '10.8', '37.3', '27.6', '18.6', '7.5', '36.5', '32.3', '29.2', '36.3', '7.7', '43', '26.9', '25.3', '31', '43.1', '22.9', '17.8', '21.2', '29.1', '34.5', '18.2', '18', '25.1', '31.6', '31.7', '31.2', '20.3', '27', '45.2', '19.5', '12.9', '13.8', '18.5', '28.4', '17', '10.2', '13.3', '31.1', '11.8', '17.3', '26', '37.5', '28.8', '16.1', '10.3', '34.2', '29.9', '23.3', '19.2', '33.3', '8.9', '11.3', '12.6', '9.1', '9.5', '11.5', '34.8', '7.4', '35.7', '18.8', '6', '26.2', '17.7', '26.4', '38.1', '25.8', '44.7', '13.6', '38.6', '24.1', '26.6', '21.7', '13.7', '20.7', '18.7', '11.9', '23.6', '19', '37.8', '40.5', '16.2', '30.2', '31.3', '23.9', '23', '41', '39.8', '44.8', '37.7', '45.3', '15.9', '46.2', '25.5', '19.8', '16.3', '39.5', '31.4', '27.4', '33.7', '40.3', '34.9', '41.4', '32.8', '9.9', '35.5', '27.5', '31.5', '9.8', '38', '40', '45.8', '40.6', '40.4', '25', '37.4', '14.1', '37.6', '44', '8.4', '42.9', '19.7', '27.2', '33.5', '41.1', '36.7', '38.7', '9.4', '34.1', '32.1', '23.5', '18.9', '20.6', '39.7', '27.7', '30.6', '31.8', '12.2', '22.1', '33.4', '20.8', '10.1', '8.7', '25.6', '15.3', '39.1', '42.5', '11.4', '12.3', '32.6', '15.5', '32.2', '23.2', '28.5', '17.2', '36.9', '28.2', '33', '7.6', '42.7', '18.3', '41.9', '24.9', '11.6', '15.6', '7.9', '41.5', '8.8', '8.6', '29.5', '17.9', '42.4', '39.2', '23.7', '13.9', '36.4', '6.6', '42.1', '6.9', '40.2', '23.1', '22.6', '12.1', '25.4', '33.1', '43.4', '20.9', '24', '34.6', '9', '11.7', '13.2', '35.3', '43.7', '30.3', '32', '43.8', '21.6', '14.7', '25.9', '31.9', '14.6', '28.3', '16.5', '15.2', '20', '9.7', '35.4', '41.6', '30.4', '27.8', '41.8', '33.2', '37.1', '24.7', '21.4', '30.7', '29.6', '18.4', '36', '38.9', '37.9', '10', '26.1', '41.2', '37', '36.2', '27.9', '17.4', '24.6', '32.5', '27.3', '14.9', '9.3', '21.8', '10.6', '23.4', '28.9', '39', '25.7', '10.4', '22.2', '43.9', '14.5', '33.8', '15.4', '12', '41.7', '12.5', '14.3', '42.8', '13.5', '6.8', '13', '24.3', '21', '14', '39.3', '21.9', '24.8', '40.7', '33.9', '28.6', '29.7', '28.1', '35.1', '20.1', '21.1', '39.4', '41.3', '33.6', '13.4', '19.6', '38.2', '43.5', '42.6', '44.1', '29.8', '25.2', '22.7', '34.7', '19.1', '11.2', '32.4', '6.7', '36.6', '43.2', '30.8', '26.8', '39.9', '22.3', '15.1', '6.4', '13.1', '24.2', '10.5', '12.7', '38.8', '-4', '-1.2', '45.4', '2.6', '3.1', '-2.4', '-1', '-0.1', '4.2', '-3.8', '0.3', '3', '-1.4', '-2.3', '6.1', '-0.7', '4.4', '2.7', '3.8', '1.7', '2.9', '4.5', '-1.8', '0.7', '-1.7', '0', '6.2', '0.2', '6.5', '2.4', '2.5', '5.4', '-1.6', '4.9', '3.4', '1.6', '5', '7.1', '5.7', '0.8', '1.8', '3.3', '5.3', '-1.5', '-0.2', '44.4', '4.3', '3.5', '4.8', '-2.2', '4.1', '5.6', '1.4', '-5.4', '4.6', '-3.5', '-5.1', '0.5', '44.5', '7.8', '43.6', '-4.1', '-1.3', '1.9', '0.9', '-3.7', '0.6', '1.3', '0.1', '-2.9', '46.1', '-1.1', '3.6', '-2.1', '-4.4', '-0.9', '1.5', '2.8', '-1.9', '-0.6', '-3.4', '3.2', '2.2', '-0.3', '1', '3.7', '-4.2', '-3', '1.1', '5.5', '-2.6', '4.7', '-2.7', '5.2', '4', '6.3', '5.8', '-0.5', '2.3', '-2.5', '-0.8', '-3.9', '5.1', '-2', '-3.2', '2.1', '1.2', '-2.8', '2', '0.4', '5.9', '-0.4', '7.2', '-3.1', '3.9', '44.3', '45']\n--> RainToday\n\tunique values count: 3\n\tunique values: ['NA', 'No', 'Yes']\n--> RainTomorrow\n\tunique values count: 2\n\tunique values: ['No', 'Yes']\n",
       "datasetInfos": [],
       "metadata": {},
       "removedWidgets": [],
       "type": "ansi"
      }
     },
     "output_type": "display_data"
    }
   ],
   "source": [
    "for col_name in df.columns:\n",
    "    unique_val = df.select(col_name).distinct().collect()\n",
    "    print(f\"--> {col_name}\")\n",
    "    print(f\"\\tunique values count: {len(unique_val)}\")\n",
    "    if len(unique_val) <= 1000:\n",
    "        print(f\"\\tunique values: {[val[col_name] for val in unique_val]}\")"
   ]
  },
  {
   "cell_type": "markdown",
   "metadata": {},
   "source": [
    "As we can see above, in some columns, there are \"NA\" missing values. We want to find the percentage of missing values in each column. We will create a function called missing_percent for this step:\n"
   ]
  },
  {
   "cell_type": "code",
   "execution_count": 0,
   "metadata": {
    "application/vnd.databricks.v1+cell": {
     "cellMetadata": {},
     "inputWidgets": {},
     "nuid": "1987ca02-1e24-4ee5-86cd-552ee1c61aa1",
     "showTitle": false,
     "title": ""
    }
   },
   "outputs": [
    {
     "data": {
      "text/plain": [
       "+----+--------+-------------------+------------------+------------------+-----------------+------------------+-----------------+------------------+-----------------+------------------+-----------------+------------------+-----------------+------------------+----------------+-----------------+-----------------+-----------------+-----------------+------------------+------------------+------------+\n",
       "|Date|Location|            MinTemp|           MaxTemp|          Rainfall|      Evaporation|          Sunshine|      WindGustDir|     WindGustSpeed|       WindDir9am|        WindDir3pm|     WindSpeed9am|      WindSpeed3pm|      Humidity9am|       Humidity3pm|     Pressure9am|      Pressure3pm|         Cloud9am|         Cloud3pm|          Temp9am|           Temp3pm|         RainToday|RainTomorrow|\n",
       "+----+--------+-------------------+------------------+------------------+-----------------+------------------+-----------------+------------------+-----------------+------------------+-----------------+------------------+-----------------+------------------+----------------+-----------------+-----------------+-----------------+-----------------+------------------+------------------+------------+\n",
       "| 0.0|     0.0|0.44798267143952236|0.2264527789694289|0.9887969168665124|42.78902618272348|47.692924405561456|6.561504434114197|6.5193082641198945|7.041837502549352|2.6569521706413113|0.948007285872019|1.8495987847503041|1.247600092831574|2.5388028946572616|9.85561877166949|9.832410878172624|37.73533155640573|40.15246882757942|0.635755627914173|1.9171126567411898|0.9887969168665124|         0.0|\n",
       "+----+--------+-------------------+------------------+------------------+-----------------+------------------+-----------------+------------------+-----------------+------------------+-----------------+------------------+-----------------+------------------+----------------+-----------------+-----------------+-----------------+-----------------+------------------+------------------+------------+\n",
       "\n"
      ]
     },
     "metadata": {
      "application/vnd.databricks.v1+output": {
       "addedWidgets": {},
       "arguments": {},
       "data": "+----+--------+-------------------+------------------+------------------+-----------------+------------------+-----------------+------------------+-----------------+------------------+-----------------+------------------+-----------------+------------------+----------------+-----------------+-----------------+-----------------+-----------------+------------------+------------------+------------+\n|Date|Location|            MinTemp|           MaxTemp|          Rainfall|      Evaporation|          Sunshine|      WindGustDir|     WindGustSpeed|       WindDir9am|        WindDir3pm|     WindSpeed9am|      WindSpeed3pm|      Humidity9am|       Humidity3pm|     Pressure9am|      Pressure3pm|         Cloud9am|         Cloud3pm|          Temp9am|           Temp3pm|         RainToday|RainTomorrow|\n+----+--------+-------------------+------------------+------------------+-----------------+------------------+-----------------+------------------+-----------------+------------------+-----------------+------------------+-----------------+------------------+----------------+-----------------+-----------------+-----------------+-----------------+------------------+------------------+------------+\n| 0.0|     0.0|0.44798267143952236|0.2264527789694289|0.9887969168665124|42.78902618272348|47.692924405561456|6.561504434114197|6.5193082641198945|7.041837502549352|2.6569521706413113|0.948007285872019|1.8495987847503041|1.247600092831574|2.5388028946572616|9.85561877166949|9.832410878172624|37.73533155640573|40.15246882757942|0.635755627914173|1.9171126567411898|0.9887969168665124|         0.0|\n+----+--------+-------------------+------------------+------------------+-----------------+------------------+-----------------+------------------+-----------------+------------------+-----------------+------------------+-----------------+------------------+----------------+-----------------+-----------------+-----------------+-----------------+------------------+------------------+------------+\n\n",
       "datasetInfos": [],
       "metadata": {},
       "removedWidgets": [],
       "type": "ansi"
      }
     },
     "output_type": "display_data"
    }
   ],
   "source": [
    "def missing_percent(df):\n",
    "    df.select([(count(when(isnan(c)\n",
    "                    | col(c).isNull()\n",
    "                    | (col(c) == \"NA\"), c))/(df.count())*100).alias(c) for c in df.columns]).show()\n",
    "\n",
    "missing_percent(df)"
   ]
  },
  {
   "cell_type": "markdown",
   "metadata": {},
   "source": [
    "As we can see, there are some columns containing a lot of missing values, such as 'Evaporation','Sunshine','Cloud9am', 'Cloud3pm', 'Pressure9am', 'Pressure3pm'.\n",
    "\n",
    "These columns should be removed as they do not bring enough information to our project. We define here a function called drop_col to drop column as we want"
   ]
  },
  {
   "cell_type": "code",
   "execution_count": 0,
   "metadata": {
    "application/vnd.databricks.v1+cell": {
     "cellMetadata": {},
     "inputWidgets": {},
     "nuid": "49d08d23-e5c4-4657-bd6b-c931ef5b9048",
     "showTitle": false,
     "title": ""
    }
   },
   "outputs": [],
   "source": [
    "def drop_col(col):\n",
    "    global df\n",
    "    if col in df.columns:\n",
    "        df = df.drop(col)\n",
    "\n",
    "for col in ['Evaporation','Sunshine','Cloud9am', 'Cloud3pm', 'Pressure9am', 'Pressure3pm']:\n",
    "    drop_col(col)"
   ]
  },
  {
   "cell_type": "markdown",
   "metadata": {
    "application/vnd.databricks.v1+cell": {
     "cellMetadata": {},
     "inputWidgets": {},
     "nuid": "d91cf134-e6a4-4d64-ac8c-11aaec166bfa",
     "showTitle": false,
     "title": ""
    }
   },
   "source": [
    "#### Step 2: Filling missing values by mode value (for categorical columns), and by median value (for numeric columns)"
   ]
  },
  {
   "cell_type": "markdown",
   "metadata": {},
   "source": [
    "We define the categorical and numerical columns remained."
   ]
  },
  {
   "cell_type": "code",
   "execution_count": 0,
   "metadata": {
    "application/vnd.databricks.v1+cell": {
     "cellMetadata": {},
     "inputWidgets": {},
     "nuid": "8db3c02d-a4ae-4e68-a537-59ae9d50e45d",
     "showTitle": false,
     "title": ""
    }
   },
   "outputs": [],
   "source": [
    "num_col = ['MinTemp', 'MaxTemp', 'Rainfall', 'WindGustSpeed', 'WindSpeed9am', 'WindSpeed3pm', 'Humidity9am', 'Humidity3pm', 'Temp9am', 'Temp3pm']\n",
    "cat_col = ['Date', 'Location', 'WindGustDir', 'WindDir9am', 'WindDir3pm', 'RainToday', 'RainTomorrow']"
   ]
  },
  {
   "cell_type": "markdown",
   "metadata": {},
   "source": [
    "We change the datatype of all columns in list num_col above from 'string' to 'double'"
   ]
  },
  {
   "cell_type": "code",
   "execution_count": 0,
   "metadata": {
    "application/vnd.databricks.v1+cell": {
     "cellMetadata": {},
     "inputWidgets": {},
     "nuid": "271f20a5-b5e3-477c-a0a3-0939d8df230c",
     "showTitle": false,
     "title": ""
    }
   },
   "outputs": [],
   "source": [
    "for col in num_col:\n",
    "    df = df.withColumn(col, df[col].cast(\"double\"))"
   ]
  },
  {
   "cell_type": "markdown",
   "metadata": {},
   "source": [
    "We fill missing values in categorical columns by the mode of that column:"
   ]
  },
  {
   "cell_type": "code",
   "execution_count": 0,
   "metadata": {
    "application/vnd.databricks.v1+cell": {
     "cellMetadata": {},
     "inputWidgets": {},
     "nuid": "5412eed8-a833-4c34-8bf3-b0103710751a",
     "showTitle": false,
     "title": ""
    }
   },
   "outputs": [],
   "source": [
    "from pyspark.sql import functions as F\n",
    "for col_name in cat_col:\n",
    "    count_mode_val = df.groupBy(col_name).count().filter(F.col(col_name).isNotNull()).agg(F.max(\"count\")).collect()[0][0]\n",
    "    mode_val = df.groupBy(col_name).count().filter(F.col(col_name).isNotNull()).filter(F.col(\"count\") == count_mode_val).select(col_name).collect()[0][0]\n",
    "    df = df.withColumn(col_name,F.when(F.col(col_name)==\"NA\",mode_val).otherwise(F.col(col_name)))"
   ]
  },
  {
   "cell_type": "markdown",
   "metadata": {},
   "source": [
    "We fill missing values in numerical columns by the median of that column:"
   ]
  },
  {
   "cell_type": "code",
   "execution_count": 0,
   "metadata": {
    "application/vnd.databricks.v1+cell": {
     "cellMetadata": {},
     "inputWidgets": {},
     "nuid": "d7ca2560-360d-40bc-b1d7-869074e7724f",
     "showTitle": false,
     "title": ""
    }
   },
   "outputs": [],
   "source": [
    "from pyspark.ml.feature import Imputer\n",
    "imputer = Imputer(inputCols = num_col, outputCols = num_col).setStrategy('median')\n",
    "df = imputer.fit(df).transform(df)"
   ]
  },
  {
   "cell_type": "markdown",
   "metadata": {
    "application/vnd.databricks.v1+cell": {
     "cellMetadata": {},
     "inputWidgets": {},
     "nuid": "2a7a81f1-e1a9-4729-91a4-a7ea794ceb5f",
     "showTitle": false,
     "title": ""
    }
   },
   "source": [
    "## 2.3. Features extracting"
   ]
  },
  {
   "cell_type": "markdown",
   "metadata": {
    "application/vnd.databricks.v1+cell": {
     "cellMetadata": {},
     "inputWidgets": {},
     "nuid": "26f69818-9072-4701-91e2-b7f92bbde9e9",
     "showTitle": false,
     "title": ""
    }
   },
   "source": [
    "### 2.3.1. Correlation between numerical columns and target column (RainTomorrow)"
   ]
  },
  {
   "cell_type": "markdown",
   "metadata": {},
   "source": [
    "We want to analyse the correlation between numerical column and target column (RainTomorrow)"
   ]
  },
  {
   "cell_type": "code",
   "execution_count": 0,
   "metadata": {
    "application/vnd.databricks.v1+cell": {
     "cellMetadata": {},
     "inputWidgets": {},
     "nuid": "23919aa9-7f16-4357-ad54-ff739216811c",
     "showTitle": false,
     "title": ""
    }
   },
   "outputs": [
    {
     "data": {
      "text/plain": [
       "MinTemp 0.08370136845272902\n",
       "MaxTemp -0.15905986368317063\n",
       "Rainfall 0.23508696663173922\n",
       "WindGustSpeed 0.22476600699195176\n",
       "WindSpeed9am 0.0904461199509426\n",
       "WindSpeed3pm 0.08697306340610542\n",
       "Humidity9am 0.2552920750958114\n",
       "Humidity3pm 0.4397406441924282\n",
       "Temp9am -0.025652834276214842\n",
       "Temp3pm -0.1904619160412507\n",
       "RainTomorrow 1.0\n"
      ]
     },
     "metadata": {
      "application/vnd.databricks.v1+output": {
       "addedWidgets": {},
       "arguments": {},
       "data": "MinTemp 0.08370136845272902\nMaxTemp -0.15905986368317063\nRainfall 0.23508696663173922\nWindGustSpeed 0.22476600699195176\nWindSpeed9am 0.0904461199509426\nWindSpeed3pm 0.08697306340610542\nHumidity9am 0.2552920750958114\nHumidity3pm 0.4397406441924282\nTemp9am -0.025652834276214842\nTemp3pm -0.1904619160412507\nRainTomorrow 1.0\n",
       "datasetInfos": [],
       "metadata": {},
       "removedWidgets": [],
       "type": "ansi"
      }
     },
     "output_type": "display_data"
    }
   ],
   "source": [
    "#change data in target column from string to integer \n",
    "from pyspark.sql import functions as F\n",
    "df = df.withColumn('RainTomorrow',F.when(F.col(\"RainTomorrow\")==\"Yes\",\"1\").otherwise(\"0\")) #('Yes' == '1' and 'No' == '0')\n",
    "df = df.withColumn('Raintomorrow', df['RainTomorrow'].cast(\"double\"))                      #'1' and '0' from string to double\n",
    "\n",
    "#dataframe that contains all numerical column and target column (RainTomorrow)\n",
    "df1 = df.select(num_col + ['RainTomorrow'])  \n",
    "\n",
    "#correlation between numerical columns and target column (RainTomorrow)\n",
    "for col in df1.columns:\n",
    "    print(col, df1.corr('RainTomorrow', col))"
   ]
  },
  {
   "cell_type": "markdown",
   "metadata": {
    "application/vnd.databricks.v1+cell": {
     "cellMetadata": {},
     "inputWidgets": {},
     "nuid": "477614d6-5b76-4096-84ef-14f42cace8a9",
     "showTitle": false,
     "title": ""
    }
   },
   "source": [
    "#### Remove numerical columns that do not have strong correlation to target column"
   ]
  },
  {
   "cell_type": "markdown",
   "metadata": {},
   "source": [
    "As we can see, there are some columns that have very small correlation to the target RainTomorrow, such as columns: 'Temp9am', 'WindSpeed9am', 'WindSpeed3pm', 'MinTemp'. We drop these columns as they does not strongly related in predicting the target.\n"
   ]
  },
  {
   "cell_type": "code",
   "execution_count": 0,
   "metadata": {
    "application/vnd.databricks.v1+cell": {
     "cellMetadata": {},
     "inputWidgets": {},
     "nuid": "bb1822f6-5a82-4ab7-a7a9-69cf1c022dec",
     "showTitle": false,
     "title": ""
    }
   },
   "outputs": [],
   "source": [
    "for col in ['Temp9am','WindSpeed9am','WindSpeed3pm', 'MinTemp']:\n",
    "    drop_col(col)"
   ]
  },
  {
   "cell_type": "markdown",
   "metadata": {
    "application/vnd.databricks.v1+cell": {
     "cellMetadata": {},
     "inputWidgets": {},
     "nuid": "d47fbf96-3de7-4b40-9b92-f7ce04a32ec8",
     "showTitle": false,
     "title": ""
    }
   },
   "source": [
    "***Besides, it is interesting to note that the features that have strongest relations to target are Humidity3pm, Humidity9am and Rainfall. This is quite easy to understand because in reality, the posibility of raining depends a lot in humidity. It means that the data is related really well to the reality.***"
   ]
  },
  {
   "cell_type": "markdown",
   "metadata": {
    "application/vnd.databricks.v1+cell": {
     "cellMetadata": {},
     "inputWidgets": {},
     "nuid": "64eef0e8-13c2-499b-884f-1e9ccb70b2aa",
     "showTitle": false,
     "title": ""
    }
   },
   "source": [
    "### 2.3.2. Dealing with Date column"
   ]
  },
  {
   "cell_type": "markdown",
   "metadata": {},
   "source": [
    "We continue to analyse the column 'Date'. We will separate this column into 3 part: day, month and year, and creat 3 new columns for each information"
   ]
  },
  {
   "cell_type": "code",
   "execution_count": 0,
   "metadata": {
    "application/vnd.databricks.v1+cell": {
     "cellMetadata": {},
     "inputWidgets": {},
     "nuid": "2150d000-2689-43a6-8035-11a0e569a110",
     "showTitle": false,
     "title": ""
    }
   },
   "outputs": [
    {
     "data": {
      "text/plain": [
       "+--------+-------+--------+-----------+-------------+----------+----------+-----------+-----------+-------+---------+------------+----------+-----+------+\n",
       "|Location|MaxTemp|Rainfall|WindGustDir|WindGustSpeed|WindDir9am|WindDir3pm|Humidity9am|Humidity3pm|Temp3pm|RainToday|Raintomorrow|dayOfMonth|month|  year|\n",
       "+--------+-------+--------+-----------+-------------+----------+----------+-----------+-----------+-------+---------+------------+----------+-----+------+\n",
       "|  Albury|   22.9|     0.6|          W|         44.0|         W|       WNW|       71.0|       22.0|   21.8|       No|         0.0|       1.0| 12.0|2008.0|\n",
       "|  Albury|   25.1|     0.0|        WNW|         44.0|       NNW|       WSW|       44.0|       25.0|   24.3|       No|         0.0|       2.0| 12.0|2008.0|\n",
       "|  Albury|   25.7|     0.0|        WSW|         46.0|         W|       WSW|       38.0|       30.0|   23.2|       No|         0.0|       3.0| 12.0|2008.0|\n",
       "+--------+-------+--------+-----------+-------------+----------+----------+-----------+-----------+-------+---------+------------+----------+-----+------+\n",
       "only showing top 3 rows\n",
       "\n"
      ]
     },
     "metadata": {
      "application/vnd.databricks.v1+output": {
       "addedWidgets": {},
       "arguments": {},
       "data": "+--------+-------+--------+-----------+-------------+----------+----------+-----------+-----------+-------+---------+------------+----------+-----+------+\n|Location|MaxTemp|Rainfall|WindGustDir|WindGustSpeed|WindDir9am|WindDir3pm|Humidity9am|Humidity3pm|Temp3pm|RainToday|Raintomorrow|dayOfMonth|month|  year|\n+--------+-------+--------+-----------+-------------+----------+----------+-----------+-----------+-------+---------+------------+----------+-----+------+\n|  Albury|   22.9|     0.6|          W|         44.0|         W|       WNW|       71.0|       22.0|   21.8|       No|         0.0|       1.0| 12.0|2008.0|\n|  Albury|   25.1|     0.0|        WNW|         44.0|       NNW|       WSW|       44.0|       25.0|   24.3|       No|         0.0|       2.0| 12.0|2008.0|\n|  Albury|   25.7|     0.0|        WSW|         46.0|         W|       WSW|       38.0|       30.0|   23.2|       No|         0.0|       3.0| 12.0|2008.0|\n+--------+-------+--------+-----------+-------------+----------+----------+-----------+-----------+-------+---------+------------+----------+-----+------+\nonly showing top 3 rows\n\n",
       "datasetInfos": [],
       "metadata": {},
       "removedWidgets": [],
       "type": "ansi"
      }
     },
     "output_type": "display_data"
    }
   ],
   "source": [
    "df = df.withColumn(\n",
    "    colName=\"datetime\",\n",
    "    col=to_timestamp(df.Date),   #based on column 'Date', we creat column 'datetime' with datatype is timestamp\n",
    ")\n",
    "\n",
    "from pyspark.sql.functions import *\n",
    "from pyspark.sql.functions import year, month, dayofmonth\n",
    "df = df.withColumn('dayOfMonth', dayofmonth(col('datetime')))  #separate 'datetime' into 3 new columns: dayOfMonth, month, year\n",
    "df = df.withColumn('month', month(col('datetime')))\n",
    "df = df.withColumn('year', year(col('datetime')))\n",
    "\n",
    "for col in ['Date', 'datetime']:   #drop the columns 'Date' and 'datetime'\n",
    "    drop_col(col)         \n",
    "\n",
    "for col in ['dayOfMonth', 'month', 'year']:\n",
    "    df = df.withColumn(col, df[col].cast(\"double\"))\n",
    "\n",
    "df.show(3)"
   ]
  },
  {
   "cell_type": "markdown",
   "metadata": {
    "application/vnd.databricks.v1+cell": {
     "cellMetadata": {},
     "inputWidgets": {},
     "nuid": "6567ca95-25e0-4c02-846a-2b1790ef70c5",
     "showTitle": false,
     "title": ""
    }
   },
   "source": [
    "# 3. Classification"
   ]
  },
  {
   "cell_type": "markdown",
   "metadata": {
    "application/vnd.databricks.v1+cell": {
     "cellMetadata": {},
     "inputWidgets": {},
     "nuid": "9d6932bc-3ef7-4342-b6a3-60a8e34c26eb",
     "showTitle": false,
     "title": ""
    }
   },
   "source": [
    "## 3.1. Splitting data"
   ]
  },
  {
   "cell_type": "code",
   "execution_count": 0,
   "metadata": {
    "application/vnd.databricks.v1+cell": {
     "cellMetadata": {},
     "inputWidgets": {},
     "nuid": "9789bff2-a1b9-441d-b42f-d77562337a84",
     "showTitle": false,
     "title": ""
    }
   },
   "outputs": [],
   "source": [
    "for col in ['dayOfMonth', 'month', 'year']:\n",
    "    df = df.withColumn(col, df[col].cast(\"string\"))"
   ]
  },
  {
   "cell_type": "code",
   "execution_count": 0,
   "metadata": {
    "application/vnd.databricks.v1+cell": {
     "cellMetadata": {},
     "inputWidgets": {},
     "nuid": "94f72479-b62e-4827-ba4a-447310639c91",
     "showTitle": false,
     "title": ""
    }
   },
   "outputs": [
    {
     "data": {
      "text/plain": [
       "Number of observations in the train set: 113916\n",
       "Number of observations in the test set: 28277\n"
      ]
     },
     "metadata": {
      "application/vnd.databricks.v1+output": {
       "addedWidgets": {},
       "arguments": {},
       "data": "Number of observations in the train set: 113916\nNumber of observations in the test set: 28277\n",
       "datasetInfos": [],
       "metadata": {},
       "removedWidgets": [],
       "type": "ansi"
      }
     },
     "output_type": "display_data"
    }
   ],
   "source": [
    "train, test = df.randomSplit(weights=[0.8, 0.2], seed=42)\n",
    "print(f\"Number of observations in the train set: {train.count()}\")\n",
    "print(f\"Number of observations in the test set: {test.count()}\")"
   ]
  },
  {
   "cell_type": "markdown",
   "metadata": {},
   "source": [
    "We define here the categorical and numerical columns for data set in fitting models"
   ]
  },
  {
   "cell_type": "code",
   "execution_count": 0,
   "metadata": {
    "application/vnd.databricks.v1+cell": {
     "cellMetadata": {},
     "inputWidgets": {},
     "nuid": "a511dafd-5989-4c38-a4d3-4f8a0e8b17a8",
     "showTitle": false,
     "title": ""
    }
   },
   "outputs": [],
   "source": [
    "CAT_COLS_PRED = ['Location', 'WindGustDir', 'WindDir9am', 'WindDir3pm', 'RainToday', 'dayOfMonth', 'year', 'month']\n",
    "NUM_COLS_PRED = ['MaxTemp', 'Rainfall', 'WindGustSpeed', 'Humidity9am', 'Humidity3pm', 'Temp3pm', 'Raintomorrow']\n",
    "TARGET_COL = 'Raintomorrow'"
   ]
  },
  {
   "cell_type": "markdown",
   "metadata": {
    "application/vnd.databricks.v1+cell": {
     "cellMetadata": {},
     "inputWidgets": {},
     "nuid": "ca02394a-ddf7-4e78-8c89-2018586ff6ec",
     "showTitle": false,
     "title": ""
    }
   },
   "source": [
    "## 3.2. OneHotEncoder for categorical columns"
   ]
  },
  {
   "cell_type": "markdown",
   "metadata": {},
   "source": [
    "Preprocess categorical columns by OneHotEncoder"
   ]
  },
  {
   "cell_type": "code",
   "execution_count": 0,
   "metadata": {
    "application/vnd.databricks.v1+cell": {
     "cellMetadata": {},
     "inputWidgets": {},
     "nuid": "6b3f97b4-67ce-4ee8-9f2b-2f6eb47d585c",
     "showTitle": false,
     "title": ""
    }
   },
   "outputs": [
    {
     "data": {
      "text/plain": [
       "+--------+-------+--------+-----------+-------------+----------+----------+-----------+-----------+-------+---------+------------+----------+-----+------+----------------+-------------------+------------------+------------------+-----------------+------------------+------------+-------------+--------------+---------------+--------------+--------------+-------------+---------------+--------------+--------------+\n",
       "|Location|MaxTemp|Rainfall|WindGustDir|WindGustSpeed|WindDir9am|WindDir3pm|Humidity9am|Humidity3pm|Temp3pm|RainToday|Raintomorrow|dayOfMonth|month|  year|Location_indexer|WindGustDir_indexer|WindDir9am_indexer|WindDir3pm_indexer|RainToday_indexer|dayOfMonth_indexer|year_indexer|month_indexer|  Location_vec|WindGustDir_vec|WindDir9am_vec|WindDir3pm_vec|RainToday_vec| dayOfMonth_vec|      year_vec|     month_vec|\n",
       "+--------+-------+--------+-----------+-------------+----------+----------+-----------+-----------+-------+---------+------------+----------+-----+------+----------------+-------------------+------------------+------------------+-----------------+------------------+------------+-------------+--------------+---------------+--------------+--------------+-------------+---------------+--------------+--------------+\n",
       "|  Albury|    6.8|    10.0|         NE|         30.0|         S|       SSE|       96.0|       93.0|    6.4|      Yes|         1.0|      15.0|  7.0|2015.0|             7.0|               13.0|               5.0|               5.0|              1.0|              18.0|         1.0|          4.0|(48,[7],[1.0])|(15,[13],[1.0])|(15,[5],[1.0])|(15,[5],[1.0])|    (1,[],[])|(30,[18],[1.0])|(10,[1],[1.0])|(11,[4],[1.0])|\n",
       "|  Albury|    7.5|     0.0|        ENE|         15.0|         N|        SE|       99.0|       79.0|    7.4|       No|         0.0|      26.0|  6.0|2016.0|             7.0|               11.0|               0.0|               0.0|              0.0|              24.0|         0.0|          3.0|(48,[7],[1.0])|(15,[11],[1.0])|(15,[0],[1.0])|(15,[0],[1.0])|(1,[0],[1.0])|(30,[24],[1.0])|(10,[0],[1.0])|(11,[3],[1.0])|\n",
       "+--------+-------+--------+-----------+-------------+----------+----------+-----------+-----------+-------+---------+------------+----------+-----+------+----------------+-------------------+------------------+------------------+-----------------+------------------+------------+-------------+--------------+---------------+--------------+--------------+-------------+---------------+--------------+--------------+\n",
       "only showing top 2 rows\n",
       "\n"
      ]
     },
     "metadata": {
      "application/vnd.databricks.v1+output": {
       "addedWidgets": {},
       "arguments": {},
       "data": "+--------+-------+--------+-----------+-------------+----------+----------+-----------+-----------+-------+---------+------------+----------+-----+------+----------------+-------------------+------------------+------------------+-----------------+------------------+------------+-------------+--------------+---------------+--------------+--------------+-------------+---------------+--------------+--------------+\n|Location|MaxTemp|Rainfall|WindGustDir|WindGustSpeed|WindDir9am|WindDir3pm|Humidity9am|Humidity3pm|Temp3pm|RainToday|Raintomorrow|dayOfMonth|month|  year|Location_indexer|WindGustDir_indexer|WindDir9am_indexer|WindDir3pm_indexer|RainToday_indexer|dayOfMonth_indexer|year_indexer|month_indexer|  Location_vec|WindGustDir_vec|WindDir9am_vec|WindDir3pm_vec|RainToday_vec| dayOfMonth_vec|      year_vec|     month_vec|\n+--------+-------+--------+-----------+-------------+----------+----------+-----------+-----------+-------+---------+------------+----------+-----+------+----------------+-------------------+------------------+------------------+-----------------+------------------+------------+-------------+--------------+---------------+--------------+--------------+-------------+---------------+--------------+--------------+\n|  Albury|    6.8|    10.0|         NE|         30.0|         S|       SSE|       96.0|       93.0|    6.4|      Yes|         1.0|      15.0|  7.0|2015.0|             7.0|               13.0|               5.0|               5.0|              1.0|              18.0|         1.0|          4.0|(48,[7],[1.0])|(15,[13],[1.0])|(15,[5],[1.0])|(15,[5],[1.0])|    (1,[],[])|(30,[18],[1.0])|(10,[1],[1.0])|(11,[4],[1.0])|\n|  Albury|    7.5|     0.0|        ENE|         15.0|         N|        SE|       99.0|       79.0|    7.4|       No|         0.0|      26.0|  6.0|2016.0|             7.0|               11.0|               0.0|               0.0|              0.0|              24.0|         0.0|          3.0|(48,[7],[1.0])|(15,[11],[1.0])|(15,[0],[1.0])|(15,[0],[1.0])|(1,[0],[1.0])|(30,[24],[1.0])|(10,[0],[1.0])|(11,[3],[1.0])|\n+--------+-------+--------+-----------+-------------+----------+----------+-----------+-----------+-------+---------+------------+----------+-----+------+----------------+-------------------+------------------+------------------+-----------------+------------------+------------+-------------+--------------+---------------+--------------+--------------+-------------+---------------+--------------+--------------+\nonly showing top 2 rows\n\n",
       "datasetInfos": [],
       "metadata": {},
       "removedWidgets": [],
       "type": "ansi"
      }
     },
     "output_type": "display_data"
    }
   ],
   "source": [
    "CAT_COLS_INDEXER = [f\"{cat_col}_indexer\" for cat_col in CAT_COLS_PRED]\n",
    "CAT_COLS_ONEHOT = [f\"{cat_col}_vec\" for cat_col in CAT_COLS_PRED]\n",
    "\n",
    "cat_stages = [\n",
    "    StringIndexer(\n",
    "        inputCols=CAT_COLS_PRED,\n",
    "        outputCols=CAT_COLS_INDEXER,\n",
    "    ),\n",
    "    OneHotEncoder(\n",
    "        inputCols=CAT_COLS_INDEXER,\n",
    "        outputCols=CAT_COLS_ONEHOT,\n",
    "        dropLast=True,\n",
    "    ),\n",
    "]\n",
    "\n",
    "#Pipeline\n",
    "Pipeline(stages=cat_stages).fit(train).transform(train).show(2)"
   ]
  },
  {
   "cell_type": "markdown",
   "metadata": {
    "application/vnd.databricks.v1+cell": {
     "cellMetadata": {},
     "inputWidgets": {},
     "nuid": "a05ce5b3-4b27-45df-9c98-64ed02ffe5aa",
     "showTitle": false,
     "title": ""
    }
   },
   "source": [
    "## 3.3. Scaling numerical columns"
   ]
  },
  {
   "cell_type": "markdown",
   "metadata": {},
   "source": [
    "Preprocess numerical columns by scaling"
   ]
  },
  {
   "cell_type": "code",
   "execution_count": 0,
   "metadata": {
    "application/vnd.databricks.v1+cell": {
     "cellMetadata": {},
     "inputWidgets": {},
     "nuid": "ac08bb68-0368-471e-8a2e-62f2d44f67c8",
     "showTitle": false,
     "title": ""
    }
   },
   "outputs": [
    {
     "data": {
      "text/plain": [
       "+--------+-------+--------+-----------+-------------+----------+----------+-----------+-----------+-------+---------+------------+----------+-----+------+---------------------------------+---------------------------------------------------------------------------------------------------------------------------------------+\n",
       "|Location|MaxTemp|Rainfall|WindGustDir|WindGustSpeed|WindDir9am|WindDir3pm|Humidity9am|Humidity3pm|Temp3pm|RainToday|Raintomorrow|dayOfMonth|month|year  |assembled_num                    |scaled_num                                                                                                                             |\n",
       "+--------+-------+--------+-----------+-------------+----------+----------+-----------+-----------+-------+---------+------------+----------+-----+------+---------------------------------+---------------------------------------------------------------------------------------------------------------------------------------+\n",
       "|Albury  |6.8    |10.0    |NE         |30.0         |S         |SSE       |96.0       |93.0       |6.4    |Yes      |1.0         |15.0      |7.0  |2015.0|[6.8,10.0,30.0,96.0,93.0,6.4,1.0]|[0.9558934446874955,1.176565290001742,2.2810103971514066,5.0744856724110345,4.5311528538563355,0.9305910792972667,2.3979574974202857]  |\n",
       "|Albury  |7.5    |0.0     |ENE        |15.0         |N         |SE        |99.0       |79.0       |7.4    |No       |0.0         |26.0      |6.0  |2016.0|[7.5,0.0,15.0,99.0,79.0,7.4,0.0] |[1.0542942404641493,0.0,1.1405051985757033,5.23306334967388,3.849043822093016,1.0759959354374646,0.0]                                  |\n",
       "|Albury  |8.2    |4.0     |W          |48.0         |WNW       |W         |87.0       |85.0       |7.5    |Yes      |1.0         |24.0      |6.0  |2016.0|[8.2,4.0,48.0,87.0,85.0,7.5,1.0] |[1.1526950362408033,0.4706261160006968,3.649616635442251,4.5987526406225,4.141376264277295,1.0905364210514843,2.3979574974202857]      |\n",
       "|Albury  |8.3    |0.0     |NNW        |52.0         |SE        |WSW       |99.0       |70.0       |8.2    |No       |0.0         |28.0      |6.0  |2010.0|[8.3,0.0,52.0,99.0,70.0,8.2,0.0] |[1.1667522927803256,0.0,3.9537513550624386,5.23306334967388,3.4105451588165967,1.1923198203496228,0.0]                                 |\n",
       "|Albury  |8.3    |0.0     |WNW        |28.0         |N         |W         |93.0       |64.0       |8.0    |No       |1.0         |8.0       |7.0  |2011.0|[8.3,0.0,28.0,93.0,64.0,8.0,1.0] |[1.1667522927803256,0.0,2.1289430373413127,4.91590799514819,3.118212716632317,1.1632388491215833,2.3979574974202857]                   |\n",
       "|Albury  |8.6    |0.0     |WSW        |15.0         |ESE       |WSW       |99.0       |85.0       |8.2    |No       |0.0         |30.0      |6.0  |2015.0|[8.6,0.0,15.0,99.0,85.0,8.2,0.0] |[1.2089240623988913,0.0,1.1405051985757033,5.23306334967388,4.141376264277295,1.1923198203496228,0.0]                                  |\n",
       "|Albury  |8.7    |1.0     |WNW        |54.0         |NW        |W         |85.0       |81.0       |6.7    |No       |1.0         |1.0       |8.0  |2014.0|[8.7,1.0,54.0,85.0,81.0,6.7,1.0] |[1.2229813189384133,0.1176565290001742,4.105818714872532,4.493034189113937,3.946487969487776,0.974212536139326,2.3979574974202857]     |\n",
       "|Albury  |8.8    |0.0     |N          |20.0         |ENE       |NNW       |99.0       |91.0       |7.3    |No       |1.0         |27.0      |7.0  |2009.0|[8.8,0.0,20.0,99.0,91.0,7.3,1.0] |[1.2370385754779354,0.0,1.5206735981009378,5.23306334967388,4.433708706461576,1.0614554498234448,2.3979574974202857]                   |\n",
       "|Albury  |8.8    |2.0     |W          |43.0         |NNW       |WNW       |92.0       |95.0       |7.9    |Yes      |1.0         |9.0       |6.0  |2009.0|[8.8,2.0,43.0,92.0,95.0,7.9,1.0] |[1.2370385754779354,0.2353130580003484,3.2694482359170163,4.863048769393909,4.628597001251095,1.1486983635075636,2.3979574974202857]   |\n",
       "|Albury  |9.0    |0.0     |N          |28.0         |SE        |ENE       |86.0       |86.0       |7.3    |No       |1.0         |12.0      |8.0  |2015.0|[9.0,0.0,28.0,86.0,86.0,7.3,1.0] |[1.2651530885569793,0.0,2.1289430373413127,4.545893414868218,4.190098337974676,1.0614554498234448,2.3979574974202857]                  |\n",
       "|Albury  |9.2    |4.2     |WNW        |28.0         |WNW       |WNW       |94.0       |87.0       |8.1    |Yes      |0.0         |9.0       |7.0  |2011.0|[9.2,4.2,28.0,94.0,87.0,8.1,0.0] |[1.2932676016360232,0.4941574218007317,2.1289430373413127,4.968767220902471,4.238820411672056,1.177779334735603,0.0]                   |\n",
       "|Albury  |9.3    |0.2     |E          |19.0         |N         |E         |93.0       |81.0       |8.9    |No       |1.0         |24.0      |7.0  |2011.0|[9.3,0.2,19.0,93.0,81.0,8.9,1.0] |[1.3073248581755454,0.023531305800034843,1.4446399181958909,4.91590799514819,3.946487969487776,1.2941032196477615,2.3979574974202857]  |\n",
       "|Albury  |9.4    |0.0     |N          |20.0         |ENE       |N         |71.0       |57.0       |9.1    |No       |0.0         |29.0      |6.0  |2010.0|[9.4,0.0,20.0,71.0,57.0,9.1,0.0] |[1.3213821147150673,0.0,1.5206735981009378,3.7530050285539946,2.777158200750657,1.3231841908758009,0.0]                                |\n",
       "|Albury  |9.4    |0.4     |SSW        |24.0         |NE        |ENE       |96.0       |100.0      |9.3    |No       |1.0         |30.0      |5.0  |2017.0|[9.4,0.4,24.0,96.0,100.0,9.3,1.0]|[1.3213821147150673,0.047062611600069686,1.8248083177211254,5.0744856724110345,4.872207369737995,1.3522651621038406,2.3979574974202857]|\n",
       "|Albury  |9.4    |29.4    |W          |59.0         |NNW       |NNW       |87.0       |86.0       |8.6    |Yes      |1.0         |25.0      |5.0  |2012.0|[9.4,29.4,59.0,87.0,86.0,8.6,1.0]|[1.3213821147150673,3.4591019526051214,4.4859871143977665,4.5987526406225,4.190098337974676,1.250481762805702,2.3979574974202857]      |\n",
       "|Albury  |9.5    |9.6     |WNW        |54.0         |WNW       |WNW       |87.0       |66.0       |8.9    |Yes      |0.0         |13.0      |7.0  |2016.0|[9.5,9.6,54.0,87.0,66.0,8.9,0.0] |[1.3354393712545893,1.1295026784016724,4.105818714872532,4.5987526406225,3.2156568640270766,1.2941032196477615,0.0]                    |\n",
       "|Albury  |9.6    |0.0     |SE         |13.0         |N         |ESE       |84.0       |72.0       |8.8    |No       |0.0         |11.0      |6.0  |2009.0|[9.6,0.0,13.0,84.0,72.0,8.8,0.0] |[1.3494966277941112,0.0,0.9884378387656096,4.440174963359655,3.5079893062113565,1.2795627340337417,0.0]                                |\n",
       "|Albury  |9.6    |0.0     |WNW        |33.0         |NW        |W         |94.0       |89.0       |8.9    |No       |0.0         |6.0       |7.0  |2014.0|[9.6,0.0,33.0,94.0,89.0,8.9,0.0] |[1.3494966277941112,0.0,2.5091114368665473,4.968767220902471,4.336264559066816,1.2941032196477615,0.0]                                 |\n",
       "|Albury  |9.7    |5.2     |NNW        |44.0         |NNW       |WNW       |91.0       |90.0       |8.9    |Yes      |0.0         |22.0      |6.0  |2012.0|[9.7,5.2,44.0,91.0,90.0,8.9,0.0] |[1.3635538843336332,0.6118139508009058,3.345481915822063,4.810189543639627,4.384986632764195,1.2941032196477615,0.0]                   |\n",
       "|Albury  |9.8    |0.0     |SSE        |13.0         |N         |E         |85.0       |74.0       |9.6    |No       |0.0         |26.0      |7.0  |2009.0|[9.8,0.0,13.0,85.0,74.0,9.6,0.0] |[1.3776111408731553,0.0,0.9884378387656096,4.493034189113937,3.6054334536061163,1.3958866189458998,0.0]                                |\n",
       "+--------+-------+--------+-----------+-------------+----------+----------+-----------+-----------+-------+---------+------------+----------+-----+------+---------------------------------+---------------------------------------------------------------------------------------------------------------------------------------+\n",
       "only showing top 20 rows\n",
       "\n"
      ]
     },
     "metadata": {
      "application/vnd.databricks.v1+output": {
       "addedWidgets": {},
       "arguments": {},
       "data": "+--------+-------+--------+-----------+-------------+----------+----------+-----------+-----------+-------+---------+------------+----------+-----+------+---------------------------------+---------------------------------------------------------------------------------------------------------------------------------------+\n|Location|MaxTemp|Rainfall|WindGustDir|WindGustSpeed|WindDir9am|WindDir3pm|Humidity9am|Humidity3pm|Temp3pm|RainToday|Raintomorrow|dayOfMonth|month|year  |assembled_num                    |scaled_num                                                                                                                             |\n+--------+-------+--------+-----------+-------------+----------+----------+-----------+-----------+-------+---------+------------+----------+-----+------+---------------------------------+---------------------------------------------------------------------------------------------------------------------------------------+\n|Albury  |6.8    |10.0    |NE         |30.0         |S         |SSE       |96.0       |93.0       |6.4    |Yes      |1.0         |15.0      |7.0  |2015.0|[6.8,10.0,30.0,96.0,93.0,6.4,1.0]|[0.9558934446874955,1.176565290001742,2.2810103971514066,5.0744856724110345,4.5311528538563355,0.9305910792972667,2.3979574974202857]  |\n|Albury  |7.5    |0.0     |ENE        |15.0         |N         |SE        |99.0       |79.0       |7.4    |No       |0.0         |26.0      |6.0  |2016.0|[7.5,0.0,15.0,99.0,79.0,7.4,0.0] |[1.0542942404641493,0.0,1.1405051985757033,5.23306334967388,3.849043822093016,1.0759959354374646,0.0]                                  |\n|Albury  |8.2    |4.0     |W          |48.0         |WNW       |W         |87.0       |85.0       |7.5    |Yes      |1.0         |24.0      |6.0  |2016.0|[8.2,4.0,48.0,87.0,85.0,7.5,1.0] |[1.1526950362408033,0.4706261160006968,3.649616635442251,4.5987526406225,4.141376264277295,1.0905364210514843,2.3979574974202857]      |\n|Albury  |8.3    |0.0     |NNW        |52.0         |SE        |WSW       |99.0       |70.0       |8.2    |No       |0.0         |28.0      |6.0  |2010.0|[8.3,0.0,52.0,99.0,70.0,8.2,0.0] |[1.1667522927803256,0.0,3.9537513550624386,5.23306334967388,3.4105451588165967,1.1923198203496228,0.0]                                 |\n|Albury  |8.3    |0.0     |WNW        |28.0         |N         |W         |93.0       |64.0       |8.0    |No       |1.0         |8.0       |7.0  |2011.0|[8.3,0.0,28.0,93.0,64.0,8.0,1.0] |[1.1667522927803256,0.0,2.1289430373413127,4.91590799514819,3.118212716632317,1.1632388491215833,2.3979574974202857]                   |\n|Albury  |8.6    |0.0     |WSW        |15.0         |ESE       |WSW       |99.0       |85.0       |8.2    |No       |0.0         |30.0      |6.0  |2015.0|[8.6,0.0,15.0,99.0,85.0,8.2,0.0] |[1.2089240623988913,0.0,1.1405051985757033,5.23306334967388,4.141376264277295,1.1923198203496228,0.0]                                  |\n|Albury  |8.7    |1.0     |WNW        |54.0         |NW        |W         |85.0       |81.0       |6.7    |No       |1.0         |1.0       |8.0  |2014.0|[8.7,1.0,54.0,85.0,81.0,6.7,1.0] |[1.2229813189384133,0.1176565290001742,4.105818714872532,4.493034189113937,3.946487969487776,0.974212536139326,2.3979574974202857]     |\n|Albury  |8.8    |0.0     |N          |20.0         |ENE       |NNW       |99.0       |91.0       |7.3    |No       |1.0         |27.0      |7.0  |2009.0|[8.8,0.0,20.0,99.0,91.0,7.3,1.0] |[1.2370385754779354,0.0,1.5206735981009378,5.23306334967388,4.433708706461576,1.0614554498234448,2.3979574974202857]                   |\n|Albury  |8.8    |2.0     |W          |43.0         |NNW       |WNW       |92.0       |95.0       |7.9    |Yes      |1.0         |9.0       |6.0  |2009.0|[8.8,2.0,43.0,92.0,95.0,7.9,1.0] |[1.2370385754779354,0.2353130580003484,3.2694482359170163,4.863048769393909,4.628597001251095,1.1486983635075636,2.3979574974202857]   |\n|Albury  |9.0    |0.0     |N          |28.0         |SE        |ENE       |86.0       |86.0       |7.3    |No       |1.0         |12.0      |8.0  |2015.0|[9.0,0.0,28.0,86.0,86.0,7.3,1.0] |[1.2651530885569793,0.0,2.1289430373413127,4.545893414868218,4.190098337974676,1.0614554498234448,2.3979574974202857]                  |\n|Albury  |9.2    |4.2     |WNW        |28.0         |WNW       |WNW       |94.0       |87.0       |8.1    |Yes      |0.0         |9.0       |7.0  |2011.0|[9.2,4.2,28.0,94.0,87.0,8.1,0.0] |[1.2932676016360232,0.4941574218007317,2.1289430373413127,4.968767220902471,4.238820411672056,1.177779334735603,0.0]                   |\n|Albury  |9.3    |0.2     |E          |19.0         |N         |E         |93.0       |81.0       |8.9    |No       |1.0         |24.0      |7.0  |2011.0|[9.3,0.2,19.0,93.0,81.0,8.9,1.0] |[1.3073248581755454,0.023531305800034843,1.4446399181958909,4.91590799514819,3.946487969487776,1.2941032196477615,2.3979574974202857]  |\n|Albury  |9.4    |0.0     |N          |20.0         |ENE       |N         |71.0       |57.0       |9.1    |No       |0.0         |29.0      |6.0  |2010.0|[9.4,0.0,20.0,71.0,57.0,9.1,0.0] |[1.3213821147150673,0.0,1.5206735981009378,3.7530050285539946,2.777158200750657,1.3231841908758009,0.0]                                |\n|Albury  |9.4    |0.4     |SSW        |24.0         |NE        |ENE       |96.0       |100.0      |9.3    |No       |1.0         |30.0      |5.0  |2017.0|[9.4,0.4,24.0,96.0,100.0,9.3,1.0]|[1.3213821147150673,0.047062611600069686,1.8248083177211254,5.0744856724110345,4.872207369737995,1.3522651621038406,2.3979574974202857]|\n|Albury  |9.4    |29.4    |W          |59.0         |NNW       |NNW       |87.0       |86.0       |8.6    |Yes      |1.0         |25.0      |5.0  |2012.0|[9.4,29.4,59.0,87.0,86.0,8.6,1.0]|[1.3213821147150673,3.4591019526051214,4.4859871143977665,4.5987526406225,4.190098337974676,1.250481762805702,2.3979574974202857]      |\n|Albury  |9.5    |9.6     |WNW        |54.0         |WNW       |WNW       |87.0       |66.0       |8.9    |Yes      |0.0         |13.0      |7.0  |2016.0|[9.5,9.6,54.0,87.0,66.0,8.9,0.0] |[1.3354393712545893,1.1295026784016724,4.105818714872532,4.5987526406225,3.2156568640270766,1.2941032196477615,0.0]                    |\n|Albury  |9.6    |0.0     |SE         |13.0         |N         |ESE       |84.0       |72.0       |8.8    |No       |0.0         |11.0      |6.0  |2009.0|[9.6,0.0,13.0,84.0,72.0,8.8,0.0] |[1.3494966277941112,0.0,0.9884378387656096,4.440174963359655,3.5079893062113565,1.2795627340337417,0.0]                                |\n|Albury  |9.6    |0.0     |WNW        |33.0         |NW        |W         |94.0       |89.0       |8.9    |No       |0.0         |6.0       |7.0  |2014.0|[9.6,0.0,33.0,94.0,89.0,8.9,0.0] |[1.3494966277941112,0.0,2.5091114368665473,4.968767220902471,4.336264559066816,1.2941032196477615,0.0]                                 |\n|Albury  |9.7    |5.2     |NNW        |44.0         |NNW       |WNW       |91.0       |90.0       |8.9    |Yes      |0.0         |22.0      |6.0  |2012.0|[9.7,5.2,44.0,91.0,90.0,8.9,0.0] |[1.3635538843336332,0.6118139508009058,3.345481915822063,4.810189543639627,4.384986632764195,1.2941032196477615,0.0]                   |\n|Albury  |9.8    |0.0     |SSE        |13.0         |N         |E         |85.0       |74.0       |9.6    |No       |0.0         |26.0      |7.0  |2009.0|[9.8,0.0,13.0,85.0,74.0,9.6,0.0] |[1.3776111408731553,0.0,0.9884378387656096,4.493034189113937,3.6054334536061163,1.3958866189458998,0.0]                                |\n+--------+-------+--------+-----------+-------------+----------+----------+-----------+-----------+-------+---------+------------+----------+-----+------+---------------------------------+---------------------------------------------------------------------------------------------------------------------------------------+\nonly showing top 20 rows\n\n",
       "datasetInfos": [],
       "metadata": {},
       "removedWidgets": [],
       "type": "ansi"
      }
     },
     "output_type": "display_data"
    }
   ],
   "source": [
    "num_stages = [\n",
    "    VectorAssembler(\n",
    "        inputCols=NUM_COLS_PRED,\n",
    "        outputCol=\"assembled_num\",\n",
    "    ),\n",
    "    StandardScaler(\n",
    "        inputCol=\"assembled_num\",\n",
    "        outputCol=\"scaled_num\",\n",
    "    ),\n",
    "]\n",
    "\n",
    "#Pipeline\n",
    "Pipeline(stages=num_stages).fit(train).transform(train).show(20, truncate=False)"
   ]
  },
  {
   "cell_type": "code",
   "execution_count": 0,
   "metadata": {
    "application/vnd.databricks.v1+cell": {
     "cellMetadata": {},
     "inputWidgets": {},
     "nuid": "a8fb795c-3c62-4efd-bc23-03ddb57bc9e2",
     "showTitle": false,
     "title": ""
    }
   },
   "outputs": [],
   "source": [
    "feature_assembler = [\n",
    "    VectorAssembler(\n",
    "        inputCols=CAT_COLS_ONEHOT + [\"scaled_num\"],\n",
    "        outputCol=\"features\",\n",
    "    )\n",
    "]"
   ]
  },
  {
   "cell_type": "code",
   "execution_count": 0,
   "metadata": {
    "application/vnd.databricks.v1+cell": {
     "cellMetadata": {},
     "inputWidgets": {},
     "nuid": "98033951-78e9-4715-bea4-5de32c8e625b",
     "showTitle": false,
     "title": ""
    }
   },
   "outputs": [],
   "source": [
    "target_stages = [StringIndexer(inputCol=TARGET_COL, outputCol='label')]"
   ]
  },
  {
   "cell_type": "code",
   "execution_count": 0,
   "metadata": {
    "application/vnd.databricks.v1+cell": {
     "cellMetadata": {},
     "inputWidgets": {},
     "nuid": "4e2f3f80-5a35-4be0-9bcf-90f5f6ac0a2e",
     "showTitle": false,
     "title": ""
    }
   },
   "outputs": [
    {
     "data": {
      "text/plain": [
       "+--------+-------+--------+-----------+-------------+----------+----------+-----------+-----------+-------+---------+------------+----------+-----+------+-----+\n",
       "|Location|MaxTemp|Rainfall|WindGustDir|WindGustSpeed|WindDir9am|WindDir3pm|Humidity9am|Humidity3pm|Temp3pm|RainToday|Raintomorrow|dayOfMonth|month|  year|label|\n",
       "+--------+-------+--------+-----------+-------------+----------+----------+-----------+-----------+-------+---------+------------+----------+-----+------+-----+\n",
       "|  Albury|    6.8|    10.0|         NE|         30.0|         S|       SSE|       96.0|       93.0|    6.4|      Yes|         1.0|      15.0|  7.0|2015.0|  1.0|\n",
       "|  Albury|    7.5|     0.0|        ENE|         15.0|         N|        SE|       99.0|       79.0|    7.4|       No|         0.0|      26.0|  6.0|2016.0|  0.0|\n",
       "+--------+-------+--------+-----------+-------------+----------+----------+-----------+-----------+-------+---------+------------+----------+-----+------+-----+\n",
       "only showing top 2 rows\n",
       "\n"
      ]
     },
     "metadata": {
      "application/vnd.databricks.v1+output": {
       "addedWidgets": {},
       "arguments": {},
       "data": "+--------+-------+--------+-----------+-------------+----------+----------+-----------+-----------+-------+---------+------------+----------+-----+------+-----+\n|Location|MaxTemp|Rainfall|WindGustDir|WindGustSpeed|WindDir9am|WindDir3pm|Humidity9am|Humidity3pm|Temp3pm|RainToday|Raintomorrow|dayOfMonth|month|  year|label|\n+--------+-------+--------+-----------+-------------+----------+----------+-----------+-----------+-------+---------+------------+----------+-----+------+-----+\n|  Albury|    6.8|    10.0|         NE|         30.0|         S|       SSE|       96.0|       93.0|    6.4|      Yes|         1.0|      15.0|  7.0|2015.0|  1.0|\n|  Albury|    7.5|     0.0|        ENE|         15.0|         N|        SE|       99.0|       79.0|    7.4|       No|         0.0|      26.0|  6.0|2016.0|  0.0|\n+--------+-------+--------+-----------+-------------+----------+----------+-----------+-----------+-------+---------+------------+----------+-----+------+-----+\nonly showing top 2 rows\n\n",
       "datasetInfos": [],
       "metadata": {},
       "removedWidgets": [],
       "type": "ansi"
      }
     },
     "output_type": "display_data"
    }
   ],
   "source": [
    "# Show the effect of the target_stages\n",
    "Pipeline(stages=target_stages).fit(train).transform(train).show(2)"
   ]
  },
  {
   "cell_type": "code",
   "execution_count": 0,
   "metadata": {
    "application/vnd.databricks.v1+cell": {
     "cellMetadata": {},
     "inputWidgets": {},
     "nuid": "f3188b56-055d-45b7-9913-63d057b8de5e",
     "showTitle": false,
     "title": ""
    }
   },
   "outputs": [],
   "source": [
    "pipe = Pipeline(stages=cat_stages + num_stages + feature_assembler + target_stages)\n",
    "preproc_model = pipe.fit(train)"
   ]
  },
  {
   "cell_type": "code",
   "execution_count": 0,
   "metadata": {
    "application/vnd.databricks.v1+cell": {
     "cellMetadata": {},
     "inputWidgets": {},
     "nuid": "1de1b2d5-2845-4b15-906d-067bf483be4e",
     "showTitle": false,
     "title": ""
    }
   },
   "outputs": [
    {
     "data": {
      "text/plain": [
       "+----------------------------------------------------------------------------------------------------------------------------------------------------------------------------------------------------------------------------+-----+\n",
       "|features                                                                                                                                                                                                                    |label|\n",
       "+----------------------------------------------------------------------------------------------------------------------------------------------------------------------------------------------------------------------------+-----+\n",
       "|(152,[7,61,68,83,112,125,138,145,146,147,148,149,150,151],[1.0,1.0,1.0,1.0,1.0,1.0,1.0,0.9558934446874955,1.176565290001742,2.2810103971514066,5.0744856724110345,4.5311528538563355,0.9305910792972667,2.3979574974202857])|1.0  |\n",
       "|(152,[7,59,63,78,93,118,124,137,145,147,148,149,150],[1.0,1.0,1.0,1.0,1.0,1.0,1.0,1.0,1.0542942404641493,1.1405051985757033,5.23306334967388,3.849043822093016,1.0759959354374646])                                         |0.0  |\n",
       "+----------------------------------------------------------------------------------------------------------------------------------------------------------------------------------------------------------------------------+-----+\n",
       "only showing top 2 rows\n",
       "\n"
      ]
     },
     "metadata": {
      "application/vnd.databricks.v1+output": {
       "addedWidgets": {},
       "arguments": {},
       "data": "+----------------------------------------------------------------------------------------------------------------------------------------------------------------------------------------------------------------------------+-----+\n|features                                                                                                                                                                                                                    |label|\n+----------------------------------------------------------------------------------------------------------------------------------------------------------------------------------------------------------------------------+-----+\n|(152,[7,61,68,83,112,125,138,145,146,147,148,149,150,151],[1.0,1.0,1.0,1.0,1.0,1.0,1.0,0.9558934446874955,1.176565290001742,2.2810103971514066,5.0744856724110345,4.5311528538563355,0.9305910792972667,2.3979574974202857])|1.0  |\n|(152,[7,59,63,78,93,118,124,137,145,147,148,149,150],[1.0,1.0,1.0,1.0,1.0,1.0,1.0,1.0,1.0542942404641493,1.1405051985757033,5.23306334967388,3.849043822093016,1.0759959354374646])                                         |0.0  |\n+----------------------------------------------------------------------------------------------------------------------------------------------------------------------------------------------------------------------------+-----+\nonly showing top 2 rows\n\n",
       "datasetInfos": [],
       "metadata": {},
       "removedWidgets": [],
       "type": "ansi"
      }
     },
     "output_type": "display_data"
    }
   ],
   "source": [
    "preproc_train = preproc_model.transform(train).select(\"features\", \"label\")\n",
    "preproc_train.show(2, truncate=False)"
   ]
  },
  {
   "cell_type": "code",
   "execution_count": 0,
   "metadata": {
    "application/vnd.databricks.v1+cell": {
     "cellMetadata": {},
     "inputWidgets": {},
     "nuid": "9c94e874-c4be-4032-8753-3efdede7f267",
     "showTitle": false,
     "title": ""
    }
   },
   "outputs": [
    {
     "data": {
      "text/plain": [
       "+---------------------------------------------------------------------------------------------------------------------------------------------------------------------------------------------------------+-----+\n",
       "|features                                                                                                                                                                                                 |label|\n",
       "+---------------------------------------------------------------------------------------------------------------------------------------------------------------------------------------------------------+-----+\n",
       "|(152,[7,60,65,83,93,115,127,137,145,147,148,149,150],[1.0,1.0,1.0,1.0,1.0,1.0,1.0,1.0,1.1526950362408033,1.1405051985757033,5.23306334967388,3.5079893062113565,1.1486983635075636])                     |0.0  |\n",
       "|(152,[7,57,72,84,93,98,128,137,145,147,148,149,150,151],[1.0,1.0,1.0,1.0,1.0,1.0,1.0,1.0,1.1808095493198474,2.813246156486735,4.281597286096811,4.482430780158955,1.1486983635075636,2.3979574974202857])|1.0  |\n",
       "+---------------------------------------------------------------------------------------------------------------------------------------------------------------------------------------------------------+-----+\n",
       "only showing top 2 rows\n",
       "\n"
      ]
     },
     "metadata": {
      "application/vnd.databricks.v1+output": {
       "addedWidgets": {},
       "arguments": {},
       "data": "+---------------------------------------------------------------------------------------------------------------------------------------------------------------------------------------------------------+-----+\n|features                                                                                                                                                                                                 |label|\n+---------------------------------------------------------------------------------------------------------------------------------------------------------------------------------------------------------+-----+\n|(152,[7,60,65,83,93,115,127,137,145,147,148,149,150],[1.0,1.0,1.0,1.0,1.0,1.0,1.0,1.0,1.1526950362408033,1.1405051985757033,5.23306334967388,3.5079893062113565,1.1486983635075636])                     |0.0  |\n|(152,[7,57,72,84,93,98,128,137,145,147,148,149,150,151],[1.0,1.0,1.0,1.0,1.0,1.0,1.0,1.0,1.1808095493198474,2.813246156486735,4.281597286096811,4.482430780158955,1.1486983635075636,2.3979574974202857])|1.0  |\n+---------------------------------------------------------------------------------------------------------------------------------------------------------------------------------------------------------+-----+\nonly showing top 2 rows\n\n",
       "datasetInfos": [],
       "metadata": {},
       "removedWidgets": [],
       "type": "ansi"
      }
     },
     "output_type": "display_data"
    }
   ],
   "source": [
    "preproc_test = preproc_model.transform(test).select(\"features\", \"label\")\n",
    "preproc_test.show(2, truncate=False)"
   ]
  },
  {
   "cell_type": "markdown",
   "metadata": {
    "application/vnd.databricks.v1+cell": {
     "cellMetadata": {},
     "inputWidgets": {},
     "nuid": "b487cf61-d780-424f-b35c-1c8f0731f8a2",
     "showTitle": false,
     "title": ""
    }
   },
   "source": [
    "## 3.4. Training models\n",
    "\n",
    "**With the binary classification in this project, I used 4 different models: Logistic Regression, Decision Tree, Linear SVC, Gradient-Boosted Tree. In each model, I tried with different hyperparameters.**\n",
    "\n",
    "**The crossvalidation will be used in building models also.**\n",
    "\n",
    "**There are 2 metrics for binary classifcation will be presented below: AreaUnderROC and AreaUnderPR as being suggested from pyspark Binary Classification.**\n",
    "\n",
    "*https://spark.apache.org/docs/latest/api/python/reference/api/pyspark.ml.evaluation.BinaryClassificationEvaluator.html*"
   ]
  },
  {
   "cell_type": "code",
   "execution_count": 0,
   "metadata": {
    "application/vnd.databricks.v1+cell": {
     "cellMetadata": {},
     "inputWidgets": {},
     "nuid": "98107844-ad74-4720-95a6-0dc6b700f1ea",
     "showTitle": false,
     "title": ""
    }
   },
   "outputs": [],
   "source": [
    "from pyspark.ml.classification import LogisticRegression, DecisionTreeClassifier, LinearSVC, GBTClassifier\n",
    "from pyspark.ml.evaluation import BinaryClassificationEvaluator\n",
    "from pyspark.ml.tuning import CrossValidator, CrossValidatorModel, ParamGridBuilder"
   ]
  },
  {
   "cell_type": "markdown",
   "metadata": {},
   "source": [
    "**Model Logistic Regression with different parameters (by grid).**"
   ]
  },
  {
   "cell_type": "code",
   "execution_count": 0,
   "metadata": {
    "application/vnd.databricks.v1+cell": {
     "cellMetadata": {},
     "inputWidgets": {},
     "nuid": "da5da4b1-1aab-4675-96cb-998f5d685e86",
     "showTitle": false,
     "title": ""
    }
   },
   "outputs": [
    {
     "data": {
      "text/plain": [
       "[{Param(parent='LogisticRegression_2310168739e2', name='maxIter', doc='max number of iterations (>= 0).'): 80, Param(parent='LogisticRegression_2310168739e2', name='regParam', doc='regularization parameter (>= 0).'): 0.0, Param(parent='LogisticRegression_2310168739e2', name='elasticNetParam', doc='the ElasticNet mixing parameter, in range [0, 1]. For alpha = 0, the penalty is an L2 penalty. For alpha = 1, it is an L1 penalty.'): 0.0}, {Param(parent='LogisticRegression_2310168739e2', name='maxIter', doc='max number of iterations (>= 0).'): 80, Param(parent='LogisticRegression_2310168739e2', name='regParam', doc='regularization parameter (>= 0).'): 0.0, Param(parent='LogisticRegression_2310168739e2', name='elasticNetParam', doc='the ElasticNet mixing parameter, in range [0, 1]. For alpha = 0, the penalty is an L2 penalty. For alpha = 1, it is an L1 penalty.'): 1.0}, {Param(parent='LogisticRegression_2310168739e2', name='maxIter', doc='max number of iterations (>= 0).'): 80, Param(parent='LogisticRegression_2310168739e2', name='regParam', doc='regularization parameter (>= 0).'): 1.0, Param(parent='LogisticRegression_2310168739e2', name='elasticNetParam', doc='the ElasticNet mixing parameter, in range [0, 1]. For alpha = 0, the penalty is an L2 penalty. For alpha = 1, it is an L1 penalty.'): 0.0}, {Param(parent='LogisticRegression_2310168739e2', name='maxIter', doc='max number of iterations (>= 0).'): 80, Param(parent='LogisticRegression_2310168739e2', name='regParam', doc='regularization parameter (>= 0).'): 1.0, Param(parent='LogisticRegression_2310168739e2', name='elasticNetParam', doc='the ElasticNet mixing parameter, in range [0, 1]. For alpha = 0, the penalty is an L2 penalty. For alpha = 1, it is an L1 penalty.'): 1.0}, {Param(parent='LogisticRegression_2310168739e2', name='maxIter', doc='max number of iterations (>= 0).'): 100, Param(parent='LogisticRegression_2310168739e2', name='regParam', doc='regularization parameter (>= 0).'): 0.0, Param(parent='LogisticRegression_2310168739e2', name='elasticNetParam', doc='the ElasticNet mixing parameter, in range [0, 1]. For alpha = 0, the penalty is an L2 penalty. For alpha = 1, it is an L1 penalty.'): 0.0}, {Param(parent='LogisticRegression_2310168739e2', name='maxIter', doc='max number of iterations (>= 0).'): 100, Param(parent='LogisticRegression_2310168739e2', name='regParam', doc='regularization parameter (>= 0).'): 0.0, Param(parent='LogisticRegression_2310168739e2', name='elasticNetParam', doc='the ElasticNet mixing parameter, in range [0, 1]. For alpha = 0, the penalty is an L2 penalty. For alpha = 1, it is an L1 penalty.'): 1.0}, {Param(parent='LogisticRegression_2310168739e2', name='maxIter', doc='max number of iterations (>= 0).'): 100, Param(parent='LogisticRegression_2310168739e2', name='regParam', doc='regularization parameter (>= 0).'): 1.0, Param(parent='LogisticRegression_2310168739e2', name='elasticNetParam', doc='the ElasticNet mixing parameter, in range [0, 1]. For alpha = 0, the penalty is an L2 penalty. For alpha = 1, it is an L1 penalty.'): 0.0}, {Param(parent='LogisticRegression_2310168739e2', name='maxIter', doc='max number of iterations (>= 0).'): 100, Param(parent='LogisticRegression_2310168739e2', name='regParam', doc='regularization parameter (>= 0).'): 1.0, Param(parent='LogisticRegression_2310168739e2', name='elasticNetParam', doc='the ElasticNet mixing parameter, in range [0, 1]. For alpha = 0, the penalty is an L2 penalty. For alpha = 1, it is an L1 penalty.'): 1.0}]\n",
       "result of cross validation for each combination of parameters (Logistic Regression): [0.9999995534743851, 0.999999558965575, 0.9981417557742007, 0.5, 0.9999994351238518, 0.9999994262780143, 0.9981416528695185, 0.5]\n",
       "Result of linear regression on the test set (area Under ROC) (Logistic Regression): 0.9999992992032725\n",
       "Result of linear regression on the test set (area Under PR) (Logistic Regression): 0.9999975816117964\n"
      ]
     },
     "metadata": {
      "application/vnd.databricks.v1+output": {
       "addedWidgets": {},
       "arguments": {},
       "data": "[{Param(parent='LogisticRegression_2310168739e2', name='maxIter', doc='max number of iterations (>= 0).'): 80, Param(parent='LogisticRegression_2310168739e2', name='regParam', doc='regularization parameter (>= 0).'): 0.0, Param(parent='LogisticRegression_2310168739e2', name='elasticNetParam', doc='the ElasticNet mixing parameter, in range [0, 1]. For alpha = 0, the penalty is an L2 penalty. For alpha = 1, it is an L1 penalty.'): 0.0}, {Param(parent='LogisticRegression_2310168739e2', name='maxIter', doc='max number of iterations (>= 0).'): 80, Param(parent='LogisticRegression_2310168739e2', name='regParam', doc='regularization parameter (>= 0).'): 0.0, Param(parent='LogisticRegression_2310168739e2', name='elasticNetParam', doc='the ElasticNet mixing parameter, in range [0, 1]. For alpha = 0, the penalty is an L2 penalty. For alpha = 1, it is an L1 penalty.'): 1.0}, {Param(parent='LogisticRegression_2310168739e2', name='maxIter', doc='max number of iterations (>= 0).'): 80, Param(parent='LogisticRegression_2310168739e2', name='regParam', doc='regularization parameter (>= 0).'): 1.0, Param(parent='LogisticRegression_2310168739e2', name='elasticNetParam', doc='the ElasticNet mixing parameter, in range [0, 1]. For alpha = 0, the penalty is an L2 penalty. For alpha = 1, it is an L1 penalty.'): 0.0}, {Param(parent='LogisticRegression_2310168739e2', name='maxIter', doc='max number of iterations (>= 0).'): 80, Param(parent='LogisticRegression_2310168739e2', name='regParam', doc='regularization parameter (>= 0).'): 1.0, Param(parent='LogisticRegression_2310168739e2', name='elasticNetParam', doc='the ElasticNet mixing parameter, in range [0, 1]. For alpha = 0, the penalty is an L2 penalty. For alpha = 1, it is an L1 penalty.'): 1.0}, {Param(parent='LogisticRegression_2310168739e2', name='maxIter', doc='max number of iterations (>= 0).'): 100, Param(parent='LogisticRegression_2310168739e2', name='regParam', doc='regularization parameter (>= 0).'): 0.0, Param(parent='LogisticRegression_2310168739e2', name='elasticNetParam', doc='the ElasticNet mixing parameter, in range [0, 1]. For alpha = 0, the penalty is an L2 penalty. For alpha = 1, it is an L1 penalty.'): 0.0}, {Param(parent='LogisticRegression_2310168739e2', name='maxIter', doc='max number of iterations (>= 0).'): 100, Param(parent='LogisticRegression_2310168739e2', name='regParam', doc='regularization parameter (>= 0).'): 0.0, Param(parent='LogisticRegression_2310168739e2', name='elasticNetParam', doc='the ElasticNet mixing parameter, in range [0, 1]. For alpha = 0, the penalty is an L2 penalty. For alpha = 1, it is an L1 penalty.'): 1.0}, {Param(parent='LogisticRegression_2310168739e2', name='maxIter', doc='max number of iterations (>= 0).'): 100, Param(parent='LogisticRegression_2310168739e2', name='regParam', doc='regularization parameter (>= 0).'): 1.0, Param(parent='LogisticRegression_2310168739e2', name='elasticNetParam', doc='the ElasticNet mixing parameter, in range [0, 1]. For alpha = 0, the penalty is an L2 penalty. For alpha = 1, it is an L1 penalty.'): 0.0}, {Param(parent='LogisticRegression_2310168739e2', name='maxIter', doc='max number of iterations (>= 0).'): 100, Param(parent='LogisticRegression_2310168739e2', name='regParam', doc='regularization parameter (>= 0).'): 1.0, Param(parent='LogisticRegression_2310168739e2', name='elasticNetParam', doc='the ElasticNet mixing parameter, in range [0, 1]. For alpha = 0, the penalty is an L2 penalty. For alpha = 1, it is an L1 penalty.'): 1.0}]\nresult of cross validation for each combination of parameters (Logistic Regression): [0.9999995534743851, 0.999999558965575, 0.9981417557742007, 0.5, 0.9999994351238518, 0.9999994262780143, 0.9981416528695185, 0.5]\nResult of linear regression on the test set (area Under ROC) (Logistic Regression): 0.9999992992032725\nResult of linear regression on the test set (area Under PR) (Logistic Regression): 0.9999975816117964\n",
       "datasetInfos": [],
       "metadata": {},
       "removedWidgets": [],
       "type": "ansi"
      }
     },
     "output_type": "display_data"
    }
   ],
   "source": [
    "lr = LogisticRegression()\n",
    "grid = (\n",
    "    ParamGridBuilder()\n",
    "    .addGrid(lr.maxIter, [80, 100])\n",
    "    .addGrid(lr.regParam, [0.0, 1.0])\n",
    "    .addGrid(lr.elasticNetParam, [0.0, 1.0])\n",
    "    .build()\n",
    ")\n",
    "print(grid)\n",
    "evaluator = BinaryClassificationEvaluator()\n",
    "cv = CrossValidator(\n",
    "    estimator=lr,\n",
    "    estimatorParamMaps=grid,\n",
    "    evaluator=evaluator,\n",
    "    parallelism=8,\n",
    "    numFolds=5,\n",
    ")\n",
    "cvModel = cv.fit(preproc_train)\n",
    "\n",
    "print(f\"Result of cross validation for each combination of parameters (Logistic Regression): {cvModel.avgMetrics}\")\n",
    "\n",
    "print(f\"Result of linear regression on the test set (area Under ROC) (Logistic Regression): {evaluator.evaluate(cvModel.transform(preproc_test))}\")\n",
    "\n",
    "print(f\"Result of linear regression on the test set (area Under PR) (Logistic Regression): {evaluator.evaluate(cvModel.transform(preproc_test), {evaluator.metricName: 'areaUnderPR'})}\")\n"
   ]
  },
  {
   "cell_type": "markdown",
   "metadata": {},
   "source": [
    "**Model Decision Tree with different parameters (by grid)**"
   ]
  },
  {
   "cell_type": "code",
   "execution_count": 0,
   "metadata": {
    "application/vnd.databricks.v1+cell": {
     "cellMetadata": {},
     "inputWidgets": {},
     "nuid": "0d539b41-f91c-47cc-a8ae-cde49d6081b7",
     "showTitle": false,
     "title": ""
    }
   },
   "outputs": [
    {
     "data": {
      "text/plain": [
       "[{Param(parent='DecisionTreeClassifier_87cd726e4b43', name='maxDepth', doc='Maximum depth of the tree. (>= 0) E.g., depth 0 means 1 leaf node; depth 1 means 1 internal node + 2 leaf nodes. Must be in range [0, 30].'): 5, Param(parent='DecisionTreeClassifier_87cd726e4b43', name='maxBins', doc='Max number of bins for discretizing continuous features.  Must be >=2 and >= number of categories for any categorical feature.'): 16}, {Param(parent='DecisionTreeClassifier_87cd726e4b43', name='maxDepth', doc='Maximum depth of the tree. (>= 0) E.g., depth 0 means 1 leaf node; depth 1 means 1 internal node + 2 leaf nodes. Must be in range [0, 30].'): 5, Param(parent='DecisionTreeClassifier_87cd726e4b43', name='maxBins', doc='Max number of bins for discretizing continuous features.  Must be >=2 and >= number of categories for any categorical feature.'): 32}, {Param(parent='DecisionTreeClassifier_87cd726e4b43', name='maxDepth', doc='Maximum depth of the tree. (>= 0) E.g., depth 0 means 1 leaf node; depth 1 means 1 internal node + 2 leaf nodes. Must be in range [0, 30].'): 10, Param(parent='DecisionTreeClassifier_87cd726e4b43', name='maxBins', doc='Max number of bins for discretizing continuous features.  Must be >=2 and >= number of categories for any categorical feature.'): 16}, {Param(parent='DecisionTreeClassifier_87cd726e4b43', name='maxDepth', doc='Maximum depth of the tree. (>= 0) E.g., depth 0 means 1 leaf node; depth 1 means 1 internal node + 2 leaf nodes. Must be in range [0, 30].'): 10, Param(parent='DecisionTreeClassifier_87cd726e4b43', name='maxBins', doc='Max number of bins for discretizing continuous features.  Must be >=2 and >= number of categories for any categorical feature.'): 32}]\n",
       "result of cross validation for each combination of parameters (Decision Tree): [1.0, 1.0, 1.0, 1.0]\n",
       "Result of linear regression on the test set (area Under ROC) (Decision Tree): 1.0\n",
       "Result of linear regression on the test set (area Under PR) (Decision Tree): 1.0\n"
      ]
     },
     "metadata": {
      "application/vnd.databricks.v1+output": {
       "addedWidgets": {},
       "arguments": {},
       "data": "[{Param(parent='DecisionTreeClassifier_87cd726e4b43', name='maxDepth', doc='Maximum depth of the tree. (>= 0) E.g., depth 0 means 1 leaf node; depth 1 means 1 internal node + 2 leaf nodes. Must be in range [0, 30].'): 5, Param(parent='DecisionTreeClassifier_87cd726e4b43', name='maxBins', doc='Max number of bins for discretizing continuous features.  Must be >=2 and >= number of categories for any categorical feature.'): 16}, {Param(parent='DecisionTreeClassifier_87cd726e4b43', name='maxDepth', doc='Maximum depth of the tree. (>= 0) E.g., depth 0 means 1 leaf node; depth 1 means 1 internal node + 2 leaf nodes. Must be in range [0, 30].'): 5, Param(parent='DecisionTreeClassifier_87cd726e4b43', name='maxBins', doc='Max number of bins for discretizing continuous features.  Must be >=2 and >= number of categories for any categorical feature.'): 32}, {Param(parent='DecisionTreeClassifier_87cd726e4b43', name='maxDepth', doc='Maximum depth of the tree. (>= 0) E.g., depth 0 means 1 leaf node; depth 1 means 1 internal node + 2 leaf nodes. Must be in range [0, 30].'): 10, Param(parent='DecisionTreeClassifier_87cd726e4b43', name='maxBins', doc='Max number of bins for discretizing continuous features.  Must be >=2 and >= number of categories for any categorical feature.'): 16}, {Param(parent='DecisionTreeClassifier_87cd726e4b43', name='maxDepth', doc='Maximum depth of the tree. (>= 0) E.g., depth 0 means 1 leaf node; depth 1 means 1 internal node + 2 leaf nodes. Must be in range [0, 30].'): 10, Param(parent='DecisionTreeClassifier_87cd726e4b43', name='maxBins', doc='Max number of bins for discretizing continuous features.  Must be >=2 and >= number of categories for any categorical feature.'): 32}]\nresult of cross validation for each combination of parameters (Decision Tree): [1.0, 1.0, 1.0, 1.0]\nResult of linear regression on the test set (area Under ROC) (Decision Tree): 1.0\nResult of linear regression on the test set (area Under PR) (Decision Tree): 1.0\n",
       "datasetInfos": [],
       "metadata": {},
       "removedWidgets": [],
       "type": "ansi"
      }
     },
     "output_type": "display_data"
    }
   ],
   "source": [
    "tree = DecisionTreeClassifier()\n",
    "grid = (\n",
    "    ParamGridBuilder()\n",
    "    .addGrid(tree.maxDepth, [5, 10])\n",
    "    .addGrid(tree.maxBins, [16, 32])\n",
    "    .build()\n",
    ")\n",
    "print(grid)\n",
    "evaluator = BinaryClassificationEvaluator()\n",
    "cv = CrossValidator(\n",
    "    estimator=tree,\n",
    "    estimatorParamMaps=grid,\n",
    "    evaluator=evaluator,\n",
    "    parallelism=8,\n",
    "    numFolds=5,\n",
    ")\n",
    "cvModel = cv.fit(preproc_train)\n",
    "print(f\"Result of cross validation for each combination of parameters (Decision Tree): {cvModel.avgMetrics}\")\n",
    "\n",
    "print(f\"Result of linear regression on the test set (area Under ROC) (Decision Tree): {evaluator.evaluate(cvModel.transform(preproc_test))}\")\n",
    "\n",
    "print(f\"Result of linear regression on the test set (area Under PR) (Decision Tree): {evaluator.evaluate(cvModel.transform(preproc_test), {evaluator.metricName: 'areaUnderPR'})}\")\n"
   ]
  },
  {
   "cell_type": "markdown",
   "metadata": {},
   "source": [
    "**Model Linear SVC with different parameters (by grid)**"
   ]
  },
  {
   "cell_type": "code",
   "execution_count": 0,
   "metadata": {
    "application/vnd.databricks.v1+cell": {
     "cellMetadata": {},
     "inputWidgets": {},
     "nuid": "fddb1124-29af-4b13-a124-83ff458e7965",
     "showTitle": false,
     "title": ""
    }
   },
   "outputs": [
    {
     "data": {
      "text/plain": [
       "[{Param(parent='LinearSVC_9d099c264c26', name='maxIter', doc='max number of iterations (>= 0).'): 50}, {Param(parent='LinearSVC_9d099c264c26', name='maxIter', doc='max number of iterations (>= 0).'): 100}]\n",
       "result of cross validation for each combination of parameters (SVC): [0.9999995257344445, 0.9999994959389837]\n",
       "Result of linear regression on the test set (area Under ROC) (SVC): 0.9999992992032725\n",
       "Result of linear regression on the test set (area Under PR) (SVC): 0.9999975816117964\n"
      ]
     },
     "metadata": {
      "application/vnd.databricks.v1+output": {
       "addedWidgets": {},
       "arguments": {},
       "data": "[{Param(parent='LinearSVC_9d099c264c26', name='maxIter', doc='max number of iterations (>= 0).'): 50}, {Param(parent='LinearSVC_9d099c264c26', name='maxIter', doc='max number of iterations (>= 0).'): 100}]\nresult of cross validation for each combination of parameters (SVC): [0.9999995257344445, 0.9999994959389837]\nResult of linear regression on the test set (area Under ROC) (SVC): 0.9999992992032725\nResult of linear regression on the test set (area Under PR) (SVC): 0.9999975816117964\n",
       "datasetInfos": [],
       "metadata": {},
       "removedWidgets": [],
       "type": "ansi"
      }
     },
     "output_type": "display_data"
    }
   ],
   "source": [
    "SVC = LinearSVC()\n",
    "grid = (\n",
    "    ParamGridBuilder()\n",
    "    .addGrid(SVC.maxIter, [50, 100])\n",
    "    .build()\n",
    ")\n",
    "print(grid)\n",
    "evaluator = BinaryClassificationEvaluator()\n",
    "cv = CrossValidator(\n",
    "    estimator=SVC,\n",
    "    estimatorParamMaps=grid,\n",
    "    evaluator=evaluator,\n",
    "    parallelism=8,\n",
    "    numFolds=5,\n",
    ")\n",
    "cvModel = cv.fit(preproc_train)\n",
    "\n",
    "print(f\"Result of cross validation for each combination of parameters (SVC): {cvModel.avgMetrics}\")\n",
    "\n",
    "print(f\"Result of linear regression on the test set (area Under ROC) (SVC): {evaluator.evaluate(cvModel.transform(preproc_test))}\")\n",
    "\n",
    "print(f\"Result of linear regression on the test set (area Under PR) (SVC): {evaluator.evaluate(cvModel.transform(preproc_test), {evaluator.metricName: 'areaUnderPR'})}\")\n"
   ]
  },
  {
   "cell_type": "markdown",
   "metadata": {},
   "source": [
    "**Model Gradient Boosted Trees with different parameters (by grid)**"
   ]
  },
  {
   "cell_type": "code",
   "execution_count": 0,
   "metadata": {
    "application/vnd.databricks.v1+cell": {
     "cellMetadata": {},
     "inputWidgets": {},
     "nuid": "051b10b3-892c-4dbc-8b1b-7a743845b858",
     "showTitle": false,
     "title": ""
    }
   },
   "outputs": [
    {
     "data": {
      "text/plain": [
       "[{Param(parent='GBTClassifier_d0242e1c8bad', name='maxDepth', doc='Maximum depth of the tree. (>= 0) E.g., depth 0 means 1 leaf node; depth 1 means 1 internal node + 2 leaf nodes. Must be in range [0, 30].'): 5, Param(parent='GBTClassifier_d0242e1c8bad', name='maxBins', doc='Max number of bins for discretizing continuous features.  Must be >=2 and >= number of categories for any categorical feature.'): 16}, {Param(parent='GBTClassifier_d0242e1c8bad', name='maxDepth', doc='Maximum depth of the tree. (>= 0) E.g., depth 0 means 1 leaf node; depth 1 means 1 internal node + 2 leaf nodes. Must be in range [0, 30].'): 5, Param(parent='GBTClassifier_d0242e1c8bad', name='maxBins', doc='Max number of bins for discretizing continuous features.  Must be >=2 and >= number of categories for any categorical feature.'): 32}, {Param(parent='GBTClassifier_d0242e1c8bad', name='maxDepth', doc='Maximum depth of the tree. (>= 0) E.g., depth 0 means 1 leaf node; depth 1 means 1 internal node + 2 leaf nodes. Must be in range [0, 30].'): 10, Param(parent='GBTClassifier_d0242e1c8bad', name='maxBins', doc='Max number of bins for discretizing continuous features.  Must be >=2 and >= number of categories for any categorical feature.'): 16}, {Param(parent='GBTClassifier_d0242e1c8bad', name='maxDepth', doc='Maximum depth of the tree. (>= 0) E.g., depth 0 means 1 leaf node; depth 1 means 1 internal node + 2 leaf nodes. Must be in range [0, 30].'): 10, Param(parent='GBTClassifier_d0242e1c8bad', name='maxBins', doc='Max number of bins for discretizing continuous features.  Must be >=2 and >= number of categories for any categorical feature.'): 32}]\n",
       "Result of cross validation for each combination of parameters (Gradient-Boosted Trees): [1.0, 1.0, 1.0, 1.0]\n",
       "Result of linear regression on the test set (area Under ROC) (Gradient-Boosted Trees): 1.0\n",
       "Result of linear regression on the test set (area Under PR) (Gradient-Boosted Trees): 1.0\n"
      ]
     },
     "metadata": {
      "application/vnd.databricks.v1+output": {
       "addedWidgets": {},
       "arguments": {},
       "data": "[{Param(parent='GBTClassifier_d0242e1c8bad', name='maxDepth', doc='Maximum depth of the tree. (>= 0) E.g., depth 0 means 1 leaf node; depth 1 means 1 internal node + 2 leaf nodes. Must be in range [0, 30].'): 5, Param(parent='GBTClassifier_d0242e1c8bad', name='maxBins', doc='Max number of bins for discretizing continuous features.  Must be >=2 and >= number of categories for any categorical feature.'): 16}, {Param(parent='GBTClassifier_d0242e1c8bad', name='maxDepth', doc='Maximum depth of the tree. (>= 0) E.g., depth 0 means 1 leaf node; depth 1 means 1 internal node + 2 leaf nodes. Must be in range [0, 30].'): 5, Param(parent='GBTClassifier_d0242e1c8bad', name='maxBins', doc='Max number of bins for discretizing continuous features.  Must be >=2 and >= number of categories for any categorical feature.'): 32}, {Param(parent='GBTClassifier_d0242e1c8bad', name='maxDepth', doc='Maximum depth of the tree. (>= 0) E.g., depth 0 means 1 leaf node; depth 1 means 1 internal node + 2 leaf nodes. Must be in range [0, 30].'): 10, Param(parent='GBTClassifier_d0242e1c8bad', name='maxBins', doc='Max number of bins for discretizing continuous features.  Must be >=2 and >= number of categories for any categorical feature.'): 16}, {Param(parent='GBTClassifier_d0242e1c8bad', name='maxDepth', doc='Maximum depth of the tree. (>= 0) E.g., depth 0 means 1 leaf node; depth 1 means 1 internal node + 2 leaf nodes. Must be in range [0, 30].'): 10, Param(parent='GBTClassifier_d0242e1c8bad', name='maxBins', doc='Max number of bins for discretizing continuous features.  Must be >=2 and >= number of categories for any categorical feature.'): 32}]\nResult of cross validation for each combination of parameters (Gradient-Boosted Trees): [1.0, 1.0, 1.0, 1.0]\nResult of linear regression on the test set (area Under ROC) (Gradient-Boosted Trees): 1.0\nResult of linear regression on the test set (area Under PR) (Gradient-Boosted Trees): 1.0\n",
       "datasetInfos": [],
       "metadata": {},
       "removedWidgets": [],
       "type": "ansi"
      }
     },
     "output_type": "display_data"
    }
   ],
   "source": [
    "gbt = GBTClassifier()\n",
    "grid = (\n",
    "    ParamGridBuilder()\n",
    "    .addGrid(gbt.maxDepth, [5, 10])\n",
    "    .addGrid(gbt.maxBins, [16, 32])\n",
    "    .build()\n",
    ")\n",
    "print(grid)\n",
    "evaluator = BinaryClassificationEvaluator()\n",
    "cv = CrossValidator(\n",
    "    estimator=gbt,\n",
    "    estimatorParamMaps=grid,\n",
    "    evaluator=evaluator,\n",
    "    parallelism=8,\n",
    "    numFolds=5,\n",
    ")\n",
    "cvModel = cv.fit(preproc_train)\n",
    "\n",
    "print(f\"Result of cross validation for each combination of parameters (Gradient-Boosted Trees): {cvModel.avgMetrics}\")\n",
    "\n",
    "print(f\"Result of linear regression on the test set (area Under ROC) (Gradient-Boosted Trees): {evaluator.evaluate(cvModel.transform(preproc_test))}\")\n",
    "\n",
    "print(f\"Result of linear regression on the test set (area Under PR) (Gradient-Boosted Trees): {evaluator.evaluate(cvModel.transform(preproc_test), {evaluator.metricName: 'areaUnderPR'})}\")"
   ]
  },
  {
   "cell_type": "markdown",
   "metadata": {
    "application/vnd.databricks.v1+cell": {
     "cellMetadata": {},
     "inputWidgets": {},
     "nuid": "cd34f673-fd2e-402a-9d21-c790143ec4a7",
     "showTitle": false,
     "title": ""
    }
   },
   "source": [
    "### Summary\n",
    "\n",
    "**The purpose of this project (managing to use Apache Spark in creating machine learning pipeline) has been presented. The principal of a machine learning pipeline have been performed by Apache Spark such as:**\n",
    "\n",
    "- Read data\n",
    "\n",
    "- Transform data (extracting features, dealing with missing values, etc)\n",
    "\n",
    "- Exploratory data analysis (EDA)\n",
    "\n",
    "- Build different classification models (LogisticRegression, DecisionTreeClassifier, LinearSVC, GBTClassifier), each model with different parameters (hyperparameters tuning)\n",
    "\n",
    "- Evaluate quality (using cross-validation and train/test split)\n",
    "\n",
    "- Model evaluation (Evaluate different metrics: AreaUnderROC and AreaUnderPR).\n",
    "\n",
    "*In the end, all four models (Logistic Regression, Decision Tree, Linear SVC, Gradient-Boosted Tree) perform well in this dataset. For the other dataset and classification problem, the prediction result can be changed.*"
   ]
  },
  {
   "cell_type": "code",
   "execution_count": null,
   "metadata": {},
   "outputs": [],
   "source": []
  }
 ],
 "metadata": {
  "application/vnd.databricks.v1+notebook": {
   "dashboards": [],
   "language": "python",
   "notebookMetadata": {
    "pythonIndentUnit": 4
   },
   "notebookName": "NGUYEN - Rain in Australia",
   "notebookOrigID": 2226603836924581,
   "widgets": {}
  },
  "kernelspec": {
   "display_name": "Python 3",
   "language": "python",
   "name": "python3"
  },
  "language_info": {
   "codemirror_mode": {
    "name": "ipython",
    "version": 3
   },
   "file_extension": ".py",
   "mimetype": "text/x-python",
   "name": "python",
   "nbconvert_exporter": "python",
   "pygments_lexer": "ipython3",
   "version": "3.8.8"
  }
 },
 "nbformat": 4,
 "nbformat_minor": 1
}
